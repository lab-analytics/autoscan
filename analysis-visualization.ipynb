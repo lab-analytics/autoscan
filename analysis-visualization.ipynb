{
 "cells": [
  {
   "cell_type": "code",
   "execution_count": null,
   "id": "super-oxygen",
   "metadata": {},
   "outputs": [],
   "source": [
    "# preprocessing with dask\n",
    "import os, sys, re, io, pathlib\n",
    "import pandas as pd\n",
    "import hiplot as hip\n",
    "import seaborn as sns\n",
    "import matplotlib.pyplot as plt\n",
    "import numpy as np\n",
    "import itertools\n",
    "\n",
    "idx = pd.IndexSlice\n",
    "buffer = io.StringIO()\n",
    "idx = pd.IndexSlice\n",
    "\n",
    "# define the current path (notebooks in lab_utils)\n",
    "labutilspath = str(pathlib.Path(os.getcwd()).parents[1])\n",
    "sys.path.append(labutilspath)\n",
    "\n",
    "# import the autoscan routines\n",
    "from autoscan import autoscan\n",
    "\n",
    "pp = autoscan.basics(material_info = True)\n",
    "\n",
    "def hip_visualize(df, pcols = None, index = ['family', 'code']):\n",
    "    dp = df.reset_index().loc[:, np.append(index, pcols)]\n",
    "    s = hip.Experiment.from_dataframe(dp)\n",
    "    s.colormap = 'interpolateViridis'\n",
    "    s.display()\n",
    "    return s\n",
    "\n",
    "def ix_before_and_after(ds, index = ['tag', 'subtag'], columns = 'experiment', values = 'ix', mask = None, subset = None):\n",
    "    ds.loc[:, 'ix'] = ds.index.values\n",
    "    if mask is not None:\n",
    "        ds = ds.loc[mask, :]\n",
    "    dx = ds.pivot_table(index = index, \n",
    "                        columns = columns, \n",
    "                        values = values, \n",
    "                        aggfunc = lambda x: [*x])\n",
    "    if subset is not None:\n",
    "        dx = dx.loc[:, subset]\n",
    "    dx.dropna(thresh = 2, inplace = True)\n",
    "\n",
    "    # dp.loc[idx[dx.index[1], :], 'ix']\n",
    "\n",
    "    # get the index of samples with before and after characterization \n",
    "    ix = list(itertools.chain(*dx.apply(lambda x: [*itertools.chain(*[s for s in x if type(s) != float])], axis = 1).values))\n",
    "    return ix\n",
    "\n",
    "def set_spe_style(ax, title = '', xlabel = '', ylabel=''):\n",
    "    plt.sca(ax)\n",
    "    plt.title(title, fontweight = 'bold');\n",
    "    plt.xlabel(xlabel, fontweight = 'bold')\n",
    "    plt.ylabel(ylabel, fontweight = 'bold');\n",
    "    plt.xticks(fontweight = 'bold');\n",
    "    plt.yticks(fontweight = 'bold');\n",
    "    return ax\n",
    "\n",
    "sns.set_context(\"paper\", \n",
    "                rc = {\n",
    "                    \"fontsize\":12,\n",
    "                    'fontweight':'bold',\n",
    "                    \"axes.titlesize\":12,\n",
    "                    \"axes.titleweight\":'bold',\n",
    "                    \"axes.labelsize\":12,\n",
    "                    'axes.labelweight':'bold',\n",
    "                    'xtick.labelsize':12,\n",
    "                    'xtick.labelweight':'bold',\n",
    "                    'ytick.labelsize':12,\n",
    "                    'ytick.labelweight':'bold',\n",
    "                    'legend.frameon':True,\n",
    "                    'legend.fontsize':12,\n",
    "                    'legend.title_fontsize':12,\n",
    "                    'legend.fontweight':'bold',\n",
    "                    'legeld.title_fontweight':'bold',\n",
    "                    'title.fontsize':12\n",
    "                })\n",
    "\n",
    "sns.set_style('darkgrid')"
   ]
  },
  {
   "cell_type": "code",
   "execution_count": null,
   "id": "peripheral-painting",
   "metadata": {},
   "outputs": [],
   "source": [
    "# define paths\n",
    "datapath = '/sandbox/data/autoscan/'\n",
    "vispath = '/sandbox/vis/autoscan/'\n",
    "savepath = datapath\n",
    "datafname = 'autoscan_corrected.h5'\n",
    "\n",
    "datafile = os.path.join(datapath, datafname)\n",
    "figspath = os.path.join(vispath, 'rock_multiphysics_display')"
   ]
  },
  {
   "cell_type": "code",
   "execution_count": null,
   "id": "brown-rebate",
   "metadata": {},
   "outputs": [],
   "source": [
    "# read the data\n",
    "dd = pd.read_hdf(datafile, key = 'data')\n",
    "ds = pd.read_hdf(datafile, key = 'desc')\n",
    "df = ds.join(dd)"
   ]
  },
  {
   "cell_type": "code",
   "execution_count": null,
   "id": "advanced-gasoline",
   "metadata": {},
   "outputs": [],
   "source": [
    "for k,v in {'sandstone':1e3, \"shale\":1e2, 'carbonate':1e3}.items():\n",
    "    ix = df.loc[(df.family == k) & (df.instance == 'before'), 'perm'] > v\n",
    "    fill_val = df.loc[ix.index[ix == False], 'perm'].mean()\n",
    "    df.loc[ix.index[ix == True], 'perm'] = fill_val"
   ]
  },
  {
   "cell_type": "code",
   "execution_count": null,
   "id": "complex-allowance",
   "metadata": {},
   "outputs": [],
   "source": [
    "df_rocks = df.query(\"family != 'metal' & family != 'gemstones'\")\n",
    "df_rocks = df_rocks.sort_values(by = 'instance', ascending = False)"
   ]
  },
  {
   "cell_type": "code",
   "execution_count": null,
   "id": "basic-reaction",
   "metadata": {},
   "outputs": [],
   "source": [
    "# define important columns (categorical and numerical)\n",
    "col_numerical = pp.grid_cols + pp.probe_cols + ['l_max_peak', 'l_min_peak']"
   ]
  },
  {
   "cell_type": "code",
   "execution_count": null,
   "id": "pregnant-suite",
   "metadata": {},
   "outputs": [],
   "source": [
    "# separate the values in another dataframe\n",
    "ix = ix_before_and_after(ds, subset = ['before', 'heat_treatment', 'perf'])\n",
    "df_bna = df.loc[ix, :]"
   ]
  },
  {
   "cell_type": "code",
   "execution_count": null,
   "id": "typical-adaptation",
   "metadata": {},
   "outputs": [],
   "source": [
    "ix = ix_before_and_after(ds, mask = df.perm.isna() == False, subset = ['before', 'heat_treatment', 'perf'])\n",
    "df_perm_bna = df.loc[ix, pp.meta_cols + pp.grid_cols + ['perm']]"
   ]
  },
  {
   "cell_type": "code",
   "execution_count": null,
   "id": "hawaiian-rehabilitation",
   "metadata": {},
   "outputs": [],
   "source": [
    "mask = df.loc[:, pp.mech_cols[::2]].isna().any(axis = 1) == False\n",
    "ix = ix_before_and_after(ds, mask = mask.values, subset = ['before', 'heat_treatment'])\n",
    "df_mech_bna = df.loc[ix, pp.meta_cols + pp.grid_cols + pp.mech_cols + pp.vel_cols]"
   ]
  },
  {
   "cell_type": "code",
   "execution_count": null,
   "id": "hundred-memorial",
   "metadata": {},
   "outputs": [],
   "source": [
    "mask = df.loc[:, pp.ftir_cols].isna().any(axis = 1) == False\n",
    "ix = ix_before_and_after(ds, mask = df.perm.isna() == False, subset = ['before', 'heat_treatment', 'perf'])\n",
    "df_ftir_bna = df.loc[ix, pp.meta_cols + pp.grid_cols + pp.ftir_cols + ['l_max_peak']]"
   ]
  },
  {
   "cell_type": "markdown",
   "id": "available-lemon",
   "metadata": {},
   "source": [
    "# visualization\n",
    "1. hip-plot (again) but with corrected data\n",
    "2. distributions"
   ]
  },
  {
   "cell_type": "code",
   "execution_count": null,
   "id": "diverse-plant",
   "metadata": {},
   "outputs": [],
   "source": [
    "# mech_cols = df.columns[df.columns.str.contains(r'mech[_][a-z]0')].values\n",
    "# mech_cols = ['mech_' + s + '0' for s in ['e', 'k','n']]\n",
    "subset_cols = ['l_max_peak', 'perm'] + pp.mech_cols[::2]"
   ]
  },
  {
   "cell_type": "markdown",
   "id": "cooperative-checkout",
   "metadata": {},
   "source": [
    "## hip\n",
    "### without `e_star`"
   ]
  },
  {
   "cell_type": "code",
   "execution_count": null,
   "id": "spread-lexington",
   "metadata": {},
   "outputs": [],
   "source": [
    "df_before = df.query(\"instance == 'before'\")\n",
    "df_after  = df.query(\"instance == 'after'\")"
   ]
  },
  {
   "cell_type": "code",
   "execution_count": null,
   "id": "temporal-crowd",
   "metadata": {},
   "outputs": [],
   "source": [
    "s = hip_visualize(df_before.dropna(subset = subset_cols), \n",
    "                  pcols = subset_cols, \n",
    "                  index = ['code'])\n",
    "\n",
    "s.to_html(os.path.join(figspath, 'hip_before_ftirmaxloc-perm-and-mechx0.html'));"
   ]
  },
  {
   "cell_type": "code",
   "execution_count": null,
   "id": "valuable-signal",
   "metadata": {},
   "outputs": [],
   "source": [
    "s = hip_visualize(df_after.dropna(subset = subset_cols), \n",
    "                  pcols = subset_cols, \n",
    "                  index = ['code'])\n",
    "\n",
    "s.to_html(os.path.join(figspath, 'hip_after_ftirmaxloc-perm-and-mechx0.html'));"
   ]
  },
  {
   "cell_type": "markdown",
   "id": "ranking-duncan",
   "metadata": {},
   "source": [
    "### with `e_star`\n",
    "the number of samples with impulse hammer measurements are 1/4th of the previous"
   ]
  },
  {
   "cell_type": "code",
   "execution_count": null,
   "id": "filled-closing",
   "metadata": {},
   "outputs": [],
   "source": [
    "subset_cols += ['e_star']"
   ]
  },
  {
   "cell_type": "code",
   "execution_count": null,
   "id": "civil-minister",
   "metadata": {},
   "outputs": [],
   "source": [
    "s = hip_visualize(df_before.dropna(subset = subset_cols), \n",
    "                  pcols = subset_cols, \n",
    "                  index = ['code'])\n",
    "\n",
    "s.to_html(os.path.join(figspath, 'hip_before_ftirmaxloc-perm-and-mechx0-estar.html'));"
   ]
  },
  {
   "cell_type": "code",
   "execution_count": null,
   "id": "acknowledged-marina",
   "metadata": {},
   "outputs": [],
   "source": [
    "s = hip_visualize(df_after.dropna(subset = subset_cols), \n",
    "                  pcols = subset_cols, \n",
    "                  index = ['code'])\n",
    "\n",
    "s.to_html(os.path.join(figspath, 'hip_after_ftirmaxloc-perm-and-mechx0-estar.html'));"
   ]
  },
  {
   "cell_type": "code",
   "execution_count": null,
   "id": "frequent-hybrid",
   "metadata": {},
   "outputs": [],
   "source": [
    "subset_cols = subset_cols[1:-1]"
   ]
  },
  {
   "cell_type": "code",
   "execution_count": null,
   "id": "academic-packaging",
   "metadata": {},
   "outputs": [],
   "source": [
    "s = hip_visualize(df_before.dropna(subset = subset_cols), \n",
    "                  pcols = subset_cols, \n",
    "                  index = ['code'])\n",
    "\n",
    "s.to_html(os.path.join(figspath, 'hip_before_permvel-mechx0.html'));"
   ]
  },
  {
   "cell_type": "code",
   "execution_count": null,
   "id": "piano-animal",
   "metadata": {},
   "outputs": [],
   "source": [
    "s = hip_visualize(df_after.dropna(subset = subset_cols), \n",
    "                  pcols = subset_cols, \n",
    "                  index = ['code'])\n",
    "\n",
    "s.to_html(os.path.join(figspath, 'hip_after_permvel-mechx0.html'));"
   ]
  },
  {
   "cell_type": "code",
   "execution_count": null,
   "id": "considerable-passenger",
   "metadata": {},
   "outputs": [],
   "source": [
    "subset_cols = ['l_max_peak'] + subset_cols[1:]"
   ]
  },
  {
   "cell_type": "code",
   "execution_count": null,
   "id": "approved-worry",
   "metadata": {},
   "outputs": [],
   "source": [
    "s = hip_visualize(df_before.dropna(subset = subset_cols), \n",
    "                  pcols = subset_cols, \n",
    "                  index = ['code'])\n",
    "\n",
    "s.to_html(os.path.join(figspath, 'hip_before_ftirmaxloc-mechx0.html'));"
   ]
  },
  {
   "cell_type": "code",
   "execution_count": null,
   "id": "injured-cruise",
   "metadata": {},
   "outputs": [],
   "source": [
    "s = hip_visualize(df_after.dropna(subset = subset_cols), \n",
    "                  pcols = subset_cols, \n",
    "                  index = ['code'])\n",
    "\n",
    "s.to_html(os.path.join(figspath, 'hip_after_ftirmaxloc-mechx0.html'));"
   ]
  },
  {
   "cell_type": "code",
   "execution_count": null,
   "id": "adverse-virginia",
   "metadata": {},
   "outputs": [],
   "source": [
    "groupby_cols =['code', 'instance']\n",
    "probes = ['perm']\n",
    "subset_cols = groupby_cols + probes"
   ]
  },
  {
   "cell_type": "code",
   "execution_count": null,
   "id": "grateful-prophet",
   "metadata": {},
   "outputs": [],
   "source": [
    "# # df_bna.loc[:, subset_cols].plot(kind = 'kde')\n",
    "# fig, ax = plt.subplots(figsize = (12, 12))\n",
    "# sns.kdeplot(x = 'perm',  hue = 'code', data = df_bna, clip = [0, 500], vertical = True,\n",
    "#             palette = 'viridis', shade = 'fill', ax = ax)\n",
    "# sns.set_style('darkgrid')\n",
    "# plt.title('permeability before');"
   ]
  },
  {
   "cell_type": "code",
   "execution_count": null,
   "id": "structured-whale",
   "metadata": {},
   "outputs": [],
   "source": [
    "ix_perm = df_before.perm.isna() == False\n",
    "df_perm_before = df_before.loc[ix_perm, ['family', 'code', 'perm']]"
   ]
  },
  {
   "cell_type": "code",
   "execution_count": null,
   "id": "entire-sessions",
   "metadata": {},
   "outputs": [],
   "source": [
    "fig, ax = plt.subplots(figsize = (12, 12))\n",
    "sns.stripplot(y = 'perm', x = 'family', hue = 'instance', dodge = True, data = df_rocks, \n",
    "              palette = 'viridis', ax = ax)\n",
    "plt.yscale('log')\n",
    "ax = set_spe_style(ax, title = 'Permeability before & after', xlabel = '', ylabel = 'Permeability (mD)')"
   ]
  },
  {
   "cell_type": "code",
   "execution_count": null,
   "id": "current-spyware",
   "metadata": {},
   "outputs": [],
   "source": [
    "plt.xticks"
   ]
  },
  {
   "cell_type": "code",
   "execution_count": null,
   "id": "consistent-southwest",
   "metadata": {},
   "outputs": [],
   "source": [
    "fig, ax = plt.subplots(figsize = (12, 12))\n",
    "sns.boxplot(x = 'family', y = 'perm', hue = 'instance', data = df_rocks, dodge = True, width = 0.5)\n",
    "plt.yscale('log')"
   ]
  },
  {
   "cell_type": "code",
   "execution_count": null,
   "id": "recognized-christianity",
   "metadata": {},
   "outputs": [],
   "source": [
    "# fig, ax = plt.subplots(figsize = (12, 12))\n",
    "# sns.stripplot(y = 'perm', x = 'family', hue = 'instance', dodge = True, data = df_perm_bna, palette = 'viridis', ax = ax)\n",
    "# plt.yscale('log')\n",
    "# sns.set_style('darkgrid')\n",
    "# plt.title('permeability before & after');\n",
    "# plt.xlabel('')\n",
    "# plt.ylabel('Permeability (mD)')"
   ]
  },
  {
   "cell_type": "code",
   "execution_count": null,
   "id": "ultimate-basket",
   "metadata": {},
   "outputs": [],
   "source": [
    "# fig, ax = plt.subplots(figsize = (12, 12))\n",
    "# sns.boxplot(x = 'family', y = 'perm', hue = 'instance', data = df_perm_bna, dodge = True, width = 0.5)\n",
    "# plt.yscale('log')"
   ]
  },
  {
   "cell_type": "code",
   "execution_count": null,
   "id": "familiar-irish",
   "metadata": {},
   "outputs": [],
   "source": [
    "df_perm_before_clipped = df_perm_before.copy()\n",
    "df_perm_before_clipped.loc[:, 'perm'] = df_perm_before_clipped.perm.clip(lower = 0, upper = 500)"
   ]
  },
  {
   "cell_type": "code",
   "execution_count": null,
   "id": "floating-burlington",
   "metadata": {},
   "outputs": [],
   "source": [
    "fig, ax = plt.subplots(figsize = (12, 12))\n",
    "sns.violinplot(y = 'perm', x = 'code', hue = 'family', data = df_perm_before_clipped, palette = 'viridis', ax = ax)\n",
    "sns.set_style('darkgrid')\n",
    "plt.title('permeability before');"
   ]
  },
  {
   "cell_type": "code",
   "execution_count": null,
   "id": "electric-cleveland",
   "metadata": {},
   "outputs": [],
   "source": [
    "fig, ax = plt.subplots(figsize = (12, 12))\n",
    "sns.boxplot(y = 'perm', x = 'code', hue = 'family', data = df_perm_before_clipped, palette = 'viridis', ax = ax)\n",
    "sns.set_style('darkgrid')\n",
    "plt.title('permeability before');"
   ]
  },
  {
   "cell_type": "code",
   "execution_count": null,
   "id": "stock-income",
   "metadata": {},
   "outputs": [],
   "source": [
    "fig, ax = plt.subplots(figsize = (12, 12))\n",
    "sns.kdeplot(x = 'perm',  hue = 'code', data = df_perm_before_clipped, \n",
    "            palette = 'viridis', shade = 'fill', ax = ax)\n",
    "sns.set_style('darkgrid')\n",
    "plt.title('permeability before');"
   ]
  },
  {
   "cell_type": "code",
   "execution_count": null,
   "id": "satisfied-installation",
   "metadata": {},
   "outputs": [],
   "source": [
    "tags = ds.tag.str.split('_', expand = True)#.apply(lambda x: pp.get_material_density(x))\n",
    "tags[1] = 0.0\n",
    "unique_tags = tags[0].unique()\n",
    "# tags.set_index([0, tags.index], inplace = True)"
   ]
  },
  {
   "cell_type": "code",
   "execution_count": null,
   "id": "polyphonic-composite",
   "metadata": {},
   "outputs": [],
   "source": []
  }
 ],
 "metadata": {
  "kernelspec": {
   "display_name": "Python [conda env:numerics] *",
   "language": "python",
   "name": "conda-env-numerics-py"
  },
  "language_info": {
   "codemirror_mode": {
    "name": "ipython",
    "version": 3
   },
   "file_extension": ".py",
   "mimetype": "text/x-python",
   "name": "python",
   "nbconvert_exporter": "python",
   "pygments_lexer": "ipython3",
   "version": "3.9.1"
  }
 },
 "nbformat": 4,
 "nbformat_minor": 5
}
