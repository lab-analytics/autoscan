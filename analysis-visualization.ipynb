{
 "cells": [
  {
   "cell_type": "code",
   "execution_count": null,
   "id": "after-reception",
   "metadata": {},
   "outputs": [],
   "source": [
    "# preprocessing with dask\n",
    "import os, sys, re, io, pathlib\n",
    "import pandas as pd\n",
    "import hiplot as hip\n",
    "import seaborn as sns\n",
    "import matplotlib.pyplot as plt\n",
    "import numpy as np\n",
    "import itertools\n",
    "\n",
    "idx = pd.IndexSlice\n",
    "buffer = io.StringIO()\n",
    "idx = pd.IndexSlice\n",
    "\n",
    "# define the current path (notebooks in lab_utils)\n",
    "labutilspath = str(pathlib.Path(os.getcwd()).parents[1])\n",
    "sys.path.append(labutilspath)\n",
    "\n",
    "# import the autoscan routines\n",
    "from autoscan import autoscan\n",
    "\n",
    "pp = autoscan.basics(material_info = True)\n",
    "\n",
    "def hip_visualize(df, pcols = None, index = ['family', 'code']):\n",
    "    dp = df.reset_index().loc[:, np.append(index, pcols)]\n",
    "    s = hip.Experiment.from_dataframe(dp)\n",
    "    s.colormap = 'interpolateViridis'\n",
    "    s.display()\n",
    "    return s\n"
   ]
  },
  {
   "cell_type": "code",
   "execution_count": null,
   "id": "revolutionary-complaint",
   "metadata": {},
   "outputs": [],
   "source": [
    "# define paths\n",
    "datapath = '/sandbox/data/autoscan/'\n",
    "vispath = '/sandbox/vis/autoscan/'\n",
    "savepath = datapath\n",
    "datafname = 'autoscan_corrected.h5'\n",
    "\n",
    "datafile = os.path.join(datapath, datafname)\n",
    "figspath = os.path.join(vispath, 'rock_multiphysics_display')"
   ]
  },
  {
   "cell_type": "code",
   "execution_count": null,
   "id": "improving-nigeria",
   "metadata": {},
   "outputs": [],
   "source": [
    "# read the data\n",
    "dd = pd.read_hdf(datafile, key = 'data')\n",
    "ds = pd.read_hdf(datafile, key = 'desc')\n",
    "df = ds.join(dd)"
   ]
  },
  {
   "cell_type": "code",
   "execution_count": null,
   "id": "opposite-evanescence",
   "metadata": {},
   "outputs": [],
   "source": [
    "# define important columns (categorical and numerical)\n",
    "col_numerical = pp.grid_cols + pp.probe_cols + ['l_max_peak', 'l_min_peak']"
   ]
  },
  {
   "cell_type": "code",
   "execution_count": null,
   "id": "balanced-custody",
   "metadata": {},
   "outputs": [],
   "source": [
    "ds.loc[:, 'ix'] = ds.index.values\n",
    "dx = ds.pivot_table(index = ['tag', 'subtag'], \n",
    "                    columns = 'experiment', \n",
    "                    values = 'ix', \n",
    "                    aggfunc = lambda x: [*x]).loc[:, ['before', 'heat_treatment', 'perf']]\n",
    "dx.dropna(thresh = 2, inplace = True)\n",
    "\n",
    "# dp.loc[idx[dx.index[1], :], 'ix']\n",
    "\n",
    "# get the index of samples with before and after characterization \n",
    "ix = list(itertools.chain(*dx.apply(lambda x: [*itertools.chain(*[s for s in x if type(s) != float])], axis = 1).values))\n",
    "\n",
    "# separate the values in another dataframe\n",
    "df_bna = df.loc[ix, :]"
   ]
  },
  {
   "cell_type": "markdown",
   "id": "played-booth",
   "metadata": {},
   "source": [
    "# visualization\n",
    "1. hip-plot (again) but with corrected data\n",
    "2. distributions"
   ]
  },
  {
   "cell_type": "code",
   "execution_count": null,
   "id": "resistant-madagascar",
   "metadata": {},
   "outputs": [],
   "source": [
    "# mech_cols = df.columns[df.columns.str.contains(r'mech[_][a-z]0')].values\n",
    "# mech_cols = ['mech_' + s + '0' for s in ['e', 'k','n']]\n",
    "subset_cols = ['l_max_peak', 'perm'] + pp.mech_cols[::2]\n",
    "print(subset_cols)"
   ]
  },
  {
   "cell_type": "markdown",
   "id": "removable-antarctica",
   "metadata": {},
   "source": [
    "## hip\n",
    "### without `e_star`"
   ]
  },
  {
   "cell_type": "code",
   "execution_count": null,
   "id": "entire-pressing",
   "metadata": {},
   "outputs": [],
   "source": [
    "df_before = df.query(\"instance == 'before'\")\n",
    "df_after  = df.query(\"instance == 'after'\")"
   ]
  },
  {
   "cell_type": "code",
   "execution_count": null,
   "id": "grand-december",
   "metadata": {},
   "outputs": [],
   "source": [
    "s = hip_visualize(df_before.dropna(subset = subset_cols), \n",
    "                  pcols = subset_cols, \n",
    "                  index = ['code'])\n",
    "\n",
    "s.to_html(os.path.join(figspath, 'hip_before_ftirmaxloc-perm-and-mechx0.html'));"
   ]
  },
  {
   "cell_type": "code",
   "execution_count": null,
   "id": "designing-hardware",
   "metadata": {},
   "outputs": [],
   "source": [
    "s = hip_visualize(df_after.dropna(subset = subset_cols), \n",
    "                  pcols = subset_cols, \n",
    "                  index = ['code'])\n",
    "\n",
    "s.to_html(os.path.join(figspath, 'hip_after_ftirmaxloc-perm-and-mechx0.html'));"
   ]
  },
  {
   "cell_type": "markdown",
   "id": "personal-offset",
   "metadata": {},
   "source": [
    "### with `e_star`\n",
    "the number of samples with impulse hammer measurements are 1/4th of the previous"
   ]
  },
  {
   "cell_type": "code",
   "execution_count": null,
   "id": "negative-policy",
   "metadata": {},
   "outputs": [],
   "source": [
    "subset_cols += ['e_star']"
   ]
  },
  {
   "cell_type": "code",
   "execution_count": null,
   "id": "occasional-spray",
   "metadata": {},
   "outputs": [],
   "source": [
    "s = hip_visualize(df_before.dropna(subset = subset_cols), \n",
    "                  pcols = subset_cols, \n",
    "                  index = ['code'])\n",
    "\n",
    "s.to_html(os.path.join(figspath, 'hip_before_ftirmaxloc-perm-and-mechx0-estar.html'));"
   ]
  },
  {
   "cell_type": "code",
   "execution_count": null,
   "id": "thrown-greece",
   "metadata": {},
   "outputs": [],
   "source": [
    "s = hip_visualize(df_after.dropna(subset = subset_cols), \n",
    "                  pcols = subset_cols, \n",
    "                  index = ['code'])\n",
    "\n",
    "s.to_html(os.path.join(figspath, 'hip_after_ftirmaxloc-perm-and-mechx0-estar.html'));"
   ]
  },
  {
   "cell_type": "code",
   "execution_count": null,
   "id": "existing-agriculture",
   "metadata": {},
   "outputs": [],
   "source": [
    "subset_cols = subset_cols[1:-1]"
   ]
  },
  {
   "cell_type": "code",
   "execution_count": null,
   "id": "meaningful-roads",
   "metadata": {},
   "outputs": [],
   "source": [
    "s = hip_visualize(df_before.dropna(subset = subset_cols), \n",
    "                  pcols = subset_cols, \n",
    "                  index = ['code'])\n",
    "\n",
    "s.to_html(os.path.join(figspath, 'hip_before_permvel-mechx0.html'));"
   ]
  },
  {
   "cell_type": "code",
   "execution_count": null,
   "id": "nasty-bracket",
   "metadata": {},
   "outputs": [],
   "source": [
    "s = hip_visualize(df_after.dropna(subset = subset_cols), \n",
    "                  pcols = subset_cols, \n",
    "                  index = ['code'])\n",
    "\n",
    "s.to_html(os.path.join(figspath, 'hip_after_permvel-mechx0.html'));"
   ]
  },
  {
   "cell_type": "code",
   "execution_count": null,
   "id": "collect-moderator",
   "metadata": {},
   "outputs": [],
   "source": [
    "subset_cols = ['l_max_peak'] + subset_cols[1:]"
   ]
  },
  {
   "cell_type": "code",
   "execution_count": null,
   "id": "collectible-europe",
   "metadata": {},
   "outputs": [],
   "source": [
    "s = hip_visualize(df_before.dropna(subset = subset_cols), \n",
    "                  pcols = subset_cols, \n",
    "                  index = ['code'])\n",
    "\n",
    "s.to_html(os.path.join(figspath, 'hip_before_ftirmaxloc-mechx0.html'));"
   ]
  },
  {
   "cell_type": "code",
   "execution_count": null,
   "id": "bacterial-packing",
   "metadata": {},
   "outputs": [],
   "source": [
    "s = hip_visualize(df_after.dropna(subset = subset_cols), \n",
    "                  pcols = subset_cols, \n",
    "                  index = ['code'])\n",
    "\n",
    "s.to_html(os.path.join(figspath, 'hip_after_ftirmaxloc-mechx0.html'));"
   ]
  },
  {
   "cell_type": "code",
   "execution_count": null,
   "id": "explicit-insulation",
   "metadata": {},
   "outputs": [],
   "source": [
    "groupby_cols =['code', 'instance']\n",
    "probes = ['perm']\n",
    "subset_cols = groupby_cols + probes"
   ]
  },
  {
   "cell_type": "code",
   "execution_count": null,
   "id": "every-wellington",
   "metadata": {},
   "outputs": [],
   "source": [
    "# df_bna.perm.clip(lower = 0, upper = 500, inplace = True)\n",
    "df_bna"
   ]
  },
  {
   "cell_type": "code",
   "execution_count": null,
   "id": "changing-lending",
   "metadata": {},
   "outputs": [],
   "source": [
    "fig, ax = plt.subplots(1, 2, figsize = (24, 12))\n",
    "df.loc[:, subset_cols].dropna().groupby('instance').boxplot(by = 'code', column = 'perm', ax = ax);"
   ]
  },
  {
   "cell_type": "code",
   "execution_count": null,
   "id": "ambient-vanilla",
   "metadata": {},
   "outputs": [],
   "source": [
    "# df_bna.loc[:, subset_cols].plot(kind = 'kde')\n",
    "fig, ax = plt.subplots(figsize = (12, 12))\n",
    "sns.kdeplot(x = 'perm',  hue = 'code', data = df_bna, clip = [0, 500], vertical = True,\n",
    "            palette = 'viridis', shade = 'fill', ax = ax)\n",
    "sns.set_style('darkgrid')\n",
    "plt.title('permeability before');"
   ]
  },
  {
   "cell_type": "code",
   "execution_count": null,
   "id": "developmental-keyboard",
   "metadata": {},
   "outputs": [],
   "source": [
    "ix_perm = df_before.perm.isna() == False\n",
    "df_perm_before = df_before.loc[ix_perm, ['family', 'code', 'perm']]"
   ]
  },
  {
   "cell_type": "code",
   "execution_count": null,
   "id": "yellow-mitchell",
   "metadata": {},
   "outputs": [],
   "source": [
    "fig, ax = plt.subplots(figsize = (12, 12))\n",
    "sns.stripplot(y = 'perm', x = 'family', hue = 'code', data = df_perm_before, palette = 'viridis', ax = ax)\n",
    "plt.yscale('log')\n",
    "sns.set_style('darkgrid')\n",
    "plt.title('permeability before');"
   ]
  },
  {
   "cell_type": "code",
   "execution_count": null,
   "id": "hispanic-child",
   "metadata": {},
   "outputs": [],
   "source": [
    "df_perm_before_clipped = df_perm_before.copy()\n",
    "df_perm_before_clipped.loc[:, 'perm'] = df_perm_before_clipped.perm.clip(lower = 0, upper = 500)"
   ]
  },
  {
   "cell_type": "code",
   "execution_count": null,
   "id": "together-puppy",
   "metadata": {},
   "outputs": [],
   "source": [
    "fig, ax = plt.subplots(figsize = (12, 12))\n",
    "sns.violinplot(y = 'perm', x = 'code', hue = 'family', data = df_perm_before_clipped, palette = 'viridis', ax = ax)\n",
    "sns.set_style('darkgrid')\n",
    "plt.title('permeability before');"
   ]
  },
  {
   "cell_type": "code",
   "execution_count": null,
   "id": "devoted-mauritius",
   "metadata": {},
   "outputs": [],
   "source": [
    "fig, ax = plt.subplots(figsize = (12, 12))\n",
    "sns.boxplot(y = 'perm', x = 'code', hue = 'family', data = df_perm_before_clipped, palette = 'viridis', ax = ax)\n",
    "sns.set_style('darkgrid')\n",
    "plt.title('permeability before');"
   ]
  },
  {
   "cell_type": "code",
   "execution_count": null,
   "id": "complete-winner",
   "metadata": {},
   "outputs": [],
   "source": [
    "fig, ax = plt.subplots(figsize = (12, 12))\n",
    "sns.kdeplot(x = 'perm',  hue = 'code', data = df_perm_before_clipped, \n",
    "            palette = 'viridis', shade = 'fill', ax = ax)\n",
    "sns.set_style('darkgrid')\n",
    "plt.title('permeability before');"
   ]
  },
  {
   "cell_type": "code",
   "execution_count": null,
   "id": "functional-manner",
   "metadata": {},
   "outputs": [],
   "source": [
    "tags = ds.tag.str.split('_', expand = True)#.apply(lambda x: pp.get_material_density(x))\n",
    "tags[1] = 0.0\n",
    "unique_tags = tags[0].unique()\n",
    "# tags.set_index([0, tags.index], inplace = True)"
   ]
  },
  {
   "cell_type": "code",
   "execution_count": null,
   "id": "arbitrary-relay",
   "metadata": {},
   "outputs": [],
   "source": []
  }
 ],
 "metadata": {
  "kernelspec": {
   "display_name": "Python [conda env:numerics] *",
   "language": "python",
   "name": "conda-env-numerics-py"
  },
  "language_info": {
   "codemirror_mode": {
    "name": "ipython",
    "version": 3
   },
   "file_extension": ".py",
   "mimetype": "text/x-python",
   "name": "python",
   "nbconvert_exporter": "python",
   "pygments_lexer": "ipython3",
   "version": "3.9.1"
  }
 },
 "nbformat": 4,
 "nbformat_minor": 5
}
