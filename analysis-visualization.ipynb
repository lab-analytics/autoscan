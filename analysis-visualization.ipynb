{
 "cells": [
  {
   "cell_type": "code",
   "execution_count": null,
   "id": "distributed-fleet",
   "metadata": {},
   "outputs": [],
   "source": [
    "# preprocessing with dask\n",
    "import os, sys, re, io, pathlib\n",
    "import pandas as pd\n",
    "import hiplot as hip\n",
    "import seaborn as sns\n",
    "import matplotlib.pyplot as plt\n",
    "import numpy as np\n",
    "import itertools\n",
    "from sklearn.preprocessing import normalize\n",
    "\n",
    "buffer = io.StringIO()\n",
    "idx = pd.IndexSlice\n",
    "\n",
    "# define the current path (notebooks in lab_utils)\n",
    "labutilspath = str(pathlib.Path(os.getcwd()).parents[1])\n",
    "sys.path.append(labutilspath)\n",
    "\n",
    "# import the autoscan routines\n",
    "from autoscan import autoscan\n",
    "\n",
    "pp = autoscan.basics(material_info = True)\n",
    "\n",
    "def hip_visualize(df, pcols = None, index = ['family', 'code']):\n",
    "    dp = df.reset_index().loc[:, np.append(index, pcols)]\n",
    "    s = hip.Experiment.from_dataframe(dp)\n",
    "    s.colormap = 'interpolateViridis'\n",
    "    s.display()\n",
    "    return s\n",
    "\n",
    "def ix_before_and_after(ds, index = ['tag', 'subtag'], columns = 'experiment', values = 'ix', mask = None, subset = None, aggfunc = lambda x: [*x],\n",
    "                        dropna_tresh = 2, chain = True):\n",
    "    ds.loc[:, 'ix'] = ds.index.values\n",
    "    if mask is not None:\n",
    "        ds = ds.loc[mask, :]\n",
    "    dx = ds.pivot_table(index = index, \n",
    "                        columns = columns, \n",
    "                        values = values, \n",
    "                        aggfunc = aggfunc)\n",
    "    if subset is not None:\n",
    "        dx = dx.loc[:, subset]\n",
    "    dx.dropna(thresh = dropna_tresh, inplace = True)\n",
    "\n",
    "    # dp.loc[idx[dx.index[1], :], 'ix']\n",
    "\n",
    "    # get the index of samples with before and after characterization\n",
    "    if chain:\n",
    "        ix = list(itertools.chain(*dx.apply(lambda x: [*itertools.chain(*[s for s in x if type(s) != float])], axis = 1).values))\n",
    "    else:\n",
    "        ix = dx\n",
    "    return ix\n",
    "\n",
    "def set_spe_style(ax, title = '', xlabel = '', ylabel=''):\n",
    "    plt.sca(ax)\n",
    "    plt.title(title, fontweight = 'bold');\n",
    "    plt.xlabel(xlabel, fontweight = 'bold')\n",
    "    plt.ylabel(ylabel, fontweight = 'bold');\n",
    "    plt.xticks(fontweight = 'bold');\n",
    "    plt.yticks(fontweight = 'bold');\n",
    "    return ax\n",
    "\n",
    "rc_dict = {\n",
    "    \"font.size\":12,\n",
    "    'font.weight':'bold',\n",
    "    \"axes.titlesize\":12,\n",
    "    \"axes.titleweight\":'bold',\n",
    "    \"axes.labelsize\":12,\n",
    "    'axes.labelweight':'bold',\n",
    "    'xtick.labelsize':12,\n",
    "    'ytick.labelsize':12,\n",
    "    'legend.frameon':True,\n",
    "    'legend.fontsize':12,\n",
    "    'legend.title_fontsize':12,\n",
    "}\n",
    "\n",
    "sns.set_context(\"paper\", \n",
    "                rc = rc_dict)\n",
    "\n",
    "sns.set(rc = rc_dict)\n",
    "\n",
    "sns.set_style('darkgrid')"
   ]
  },
  {
   "cell_type": "code",
   "execution_count": null,
   "id": "approximate-forward",
   "metadata": {},
   "outputs": [],
   "source": [
    "# define paths\n",
    "datapath = '/sandbox/data/autoscan/'\n",
    "vispath = '/sandbox/vis/autoscan/'\n",
    "savepath = datapath\n",
    "datafname = 'autoscan_corrected.h5'\n",
    "\n",
    "datafile = os.path.join(datapath, datafname)\n",
    "figspath = os.path.join(vispath, 'rock_multiphysics_display')"
   ]
  },
  {
   "cell_type": "code",
   "execution_count": null,
   "id": "horizontal-burke",
   "metadata": {},
   "outputs": [],
   "source": [
    "# read the data\n",
    "dd = pd.read_hdf(datafile, key = 'data')\n",
    "ds = pd.read_hdf(datafile, key = 'desc')\n",
    "df = ds.join(dd)"
   ]
  },
  {
   "cell_type": "code",
   "execution_count": null,
   "id": "enclosed-ontario",
   "metadata": {},
   "outputs": [],
   "source": [
    "for k,v in {'sandstone':1e3, \"shale\":1e2, 'carbonate':1e3}.items():\n",
    "    ix = df.loc[(df.family == k) & (df.instance == 'before'), 'perm'] > v\n",
    "    fill_val = df.loc[ix.index[ix == False], 'perm'].mean()\n",
    "    df.loc[ix.index[ix == True], 'perm'] = fill_val"
   ]
  },
  {
   "cell_type": "code",
   "execution_count": null,
   "id": "infrared-destination",
   "metadata": {},
   "outputs": [],
   "source": [
    "df_rocks = df.query(\"family != 'metal' & family != 'gemstones'\")\n",
    "df_rocks = df_rocks.sort_values(by = 'instance', ascending = False)"
   ]
  },
  {
   "cell_type": "code",
   "execution_count": null,
   "id": "smoking-ghana",
   "metadata": {},
   "outputs": [],
   "source": [
    "# define important columns (categorical and numerical)\n",
    "col_numerical = pp.grid_cols + pp.probe_cols + ['l_max_peak']\n",
    "col_meassmall = subset_cols = ['l_max_peak', 'perm'] + pp.mech_cols[::2] + ['e_star']"
   ]
  },
  {
   "cell_type": "code",
   "execution_count": null,
   "id": "atlantic-static",
   "metadata": {},
   "outputs": [],
   "source": [
    "# separate the values in another dataframe\n",
    "ix = ix_before_and_after(ds, index = 'code', subset = ['before', 'heat_treatment', 'perf'])\n",
    "df_bna = df.loc[ix, :]"
   ]
  },
  {
   "cell_type": "code",
   "execution_count": null,
   "id": "productive-sigma",
   "metadata": {},
   "outputs": [],
   "source": [
    "mask = df.perm.isna() == False\n",
    "ix = ix_before_and_after(ds, mask = mask, subset = ['before', 'heat_treatment', 'perf'])\n",
    "df_perm_bna = df.loc[ix, pp.meta_cols + pp.grid_cols + ['perm']]"
   ]
  },
  {
   "cell_type": "code",
   "execution_count": null,
   "id": "discrete-finding",
   "metadata": {},
   "outputs": [],
   "source": [
    "mask = df.loc[:, pp.mech_cols[::2]].isna().any(axis = 1) == False\n",
    "ix = ix_before_and_after(ds, mask = mask, subset = ['before', 'heat_treatment'])\n",
    "df_mech_bna = df.loc[ix, pp.meta_cols + pp.grid_cols + pp.mech_cols + pp.vel_cols]"
   ]
  },
  {
   "cell_type": "code",
   "execution_count": null,
   "id": "allied-purpose",
   "metadata": {},
   "outputs": [],
   "source": [
    "mask = df.loc[:, pp.ftir_cols].isna().any(axis = 1) == False\n",
    "ix = ix_before_and_after(ds, mask = mask, subset = ['before', 'heat_treatment', 'perf'])\n",
    "df_ftir_bna = df.loc[ix, pp.meta_cols + pp.grid_cols + pp.ftir_cols + ['l_max_peak']]"
   ]
  },
  {
   "cell_type": "markdown",
   "id": "administrative-error",
   "metadata": {},
   "source": [
    "# visualization\n",
    "1. distribution of measurements\n",
    "1. hip-plot \n",
    "2. distributions"
   ]
  },
  {
   "cell_type": "markdown",
   "id": "guilty-humanity",
   "metadata": {},
   "source": [
    "## distribution of samples and measurements "
   ]
  },
  {
   "cell_type": "code",
   "execution_count": null,
   "id": "informative-mistake",
   "metadata": {},
   "outputs": [],
   "source": [
    "cols = {'perm':'perm', 'vp0':'vel_0', 'vp90':'vel_90', 'e_star':'impulse', 'l_max_peak':'ftir'}\n",
    "nsamples = df_rocks.shape[0]\n",
    "df_temp = df_rocks.loc[:, cols.keys()].copy()\n",
    "df_temp = df_temp.join(ds.loc[:, ['family']])\n",
    "df_temp.reset_index(drop = True, inplace = True)\n",
    "df_temp.loc[:, 'ix'] = df_temp.index.values\n",
    "df_temp.loc[:, 'theta'] = (2 * np.pi / nsamples) * df_temp.loc[:, 'ix'].values"
   ]
  },
  {
   "cell_type": "code",
   "execution_count": null,
   "id": "decent-bidding",
   "metadata": {},
   "outputs": [],
   "source": [
    "# df_temp.pivot_table(index  = 'family', values = 'ix', aggfunc = lambda x: len(x))"
   ]
  },
  {
   "cell_type": "code",
   "execution_count": null,
   "id": "adolescent-olive",
   "metadata": {},
   "outputs": [],
   "source": [
    "m = 5\n",
    "for k, v in cols.items():\n",
    "    mask = df_temp.loc[:, [k]].isna().any(axis = 1) == False\n",
    "    dp = ix_before_and_after(df_temp, index = 'ix', mask = mask, \n",
    "                             columns = None, values = [k, 'theta'], aggfunc = lambda x: x, chain = False).loc[:, ['theta']]\n",
    "    df_temp.loc[mask, 'r_' + v] = m\n",
    "    df_temp = df_temp.join(dp, rsuffix = '_' + v)\n",
    "    m += 5\n",
    "nmeasurements = df_temp.loc[:, cols.keys()].count()"
   ]
  },
  {
   "cell_type": "code",
   "execution_count": null,
   "id": "italic-pendant",
   "metadata": {},
   "outputs": [],
   "source": [
    "from matplotlib.projections import PolarAxes\n",
    "import matplotlib._color_data as mcd\n",
    "\n",
    "pi = np.pi\n",
    "ones = np.ones\n",
    "theta = np.arange(1000)*2*pi/1000.\n",
    "r = 30 * ones(nsamples)\n",
    "\n",
    "fig = plt.figure(figsize = (15, 15))\n",
    "ax = fig.add_subplot(111, projection = 'polar')\n",
    "\n",
    "ax.plot(df_temp.theta.values, r, 'c', linewidth = 10, label = 'samples')\n",
    "\n",
    "t = []\n",
    "for k, v in cols.items():\n",
    "    ax.plot(df_temp.loc[:, 'theta_' + v].values, df_temp.loc[:, 'r_' + v].values, linewidth = 10, label = v)\n",
    "    t.append(v + '\\n' + str(nmeasurements[k]))\n",
    "\n",
    "colors = [mcd.XKCD_COLORS[\"xkcd:\" + v] for v in ['beige', 'khaki', 'orange']]\n",
    "for n, f in enumerate(df_temp.family.unique()):\n",
    "    mask = df_temp.family == f\n",
    "    dt = df_temp.loc[:, ['theta']]\n",
    "    dt.loc[mask == False, :] = np.nan\n",
    "    ax.plot(dt.theta.values, 27.5 * ones(nsamples), linewidth = 10, label = f, color = colors[n])\n",
    "\n",
    "ax.set_theta_zero_location(\"W\")\n",
    "ax.set_theta_direction('clockwise')         \n",
    "ax.tick_params(labelleft=True, labelright=False,\n",
    "               labeltop=False, labelbottom=True)\n",
    "\n",
    "plt.yticks([4, 9, 14, 19, 23.9], t, rotation = 60)\n",
    "plt.xticks([0, pi/2, pi, 3 * pi / 2], ['0\\n'+str(nsamples), nsamples//4, nsamples // 2, 3 * nsamples // 4], rotation = 60)\n",
    "\n",
    "trans, _ , _ = ax.get_xaxis_text1_transform(10)\n",
    "ax.text(np.deg2rad(45), -0.05, \"sample #\", transform = trans,\n",
    "        rotation = 45, \n",
    "        ha=\"center\", va=\"center\")\n",
    "\n",
    "ax.text(np.deg2rad(67.5), 0.08, 'rock type', transform = trans, ha = 'center', va = 'center', rotation = 22.5)\n",
    "\n",
    "plt.legend(ncol = 6, markerscale = 0.01, loc = 'lower center', bbox_to_anchor=(0.5, -0.11))\n",
    "\n",
    "plt.savefig(os.path.join(figspath, 'sample_distribution.png'), dpi = 300, bbox_inches = 'tight')\n",
    "plt.show()"
   ]
  },
  {
   "cell_type": "code",
   "execution_count": null,
   "id": "swiss-jefferson",
   "metadata": {},
   "outputs": [],
   "source": [
    "# set pointers to before and after datasets\n",
    "df_before = df.query(\"instance == 'before'\")\n",
    "df_after  = df.query(\"instance == 'after'\")"
   ]
  },
  {
   "cell_type": "markdown",
   "id": "linear-convert",
   "metadata": {
    "tags": []
   },
   "source": [
    "## hiplot: hierarchical data relations"
   ]
  },
  {
   "cell_type": "code",
   "execution_count": null,
   "id": "excess-occasion",
   "metadata": {},
   "outputs": [],
   "source": [
    "# get the subset_cols\n",
    "print('subset cols for hip: %s' %(subset_cols))"
   ]
  },
  {
   "cell_type": "markdown",
   "id": "employed-parcel",
   "metadata": {
    "tags": []
   },
   "source": [
    "### ftir, perm, mech, e_star"
   ]
  },
  {
   "cell_type": "code",
   "execution_count": null,
   "id": "rotary-hayes",
   "metadata": {
    "tags": []
   },
   "outputs": [],
   "source": [
    "s = hip_visualize(df_before.dropna(subset = subset_cols), \n",
    "                  pcols = subset_cols, \n",
    "                  index = ['code'])\n",
    "\n",
    "s.to_html(os.path.join(figspath, 'hip_before_ftirmaxloc-perm-and-mechx0-estar.html'));"
   ]
  },
  {
   "cell_type": "code",
   "execution_count": null,
   "id": "sudden-lawrence",
   "metadata": {
    "tags": []
   },
   "outputs": [],
   "source": [
    "s = hip_visualize(df_after.dropna(subset = subset_cols), \n",
    "                  pcols = subset_cols, \n",
    "                  index = ['code'])\n",
    "\n",
    "s.to_html(os.path.join(figspath, 'hip_after_ftirmaxloc-perm-and-mechx0-estar.html'));"
   ]
  },
  {
   "cell_type": "markdown",
   "id": "rocky-phase",
   "metadata": {},
   "source": [
    "### ftir, perm, and mech"
   ]
  },
  {
   "cell_type": "code",
   "execution_count": null,
   "id": "negative-lightweight",
   "metadata": {},
   "outputs": [],
   "source": [
    "s = hip_visualize(df_before.dropna(subset = subset_cols[:-1]), \n",
    "                  pcols = subset_cols, \n",
    "                  index = ['code'])\n",
    "\n",
    "s.to_html(os.path.join(figspath, 'hip_before_ftirmaxloc-perm-and-mechx0.html'));"
   ]
  },
  {
   "cell_type": "code",
   "execution_count": null,
   "id": "collected-merit",
   "metadata": {},
   "outputs": [],
   "source": [
    "s = hip_visualize(df_after.dropna(subset = subset_cols[:-1]), \n",
    "                  pcols = subset_cols, \n",
    "                  index = ['code'])\n",
    "\n",
    "s.to_html(os.path.join(figspath, 'hip_after_ftirmaxloc-perm-and-mechx0.html'));"
   ]
  },
  {
   "cell_type": "markdown",
   "id": "blocked-timing",
   "metadata": {},
   "source": [
    "### perm and mech"
   ]
  },
  {
   "cell_type": "code",
   "execution_count": null,
   "id": "younger-strand",
   "metadata": {},
   "outputs": [],
   "source": [
    "s = hip_visualize(df_before.dropna(subset = subset_cols[1:-1]), \n",
    "                  pcols = subset_cols, \n",
    "                  index = ['code'])\n",
    "\n",
    "s.to_html(os.path.join(figspath, 'hip_before_permvel-mechx0.html'));"
   ]
  },
  {
   "cell_type": "code",
   "execution_count": null,
   "id": "northern-adventure",
   "metadata": {},
   "outputs": [],
   "source": [
    "s = hip_visualize(df_after.dropna(subset = subset_cols[1:-1]), \n",
    "                  pcols = subset_cols, \n",
    "                  index = ['code'])\n",
    "\n",
    "s.to_html(os.path.join(figspath, 'hip_after_permvel-mechx0.html'));"
   ]
  },
  {
   "cell_type": "markdown",
   "id": "coastal-caution",
   "metadata": {},
   "source": [
    "### ftir and mech"
   ]
  },
  {
   "cell_type": "code",
   "execution_count": null,
   "id": "becoming-science",
   "metadata": {},
   "outputs": [],
   "source": [
    "sc = [subset_cols[0]] +  subset_cols[2:]\n",
    "s = hip_visualize(df_before.dropna(subset = sc), \n",
    "                  pcols = subset_cols, \n",
    "                  index = ['code'])\n",
    "\n",
    "s.to_html(os.path.join(figspath, 'hip_before_ftirmaxloc-mechx0.html'));"
   ]
  },
  {
   "cell_type": "code",
   "execution_count": null,
   "id": "expanded-myrtle",
   "metadata": {},
   "outputs": [],
   "source": [
    "s = hip_visualize(df_after.dropna(subset = sc), \n",
    "                  pcols = subset_cols, \n",
    "                  index = ['code'])\n",
    "\n",
    "s.to_html(os.path.join(figspath, 'hip_after_ftirmaxloc-mechx0.html'));"
   ]
  },
  {
   "cell_type": "code",
   "execution_count": null,
   "id": "amateur-adult",
   "metadata": {},
   "outputs": [],
   "source": [
    "groupby_cols =['code', 'instance']\n",
    "probes = ['perm']\n",
    "subset_cols = groupby_cols + probes"
   ]
  },
  {
   "cell_type": "code",
   "execution_count": null,
   "id": "cheap-chosen",
   "metadata": {},
   "outputs": [],
   "source": [
    "# # df_bna.loc[:, subset_cols].plot(kind = 'kde')\n",
    "# fig, ax = plt.subplots(figsize = (12, 12))\n",
    "# sns.kdeplot(x = 'perm',  hue = 'code', data = df_bna, clip = [0, 500], vertical = True,\n",
    "#             palette = 'viridis', shade = 'fill', ax = ax)\n",
    "# sns.set_style('darkgrid')\n",
    "# plt.title('permeability before');"
   ]
  },
  {
   "cell_type": "code",
   "execution_count": null,
   "id": "possible-album",
   "metadata": {},
   "outputs": [],
   "source": [
    "# ix_perm = df_before.perm.isna() == False\n",
    "# df_perm_before = df_before.loc[ix_perm, ['family', 'code', 'perm']]"
   ]
  },
  {
   "cell_type": "markdown",
   "id": "continental-anaheim",
   "metadata": {
    "tags": []
   },
   "source": [
    "## distributions\n",
    "\n",
    "### permeability"
   ]
  },
  {
   "cell_type": "code",
   "execution_count": null,
   "id": "young-index",
   "metadata": {},
   "outputs": [],
   "source": [
    "# create a temporary store for permeability data and calculate log\n",
    "df_temp = df_rocks.loc[:, ['family', 'instance', 'perm']]\n",
    "df_temp.loc[:, 'log_perm'] = df_temp.perm.apply(np.log10)\n",
    "\n",
    "df_perm_bna.loc[:, 'log_perm'] = df_perm_bna.perm.apply(np.log10)"
   ]
  },
  {
   "cell_type": "markdown",
   "id": "owned-belgium",
   "metadata": {},
   "source": [
    "#### scatter"
   ]
  },
  {
   "cell_type": "code",
   "execution_count": null,
   "id": "experienced-exercise",
   "metadata": {},
   "outputs": [],
   "source": [
    "fig, ax = plt.subplots(figsize = (12, 12))\n",
    "sns.stripplot(y = 'perm', x = 'family', hue = 'instance', dodge = True, data = df_rocks, \n",
    "              palette = 'viridis', ax = ax)\n",
    "plt.yscale('log')\n",
    "ax = set_spe_style(ax, title = 'Permeability before & after', xlabel = '', ylabel = 'Permeability (mD)')\n",
    "plt.savefig(os.path.join(figspath, 'perm_stripplot.png'), dpi = 300, bbox_inches = 'tight')"
   ]
  },
  {
   "cell_type": "markdown",
   "id": "fossil-joyce",
   "metadata": {},
   "source": [
    "#### boxplot"
   ]
  },
  {
   "cell_type": "code",
   "execution_count": null,
   "id": "powerful-creation",
   "metadata": {},
   "outputs": [],
   "source": [
    "fig, ax = plt.subplots(figsize = (12, 12))\n",
    "sns.boxplot(x = 'family', y = 'perm', hue = 'instance', data = df_temp, dodge = True, width = 0.5, palette = 'pastel')\n",
    "plt.yscale('log')\n",
    "ax = set_spe_style(ax, title = 'Permeability before & after', xlabel = '', ylabel = 'Permeability (mD)')"
   ]
  },
  {
   "cell_type": "markdown",
   "id": "extended-circulation",
   "metadata": {},
   "source": [
    "#### violin"
   ]
  },
  {
   "cell_type": "code",
   "execution_count": null,
   "id": "emotional-french",
   "metadata": {},
   "outputs": [],
   "source": [
    "fig, ax = plt.subplots(figsize = (12, 12))\n",
    "sns.violinplot(x = 'family', y = 'log_perm', hue = 'instance', split = True, data = df_temp, scale = 'width', palette = 'pastel', bw = 'scott',\n",
    "               inner = 'quartile')\n",
    "ax = set_spe_style(ax, title = 'Permeability distibution before & after', xlabel = '', ylabel = 'Log$_{10}$ of Permeability (mD)')\n",
    "plt.savefig(os.path.join(figspath, 'perm_violin.png'), dpi = 300, bbox_inches = 'tight')\n",
    "# plt.yscale('log')"
   ]
  },
  {
   "cell_type": "code",
   "execution_count": null,
   "id": "processed-intent",
   "metadata": {},
   "outputs": [],
   "source": [
    "fig, ax = plt.subplots(figsize = (12, 12))\n",
    "sns.pointplot(x=\"instance\", y = \"log_perm\", hue = \"family\", data = df_temp, ax = ax, errwidth = 1, capsize = 0.1)\n",
    "ax = set_spe_style(ax, title = 'Mean of permeability before & after', xlabel = '', ylabel = 'Log$_{10}$ of Permeability (mD)')\n",
    "plt.savefig(os.path.join(figspath, 'perm_pointplot.png'), dpi = 300, bbox_inches = 'tight')"
   ]
  },
  {
   "cell_type": "code",
   "execution_count": null,
   "id": "certain-tiger",
   "metadata": {},
   "outputs": [],
   "source": [
    "fig, ax = plt.subplots(figsize = (12, 12))\n",
    "sns.violinplot(x = 'family', y = 'log_perm', hue = 'instance', split = True, data = df_perm_bna, scale = 'width', palette = 'pastel', bw = 'scott',\n",
    "               inner = 'quartile')\n",
    "ax = set_spe_style(ax, title = 'Permeability distibution before & after', xlabel = '', ylabel = 'Log$_{10}$ of Permeability (mD)')"
   ]
  },
  {
   "cell_type": "markdown",
   "id": "unlike-triumph",
   "metadata": {},
   "source": [
    "### vels"
   ]
  },
  {
   "cell_type": "code",
   "execution_count": null,
   "id": "economic-cycling",
   "metadata": {},
   "outputs": [],
   "source": [
    "# df_temp = df_rocks.loc[:, ['family', 'instance'] +  ]\n",
    "# df_temp.loc[:, 'log_perm'] = df_temp.perm.apply(np.log10)\n",
    "markers = {\"shale\": \"o\", \"sandstone\": \"v\", \"carbonate\":\"s\"}"
   ]
  },
  {
   "cell_type": "markdown",
   "id": "level-groove",
   "metadata": {},
   "source": [
    "#### pairplot: vels "
   ]
  },
  {
   "cell_type": "code",
   "execution_count": null,
   "id": "subjective-ozone",
   "metadata": {},
   "outputs": [],
   "source": [
    "g = sns.pairplot(df_rocks.query(\"instance == 'before'\").loc[:, ['family', 'code'] + pp.vel_cols], hue=\"family\", \n",
    "                 diag_kind = 'kde', corner = True, markers = markers, dropna = True, height = 3)\n",
    "# g.map_lower(sns.kdeplot, levels=4, color=\".2\")\n",
    "plt.savefig(os.path.join(figspath, 'vels_pairplot-before.png'), dpi = 300, bbox_inches = 'tight')"
   ]
  },
  {
   "cell_type": "code",
   "execution_count": null,
   "id": "respected-harris",
   "metadata": {},
   "outputs": [],
   "source": [
    "# # https://catherineh.github.io/programming/2016/05/24/seaborn-pairgrid-tips\n",
    "\n",
    "# replacements = {'sepal_length': r'$\\alpha$', 'sepal_width': 'sepal',\n",
    "#                 'petal_length': r'$\\beta$', 'petal_width': 'petal',\n",
    "#                 'versicolor': 'bloop'}\n",
    "\n",
    "# for i in range(4):\n",
    "#     for j in range(4):\n",
    "#         xlabel = g.axes[i][j].get_xlabel()\n",
    "#         ylabel = g.axes[i][j].get_ylabel()\n",
    "#         if xlabel in replacements.keys():\n",
    "#             g.axes[i][j].set_xlabel(replacements[xlabel])\n",
    "#         if ylabel in replacements.keys():\n",
    "#             g.axes[i][j].set_ylabel(replacements[ylabel])"
   ]
  },
  {
   "cell_type": "code",
   "execution_count": null,
   "id": "honest-xerox",
   "metadata": {},
   "outputs": [],
   "source": [
    "g = sns.pairplot(df_rocks.query(\"instance == 'after'\").loc[:, ['family', 'code'] + pp.vel_cols], hue=\"family\", \n",
    "                 diag_kind = 'kde', corner = True, markers = markers, dropna = True, height = 3)\n",
    "# g.map_lower(sns.kdeplot, levels=4, color=\".2\")\n",
    "plt.savefig(os.path.join(figspath, 'vels_pairplot-after.png'), dpi = 300, bbox_inches = 'tight')"
   ]
  },
  {
   "cell_type": "markdown",
   "id": "hawaiian-publication",
   "metadata": {},
   "source": [
    "#### scatter: velocities"
   ]
  },
  {
   "cell_type": "code",
   "execution_count": null,
   "id": "cardiac-season",
   "metadata": {},
   "outputs": [],
   "source": [
    "# fig, ax = plt.subplots(figsize = (12, 12))\n",
    "# sns.scatterplot(x = 'vp0', y = 'vs0', hue = 'code', style = 'family', data = df_rocks.query(\"instance == 'before'\"), \n",
    "#                 ax = ax, palette = 'deep', markers = markers, legend = 'full')\n",
    "# plt.xscale('log')\n",
    "# plt.yscale('log')"
   ]
  },
  {
   "cell_type": "code",
   "execution_count": null,
   "id": "spiritual-newman",
   "metadata": {},
   "outputs": [],
   "source": [
    "# fig, ax = plt.subplots(figsize = (12, 12))\n",
    "g = sns.jointplot(x = 'vp0', y = 'vs0', hue = 'family', data = df_rocks.query(\"instance == 'before'\"), palette = 'deep', height = 15, space = 0.1)\n",
    "# g.plot_joint(sns.kdeplot, color = 'code', zorder=0, levels=6)\n",
    "g.set_axis_labels('vp$_0$ (m/s)', 'vs$_0$ (m/s)', fontsize = 12, fontweight = 'bold')\n",
    "g.plot_marginals(sns.rugplot, height = .05, clip_on = False)\n",
    "plt.savefig(os.path.join(figspath, 'vels_jointplot-before.png'), dpi = 300, bbox_inches = 'tight')"
   ]
  },
  {
   "cell_type": "code",
   "execution_count": null,
   "id": "prerequisite-playlist",
   "metadata": {},
   "outputs": [],
   "source": [
    "# fig, ax = plt.subplots(figsize = (12, 12))\n",
    "g = sns.jointplot(x = 'vp0', y = 'vs0', hue = 'family', data = df_rocks.query(\"instance == 'after'\"), palette = 'deep', height = 15, space = 0.1)\n",
    "# g.plot_joint(sns.kdeplot, color = 'code', zorder=0, levels=6)\n",
    "g.set_axis_labels('vp$_0$ (m/s)', 'vs$_0$ (m/s)', fontsize = 12, fontweight = 'bold')\n",
    "g.plot_marginals(sns.rugplot, height = .05, clip_on = False)\n",
    "plt.savefig(os.path.join(figspath, 'vels_jointplot-after.png'), dpi = 300, bbox_inches = 'tight')"
   ]
  },
  {
   "cell_type": "markdown",
   "id": "mexican-grenada",
   "metadata": {},
   "source": [
    "#### violin: velocities"
   ]
  },
  {
   "cell_type": "code",
   "execution_count": null,
   "id": "seasonal-mount",
   "metadata": {},
   "outputs": [],
   "source": [
    "fig, ax = plt.subplots(figsize = (12, 12))\n",
    "sns.violinplot(x = 'family', y = 'vp0', hue = 'instance', split = True, data = df_rocks, scale = 'width', palette = 'pastel', bw = 'scott',\n",
    "               inner = 'quartile')\n",
    "ax = set_spe_style(ax, title = 'P-wave velocity, $\\\\theta = 0$, before & after', xlabel = '', ylabel = 'v$_p$(0) (m/s)')\n",
    "plt.savefig(os.path.join(figspath, 'velp_violin.png'), dpi = 300, bbox_inches = 'tight')"
   ]
  },
  {
   "cell_type": "code",
   "execution_count": null,
   "id": "informative-satellite",
   "metadata": {},
   "outputs": [],
   "source": [
    "fig, ax = plt.subplots(figsize = (12, 12))\n",
    "sns.pointplot(x=\"instance\", y = \"vp0\", hue = \"family\", data = df_rocks, ax = ax, errwidth = 1, capsize = 0.1)\n",
    "ax = set_spe_style(ax, title = 'Mean of P-wave velocity, $\\\\theta = 0$, before & after', xlabel = '', ylabel = 'v$_p$(0) (m/s)')\n",
    "plt.savefig(os.path.join(figspath, 'velp_pointplot.png'), dpi = 300, bbox_inches = 'tight')"
   ]
  },
  {
   "cell_type": "code",
   "execution_count": null,
   "id": "apparent-powder",
   "metadata": {},
   "outputs": [],
   "source": [
    "fig, ax = plt.subplots(figsize = (12, 12))\n",
    "sns.violinplot(x = 'family', y = 'vs0', hue = 'instance', split = True, data = df_rocks, scale = 'width', palette = 'pastel', bw = 'scott',\n",
    "               inner = 'quartile')\n",
    "ax = set_spe_style(ax, title = 'S-wave velocity, $\\\\theta = 0$, before & after', xlabel = '', ylabel = 'v$_s$(0) (m/s)')\n",
    "plt.savefig(os.path.join(figspath, 'vels_violin.png'), dpi = 300, bbox_inches = 'tight')"
   ]
  },
  {
   "cell_type": "code",
   "execution_count": null,
   "id": "processed-benefit",
   "metadata": {},
   "outputs": [],
   "source": [
    "fig, ax = plt.subplots(figsize = (12, 12))\n",
    "sns.pointplot(x=\"instance\", y = \"vs0\", hue = \"family\", data = df_rocks, ax = ax, errwidth = 1, capsize = 0.1)\n",
    "ax = set_spe_style(ax, title = 'Mean of S-wave velocity, $\\\\theta = 0$, before & after', xlabel = '', ylabel = 'v$_s$(0) (m/s)')\n",
    "plt.savefig(os.path.join(figspath, 'vels_pointplot.png'), dpi = 300, bbox_inches = 'tight')"
   ]
  },
  {
   "cell_type": "markdown",
   "id": "tracked-champagne",
   "metadata": {},
   "source": [
    "### mech"
   ]
  },
  {
   "cell_type": "code",
   "execution_count": null,
   "id": "inside-paper",
   "metadata": {},
   "outputs": [],
   "source": [
    "mech_cols = pp.mech_cols[::2]"
   ]
  },
  {
   "cell_type": "markdown",
   "id": "lasting-recall",
   "metadata": {},
   "source": [
    "#### pairplot"
   ]
  },
  {
   "cell_type": "code",
   "execution_count": null,
   "id": "stylish-quebec",
   "metadata": {},
   "outputs": [],
   "source": [
    "g = sns.pairplot(df_rocks.query(\"instance == 'before'\").loc[:, ['family', 'code'] + mech_cols], hue=\"family\", \n",
    "                 diag_kind = 'kde', corner = True, markers = markers, dropna = True, height = 3)\n",
    "plt.savefig(os.path.join(figspath, 'mech_pairplot-before.png'), dpi = 300, bbox_inches = 'tight')\n",
    "# g.map_lower(sns.kdeplot, levels=4, color=\".2\")"
   ]
  },
  {
   "cell_type": "code",
   "execution_count": null,
   "id": "million-korean",
   "metadata": {},
   "outputs": [],
   "source": [
    "g = sns.pairplot(df_rocks.query(\"instance == 'after'\").loc[:, ['family', 'code'] + mech_cols], hue=\"family\", \n",
    "                 diag_kind = 'kde', corner = True, markers = markers, dropna = True, height = 3)\n",
    "# g.map_lower(sns.kdeplot, levels=4, color=\".2\")\n",
    "plt.savefig(os.path.join(figspath, 'mech_pairplot-after.png'), dpi = 300, bbox_inches = 'tight')\n"
   ]
  },
  {
   "cell_type": "markdown",
   "id": "congressional-lighter",
   "metadata": {},
   "source": [
    "#### scatter"
   ]
  },
  {
   "cell_type": "code",
   "execution_count": null,
   "id": "useful-commonwealth",
   "metadata": {},
   "outputs": [],
   "source": [
    "g = sns.jointplot(x = 'mech_e0', y = 'mech_k0', hue = 'family', data = df_rocks.query(\"instance == 'before'\"), palette = 'deep', height = 15, space = 0.1)\n",
    "# g.plot_joint(sns.kdeplot, color = 'code', zorder=0, levels=6)\n",
    "g.set_axis_labels('E (GPa)', 'K (GPa)', fontsize = 12, fontweight = 'bold')\n",
    "g.plot_marginals(sns.rugplot, height = .05, clip_on = False)\n",
    "plt.savefig(os.path.join(figspath, 'mech_jointplot-before.png'), dpi = 300, bbox_inches = 'tight')"
   ]
  },
  {
   "cell_type": "code",
   "execution_count": null,
   "id": "measured-penguin",
   "metadata": {},
   "outputs": [],
   "source": [
    "g = sns.jointplot(x = 'mech_e0', y = 'mech_k0', hue = 'family', data = df_rocks.query(\"instance == 'after'\"), palette = 'deep', height = 15, space = 0.1)\n",
    "# g.plot_joint(sns.kdeplot, color = 'code', zorder=0, levels=6)\n",
    "g.set_axis_labels('E (GPa)', 'K (GPa)', fontsize = 12, fontweight = 'bold')\n",
    "g.plot_marginals(sns.rugplot, height = .05, clip_on = False)\n",
    "plt.savefig(os.path.join(figspath, 'mech_jointplot-after.png'), dpi = 300, bbox_inches = 'tight')"
   ]
  },
  {
   "cell_type": "markdown",
   "id": "relative-agreement",
   "metadata": {},
   "source": [
    "#### violin"
   ]
  },
  {
   "cell_type": "code",
   "execution_count": null,
   "id": "involved-importance",
   "metadata": {},
   "outputs": [],
   "source": [
    "fig, ax = plt.subplots(figsize = (12, 12))\n",
    "sns.violinplot(x = 'family', y = 'mech_e0', hue = 'instance', split = True, data = df_rocks, scale = 'width', palette = 'pastel', bw = 'scott',\n",
    "               inner = 'quartile')\n",
    "ax = set_spe_style(ax, title = 'Young\\'s modulus, $\\\\theta = 0$, before & after', xlabel = '', ylabel = 'E(0) (GPa)')\n",
    "plt.savefig(os.path.join(figspath, 'meche_violin.png'), dpi = 300, bbox_inches = 'tight')"
   ]
  },
  {
   "cell_type": "code",
   "execution_count": null,
   "id": "ceramic-rough",
   "metadata": {},
   "outputs": [],
   "source": [
    "fig, ax = plt.subplots(figsize = (12, 12))\n",
    "sns.pointplot(x=\"instance\", y = \"mech_e0\", hue = \"family\", data = df_rocks, ax = ax, errwidth = 1, capsize = 0.1)\n",
    "ax = set_spe_style(ax, title = 'Mean of Young\\'s modulus, $\\\\theta = 0$, before & after', xlabel = '', ylabel = 'E(0) (GPa)')\n",
    "plt.savefig(os.path.join(figspath, 'meche_pointplot.png'), dpi = 300, bbox_inches = 'tight')"
   ]
  },
  {
   "cell_type": "code",
   "execution_count": null,
   "id": "prerequisite-timer",
   "metadata": {},
   "outputs": [],
   "source": [
    "fig, ax = plt.subplots(figsize = (12, 12))\n",
    "sns.violinplot(x = 'family', y = 'mech_k0', hue = 'instance', split = True, data = df_rocks, scale = 'width', palette = 'pastel', bw = 'scott',\n",
    "               inner = 'quartile')\n",
    "ax = set_spe_style(ax, title = 'Bulk modulus, $\\\\theta = 0$, before & after', xlabel = '', ylabel = '$\\\\kappa$(0) (GPa)')\n",
    "plt.savefig(os.path.join(figspath, 'mechk_violin.png'), dpi = 300, bbox_inches = 'tight')"
   ]
  },
  {
   "cell_type": "code",
   "execution_count": null,
   "id": "circular-measurement",
   "metadata": {},
   "outputs": [],
   "source": [
    "fig, ax = plt.subplots(figsize = (12, 12))\n",
    "sns.pointplot(x=\"instance\", y = \"mech_k0\", hue = \"family\", data = df_rocks, ax = ax, errwidth = 1, capsize = 0.1)\n",
    "ax = set_spe_style(ax, title = 'Mean of bulk modulus, $\\\\theta = 0$, before & after', xlabel = '', ylabel = '$\\\\kappa$(0) (GPa)')\n",
    "plt.savefig(os.path.join(figspath, 'mechk_pointplot.png'), dpi = 300, bbox_inches = 'tight')"
   ]
  },
  {
   "cell_type": "code",
   "execution_count": null,
   "id": "cutting-massachusetts",
   "metadata": {},
   "outputs": [],
   "source": [
    "fig, ax = plt.subplots(figsize = (12, 12))\n",
    "sns.violinplot(x = 'family', y = 'mech_n0', hue = 'instance', split = True, data = df_rocks, scale = 'width', palette = 'pastel', bw = 'scott',\n",
    "               inner = 'quartile')\n",
    "ax = set_spe_style(ax, title = 'Poisson ratio, $\\\\theta = 0$, before & after', xlabel = '', ylabel = '$\\\\nu$(0)')\n",
    "plt.savefig(os.path.join(figspath, 'mechn_violin.png'), dpi = 300, bbox_inches = 'tight')"
   ]
  },
  {
   "cell_type": "code",
   "execution_count": null,
   "id": "narrow-guess",
   "metadata": {},
   "outputs": [],
   "source": [
    "fig, ax = plt.subplots(figsize = (12, 12))\n",
    "sns.pointplot(x=\"instance\", y = \"mech_n0\", hue = \"family\", data = df_rocks, ax = ax, errwidth = 1, capsize = 0.1)\n",
    "ax = set_spe_style(ax, title = 'Mean of Poisson ratio, $\\\\theta = 0$, before & after', xlabel = '', ylabel = '$\\\\nu$(0)')\n",
    "plt.savefig(os.path.join(figspath, 'mechn_pointplot.png'), dpi = 300, bbox_inches = 'tight')"
   ]
  },
  {
   "cell_type": "markdown",
   "id": "aquatic-tactics",
   "metadata": {},
   "source": [
    "### ftir (max peak)"
   ]
  },
  {
   "cell_type": "code",
   "execution_count": null,
   "id": "resistant-briefs",
   "metadata": {},
   "outputs": [],
   "source": [
    "fig, ax = plt.subplots(figsize = (12, 12))\n",
    "sns.stripplot(y = 'l_max_peak', x = 'family', hue = 'instance', dodge = True, data = df_rocks, \n",
    "              palette = 'viridis', ax = ax)\n",
    "# plt.yscale('log')\n",
    "ax = set_spe_style(ax, title = 'Wavelength of maximum spectral peak', xlabel = '', ylabel = r'Wavenumber (cm$^{-1}$)')\n",
    "plt.savefig(os.path.join(figspath, 'ftirmaxloc_stripplot.png'), dpi = 300, bbox_inches = 'tight')"
   ]
  },
  {
   "cell_type": "code",
   "execution_count": null,
   "id": "current-reserve",
   "metadata": {},
   "outputs": [],
   "source": [
    "fig, ax = plt.subplots(figsize = (12, 12))\n",
    "sns.violinplot(x = 'family', y = 'l_max_peak', hue = 'instance', split = True, data = df_rocks, scale = 'width', palette = 'pastel', bw = 'scott',\n",
    "               inner = 'quartile')\n",
    "ax = set_spe_style(ax, title = 'DIstribution of wavelength at maximum spectral peak', xlabel = '', ylabel = r'Wavenumber (cm$^{-1}$)')\n",
    "plt.savefig(os.path.join(figspath, 'ftirmaxloc_violin.png'), dpi = 300, bbox_inches = 'tight')"
   ]
  },
  {
   "cell_type": "code",
   "execution_count": null,
   "id": "composite-success",
   "metadata": {},
   "outputs": [],
   "source": [
    "fig, ax = plt.subplots(figsize = (12, 12))\n",
    "sns.pointplot(x=\"instance\", y = \"l_max_peak\", hue = \"family\", data = df_rocks, ax = ax, errwidth = 1, capsize = 0.1)\n",
    "ax = set_spe_style(ax, title = 'Mean of wavelength at maximum spectral peak, before & after', xlabel = '', ylabel = r'Wavenumber (cm$^{-1}$)')\n",
    "plt.savefig(os.path.join(figspath, 'ftirmaxloc_pointplot.png'), dpi = 300, bbox_inches = 'tight')"
   ]
  },
  {
   "cell_type": "code",
   "execution_count": null,
   "id": "impaired-composition",
   "metadata": {},
   "outputs": [],
   "source": [
    "ftir = df_rocks.loc[:, ['family', 'instance'] + pp.ftir_cols].dropna()\n",
    "newcolumns = list(ftir.columns[:2].values) + list(pp.ftir_lambdas)\n",
    "ftir.columns = newcolumns\n",
    "# normalize the input for each sample\n",
    "ftir.iloc[:, 2:] = normalize(ftir.iloc[:, 2:], axis = 1)\n",
    "ftir.sort_values(by = ['family', 'instance'], ascending = [True, False], inplace = True)"
   ]
  },
  {
   "cell_type": "code",
   "execution_count": null,
   "id": "motivated-chick",
   "metadata": {},
   "outputs": [],
   "source": [
    "fig, ax = plt.subplots(figsize = (12, 12))\n",
    "# ftir.shape\n",
    "# ftir.loc[:, 'lambdas'] = np.nan\n",
    "# ftir.loc[pp.ftir_cols, 'lambdas'] = pp.ftir_lambdas\n",
    "sep = 0\n",
    "for n, g in enumerate(ftir.groupby(['family', 'instance'], sort = True)): #.mean().T.plot(figsize = (12, 6))\n",
    "    v =' '.join(g[0])\n",
    "    r = np.mod(n, 2)\n",
    "    if r == 0:\n",
    "        sep += 0.03\n",
    "\n",
    "    mu = g[1].mean() + r * 0.01 +  sep\n",
    "    sd = g[1].std()\n",
    "    ax.plot(mu, label = v)\n",
    "    ax.fill_between(pp.ftir_lambdas, mu - sd, mu + sd, alpha = 0.5)\n",
    "    # ax.plot()\n",
    "    # g[1].iloc[:, 2:] += n\n",
    "    # f = g[1].melt(id_vars = ['family', 'instance'], value_vars = pp.ftir_lambdas)\n",
    "    # sns.lineplot(x = 'variable', y = 'value', data = f)\n",
    "plt.yticks([0.06, 0.09, 0.12], ['carbonate', 'sandstone', 'shale'], rotation = 90)\n",
    "plt.xlabel(r'Wavenumber (cm$^{-1}$)')\n",
    "plt.ylabel('FTIR reflectance (a.u.)')\n",
    "plt.legend(ncol = 3, markerscale = 0.01, loc = 'lower center', bbox_to_anchor=(0.5, -0.17))"
   ]
  },
  {
   "cell_type": "code",
   "execution_count": null,
   "id": "specified-transcription",
   "metadata": {},
   "outputs": [],
   "source": [
    "# f = ftir.melt(id_vars = ['family', 'instance'], value_vars = pp.ftir_lambdas)"
   ]
  },
  {
   "cell_type": "code",
   "execution_count": null,
   "id": "accepted-accessory",
   "metadata": {},
   "outputs": [],
   "source": [
    "# lambda_dict = {k:v for k, v in zip(pp.ftir_cols, pp.ftir_lambdas)}\n",
    "# f.loc[:, 'variable'] = f.variable.apply(lambda x: lambda_dict[x])"
   ]
  },
  {
   "cell_type": "code",
   "execution_count": null,
   "id": "remarkable-genre",
   "metadata": {},
   "outputs": [],
   "source": [
    "# sns.lineplot(x=\"variable\", y=\"value\",\n",
    "#              hue=\"family\", style=\"instance\",\n",
    "#              data=f)\n",
    "fig, ax = plt.subplots(figsize = (12, 12))\n",
    "ax.pcolorfast(ftir.query(\"instance == 'before'\").iloc[:, 2:], cmap = 'viridis')"
   ]
  },
  {
   "cell_type": "code",
   "execution_count": null,
   "id": "affected-winning",
   "metadata": {},
   "outputs": [],
   "source": [
    "# fig, ax = plt.subplots(figsize = (12, 12))\n",
    "# sns.stripplot(y = 'perm', x = 'family', hue = 'instance', dodge = True, data = df_perm_bna, palette = 'viridis', ax = ax)\n",
    "# plt.yscale('log')\n",
    "# sns.set_style('darkgrid')\n",
    "# plt.title('permeability before & after');\n",
    "# plt.xlabel('')\n",
    "# plt.ylabel('Permeability (mD)')"
   ]
  },
  {
   "cell_type": "code",
   "execution_count": null,
   "id": "wanted-portal",
   "metadata": {},
   "outputs": [],
   "source": [
    "# fig, ax = plt.subplots(figsize = (12, 12))\n",
    "# sns.boxplot(x = 'family', y = 'perm', hue = 'instance', data = df_perm_bna, dodge = True, width = 0.5)\n",
    "# plt.yscale('log')"
   ]
  },
  {
   "cell_type": "code",
   "execution_count": null,
   "id": "english-subscriber",
   "metadata": {},
   "outputs": [],
   "source": [
    "# df_perm_before_clipped = df_perm_before.copy()\n",
    "# df_perm_before_clipped.loc[:, 'perm'] = df_perm_before_clipped.perm.clip(lower = 0, upper = 500)"
   ]
  },
  {
   "cell_type": "code",
   "execution_count": null,
   "id": "swedish-greek",
   "metadata": {},
   "outputs": [],
   "source": [
    "# fig, ax = plt.subplots(figsize = (12, 12))\n",
    "# sns.violinplot(y = 'perm', x = 'code', hue = 'family', data = df_perm_before_clipped, palette = 'viridis', ax = ax)\n",
    "# sns.set_style('darkgrid')\n",
    "# plt.title('permeability before');"
   ]
  },
  {
   "cell_type": "code",
   "execution_count": null,
   "id": "disciplinary-trader",
   "metadata": {},
   "outputs": [],
   "source": [
    "# fig, ax = plt.subplots(figsize = (12, 12))\n",
    "# sns.boxplot(y = 'perm', x = 'code', hue = 'family', data = df_perm_before_clipped, palette = 'viridis', ax = ax)\n",
    "# sns.set_style('darkgrid')\n",
    "# plt.title('permeability before');"
   ]
  },
  {
   "cell_type": "code",
   "execution_count": null,
   "id": "union-thanks",
   "metadata": {},
   "outputs": [],
   "source": [
    "# fig, ax = plt.subplots(figsize = (12, 12))\n",
    "# sns.kdeplot(x = 'perm',  hue = 'code', data = df_perm_before_clipped, \n",
    "#             palette = 'viridis', shade = 'fill', ax = ax)\n",
    "# sns.set_style('darkgrid')\n",
    "# plt.title('permeability before');"
   ]
  },
  {
   "cell_type": "code",
   "execution_count": null,
   "id": "classified-pattern",
   "metadata": {},
   "outputs": [],
   "source": [
    "# tags = ds.tag.str.split('_', expand = True)#.apply(lambda x: pp.get_material_density(x))\n",
    "# tags[1] = 0.0\n",
    "# unique_tags = tags[0].unique()\n",
    "# # tags.set_index([0, tags.index], inplace = True)"
   ]
  },
  {
   "cell_type": "code",
   "execution_count": null,
   "id": "horizontal-happening",
   "metadata": {},
   "outputs": [],
   "source": []
  }
 ],
 "metadata": {
  "kernelspec": {
   "display_name": "Python [conda env:numerics] *",
   "language": "python",
   "name": "conda-env-numerics-py"
  },
  "language_info": {
   "codemirror_mode": {
    "name": "ipython",
    "version": 3
   },
   "file_extension": ".py",
   "mimetype": "text/x-python",
   "name": "python",
   "nbconvert_exporter": "python",
   "pygments_lexer": "ipython3",
   "version": "3.9.1"
  }
 },
 "nbformat": 4,
 "nbformat_minor": 5
}
