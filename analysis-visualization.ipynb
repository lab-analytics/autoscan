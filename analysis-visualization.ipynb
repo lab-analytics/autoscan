{
 "cells": [
  {
   "cell_type": "code",
   "execution_count": null,
   "id": "challenging-candidate",
   "metadata": {},
   "outputs": [],
   "source": [
    "# preprocessing with dask\n",
    "import os, sys, re, io, pathlib\n",
    "import pandas as pd\n",
    "import hiplot as hip\n",
    "import seaborn as sns\n",
    "import matplotlib.pyplot as plt\n",
    "import numpy as np\n",
    "import itertools\n",
    "\n",
    "idx = pd.IndexSlice\n",
    "buffer = io.StringIO()\n",
    "idx = pd.IndexSlice\n",
    "\n",
    "# define the current path (notebooks in lab_utils)\n",
    "labutilspath = str(pathlib.Path(os.getcwd()).parents[1])\n",
    "sys.path.append(labutilspath)\n",
    "\n",
    "# import the autoscan routines\n",
    "from autoscan import autoscan\n",
    "\n",
    "pp = autoscan.basics(material_info = True)\n",
    "\n",
    "def hip_visualize(df, pcols = None, index = ['family', 'code']):\n",
    "    dp = df.reset_index().loc[:, np.append(index, pcols)]\n",
    "    s = hip.Experiment.from_dataframe(dp)\n",
    "    s.colormap = 'interpolateViridis'\n",
    "    s.display()\n",
    "    return s\n",
    "\n",
    "def ix_before_and_after(ds, index = ['tag', 'subtag'], columns = 'experiment', values = 'ix', mask = None, subset = None):\n",
    "    ds.loc[:, 'ix'] = ds.index.values\n",
    "    if mask is not None:\n",
    "        ds = ds.loc[mask, :]\n",
    "    dx = ds.pivot_table(index = index, \n",
    "                        columns = columns, \n",
    "                        values = values, \n",
    "                        aggfunc = lambda x: [*x])\n",
    "    if subset is not None:\n",
    "        dx = dx.loc[:, subset]\n",
    "    dx.dropna(thresh = 2, inplace = True)\n",
    "\n",
    "    # dp.loc[idx[dx.index[1], :], 'ix']\n",
    "\n",
    "    # get the index of samples with before and after characterization \n",
    "    ix = list(itertools.chain(*dx.apply(lambda x: [*itertools.chain(*[s for s in x if type(s) != float])], axis = 1).values))\n",
    "    return ix\n",
    "\n",
    "def set_spe_style(ax, title = '', xlabel = '', ylabel=''):\n",
    "    plt.sca(ax)\n",
    "    plt.title(title, fontweight = 'bold');\n",
    "    plt.xlabel(xlabel, fontweight = 'bold')\n",
    "    plt.ylabel(ylabel, fontweight = 'bold');\n",
    "    plt.xticks(fontweight = 'bold');\n",
    "    plt.yticks(fontweight = 'bold');\n",
    "    return ax\n",
    "\n",
    "rc_dict = {\n",
    "    \"font.size\":12,\n",
    "    'font.weight':'bold',\n",
    "    \"axes.titlesize\":12,\n",
    "    \"axes.titleweight\":'bold',\n",
    "    \"axes.labelsize\":12,\n",
    "    'axes.labelweight':'bold',\n",
    "    'xtick.labelsize':12,\n",
    "#     'xtick.labelweight':'bold',\n",
    "    'ytick.labelsize':12,\n",
    "#     'ytick.labelweight':'bold',\n",
    "    'legend.frameon':True,\n",
    "    'legend.fontsize':12,\n",
    "    'legend.title_fontsize':12,\n",
    "#     'legend.fontweight':'bold',\n",
    "#     'legeld.title_fontweight':'bold',\n",
    "#     'title.fontsize':12\n",
    "}\n",
    "\n",
    "sns.set_context(\"paper\", \n",
    "                rc = rc_dict)\n",
    "\n",
    "sns.set(rc = rc_dict)\n",
    "\n",
    "sns.set_style('darkgrid')"
   ]
  },
  {
   "cell_type": "code",
   "execution_count": null,
   "id": "varying-trial",
   "metadata": {},
   "outputs": [],
   "source": [
    "# define paths\n",
    "datapath = '/sandbox/data/autoscan/'\n",
    "vispath = '/sandbox/vis/autoscan/'\n",
    "savepath = datapath\n",
    "datafname = 'autoscan_corrected.h5'\n",
    "\n",
    "datafile = os.path.join(datapath, datafname)\n",
    "figspath = os.path.join(vispath, 'rock_multiphysics_display')"
   ]
  },
  {
   "cell_type": "code",
   "execution_count": null,
   "id": "acting-cherry",
   "metadata": {},
   "outputs": [],
   "source": [
    "# read the data\n",
    "dd = pd.read_hdf(datafile, key = 'data')\n",
    "ds = pd.read_hdf(datafile, key = 'desc')\n",
    "df = ds.join(dd)"
   ]
  },
  {
   "cell_type": "code",
   "execution_count": null,
   "id": "final-doctrine",
   "metadata": {},
   "outputs": [],
   "source": [
    "for k,v in {'sandstone':1e3, \"shale\":1e2, 'carbonate':1e3}.items():\n",
    "    ix = df.loc[(df.family == k) & (df.instance == 'before'), 'perm'] > v\n",
    "    fill_val = df.loc[ix.index[ix == False], 'perm'].mean()\n",
    "    df.loc[ix.index[ix == True], 'perm'] = fill_val"
   ]
  },
  {
   "cell_type": "code",
   "execution_count": null,
   "id": "genetic-snowboard",
   "metadata": {},
   "outputs": [],
   "source": [
    "df_rocks = df.query(\"family != 'metal' & family != 'gemstones'\")\n",
    "df_rocks = df_rocks.sort_values(by = 'instance', ascending = False)"
   ]
  },
  {
   "cell_type": "code",
   "execution_count": null,
   "id": "funny-approval",
   "metadata": {},
   "outputs": [],
   "source": [
    "# define important columns (categorical and numerical)\n",
    "col_numerical = pp.grid_cols + pp.probe_cols + ['l_max_peak']\n",
    "col_meassmall = subset_cols = ['l_max_peak', 'perm'] + pp.mech_cols[::2] + ['e_star']"
   ]
  },
  {
   "cell_type": "code",
   "execution_count": null,
   "id": "intimate-brave",
   "metadata": {},
   "outputs": [],
   "source": [
    "# separate the values in another dataframe\n",
    "ix = ix_before_and_after(ds, index = 'code', subset = ['before', 'heat_treatment', 'perf'])\n",
    "df_bna = df.loc[ix, :]"
   ]
  },
  {
   "cell_type": "code",
   "execution_count": null,
   "id": "roman-wright",
   "metadata": {},
   "outputs": [],
   "source": [
    "mask = df.perm.isna() == False\n",
    "ix = ix_before_and_after(ds, mask = mask, subset = ['before', 'heat_treatment', 'perf'])\n",
    "df_perm_bna = df.loc[ix, pp.meta_cols + pp.grid_cols + ['perm']]"
   ]
  },
  {
   "cell_type": "code",
   "execution_count": null,
   "id": "alternate-stocks",
   "metadata": {},
   "outputs": [],
   "source": [
    "mask = df.loc[:, pp.mech_cols[::2]].isna().any(axis = 1) == False\n",
    "ix = ix_before_and_after(ds, mask = mask, subset = ['before', 'heat_treatment'])\n",
    "df_mech_bna = df.loc[ix, pp.meta_cols + pp.grid_cols + pp.mech_cols + pp.vel_cols]"
   ]
  },
  {
   "cell_type": "code",
   "execution_count": null,
   "id": "about-static",
   "metadata": {},
   "outputs": [],
   "source": [
    "mask = df.loc[:, pp.ftir_cols].isna().any(axis = 1) == False\n",
    "ix = ix_before_and_after(ds, mask = mask, subset = ['before', 'heat_treatment', 'perf'])\n",
    "df_ftir_bna = df.loc[ix, pp.meta_cols + pp.grid_cols + pp.ftir_cols + ['l_max_peak']]"
   ]
  },
  {
   "cell_type": "markdown",
   "id": "signed-budapest",
   "metadata": {
    "tags": []
   },
   "source": [
    "# visualization\n",
    "1. hip-plot (again) but with corrected data\n",
    "2. distributions"
   ]
  },
  {
   "cell_type": "code",
   "execution_count": null,
   "id": "opposite-reduction",
   "metadata": {},
   "outputs": [],
   "source": [
    "# set pointers to before and after datasets\n",
    "df_before = df.query(\"instance == 'before'\")\n",
    "df_after  = df.query(\"instance == 'after'\")"
   ]
  },
  {
   "cell_type": "markdown",
   "id": "bibliographic-gasoline",
   "metadata": {
    "tags": []
   },
   "source": [
    "## hiplot: hierarchical data relations"
   ]
  },
  {
   "cell_type": "code",
   "execution_count": null,
   "id": "later-birthday",
   "metadata": {},
   "outputs": [],
   "source": [
    "# get the subset_cols\n",
    "print('subset cols for hip: %s' %(subset_cols))"
   ]
  },
  {
   "cell_type": "markdown",
   "id": "three-forest",
   "metadata": {
    "tags": []
   },
   "source": [
    "### ftir, perm, mech, e_star"
   ]
  },
  {
   "cell_type": "code",
   "execution_count": null,
   "id": "confident-establishment",
   "metadata": {
    "tags": []
   },
   "outputs": [],
   "source": [
    "s = hip_visualize(df_before.dropna(subset = subset_cols), \n",
    "                  pcols = subset_cols, \n",
    "                  index = ['code'])\n",
    "\n",
    "s.to_html(os.path.join(figspath, 'hip_before_ftirmaxloc-perm-and-mechx0-estar.html'));"
   ]
  },
  {
   "cell_type": "code",
   "execution_count": null,
   "id": "welsh-airfare",
   "metadata": {
    "tags": []
   },
   "outputs": [],
   "source": [
    "s = hip_visualize(df_after.dropna(subset = subset_cols), \n",
    "                  pcols = subset_cols, \n",
    "                  index = ['code'])\n",
    "\n",
    "s.to_html(os.path.join(figspath, 'hip_after_ftirmaxloc-perm-and-mechx0-estar.html'));"
   ]
  },
  {
   "cell_type": "markdown",
   "id": "lesbian-garbage",
   "metadata": {},
   "source": [
    "### ftir, perm, and mech"
   ]
  },
  {
   "cell_type": "code",
   "execution_count": null,
   "id": "egyptian-excess",
   "metadata": {},
   "outputs": [],
   "source": [
    "s = hip_visualize(df_before.dropna(subset = subset_cols[:-1]), \n",
    "                  pcols = subset_cols, \n",
    "                  index = ['code'])\n",
    "\n",
    "s.to_html(os.path.join(figspath, 'hip_before_ftirmaxloc-perm-and-mechx0.html'));"
   ]
  },
  {
   "cell_type": "code",
   "execution_count": null,
   "id": "agreed-sewing",
   "metadata": {},
   "outputs": [],
   "source": [
    "s = hip_visualize(df_after.dropna(subset = subset_cols[:-1]), \n",
    "                  pcols = subset_cols, \n",
    "                  index = ['code'])\n",
    "\n",
    "s.to_html(os.path.join(figspath, 'hip_after_ftirmaxloc-perm-and-mechx0.html'));"
   ]
  },
  {
   "cell_type": "markdown",
   "id": "subjective-remains",
   "metadata": {},
   "source": [
    "### perm and mech"
   ]
  },
  {
   "cell_type": "code",
   "execution_count": null,
   "id": "nervous-bryan",
   "metadata": {},
   "outputs": [],
   "source": [
    "s = hip_visualize(df_before.dropna(subset = subset_cols[1:-1]), \n",
    "                  pcols = subset_cols, \n",
    "                  index = ['code'])\n",
    "\n",
    "s.to_html(os.path.join(figspath, 'hip_before_permvel-mechx0.html'));"
   ]
  },
  {
   "cell_type": "code",
   "execution_count": null,
   "id": "sexual-superior",
   "metadata": {},
   "outputs": [],
   "source": [
    "s = hip_visualize(df_after.dropna(subset = subset_cols[1:-1]), \n",
    "                  pcols = subset_cols, \n",
    "                  index = ['code'])\n",
    "\n",
    "s.to_html(os.path.join(figspath, 'hip_after_permvel-mechx0.html'));"
   ]
  },
  {
   "cell_type": "markdown",
   "id": "uniform-jumping",
   "metadata": {},
   "source": [
    "### ftir and mech"
   ]
  },
  {
   "cell_type": "code",
   "execution_count": null,
   "id": "contemporary-duplicate",
   "metadata": {},
   "outputs": [],
   "source": [
    "sc = [subset_cols[0]] +  subset_cols[2:]\n",
    "s = hip_visualize(df_before.dropna(subset = sc), \n",
    "                  pcols = subset_cols, \n",
    "                  index = ['code'])\n",
    "\n",
    "s.to_html(os.path.join(figspath, 'hip_before_ftirmaxloc-mechx0.html'));"
   ]
  },
  {
   "cell_type": "code",
   "execution_count": null,
   "id": "surface-sucking",
   "metadata": {},
   "outputs": [],
   "source": [
    "s = hip_visualize(df_after.dropna(subset = sc), \n",
    "                  pcols = subset_cols, \n",
    "                  index = ['code'])\n",
    "\n",
    "s.to_html(os.path.join(figspath, 'hip_after_ftirmaxloc-mechx0.html'));"
   ]
  },
  {
   "cell_type": "code",
   "execution_count": null,
   "id": "australian-debate",
   "metadata": {},
   "outputs": [],
   "source": [
    "groupby_cols =['code', 'instance']\n",
    "probes = ['perm']\n",
    "subset_cols = groupby_cols + probes"
   ]
  },
  {
   "cell_type": "code",
   "execution_count": null,
   "id": "concerned-standard",
   "metadata": {},
   "outputs": [],
   "source": [
    "# # df_bna.loc[:, subset_cols].plot(kind = 'kde')\n",
    "# fig, ax = plt.subplots(figsize = (12, 12))\n",
    "# sns.kdeplot(x = 'perm',  hue = 'code', data = df_bna, clip = [0, 500], vertical = True,\n",
    "#             palette = 'viridis', shade = 'fill', ax = ax)\n",
    "# sns.set_style('darkgrid')\n",
    "# plt.title('permeability before');"
   ]
  },
  {
   "cell_type": "code",
   "execution_count": null,
   "id": "lyric-spencer",
   "metadata": {},
   "outputs": [],
   "source": [
    "# ix_perm = df_before.perm.isna() == False\n",
    "# df_perm_before = df_before.loc[ix_perm, ['family', 'code', 'perm']]"
   ]
  },
  {
   "cell_type": "markdown",
   "id": "peaceful-accountability",
   "metadata": {
    "tags": []
   },
   "source": [
    "## distributions\n",
    "\n",
    "### permeability"
   ]
  },
  {
   "cell_type": "code",
   "execution_count": null,
   "id": "superior-tobago",
   "metadata": {},
   "outputs": [],
   "source": [
    "# create a temporary store for permeability data and calculate log\n",
    "df_temp = df_rocks.loc[:, ['family', 'instance', 'perm']]\n",
    "df_temp.loc[:, 'log_perm'] = df_temp.perm.apply(np.log10)"
   ]
  },
  {
   "cell_type": "markdown",
   "id": "cubic-restaurant",
   "metadata": {},
   "source": [
    "#### scatter"
   ]
  },
  {
   "cell_type": "code",
   "execution_count": null,
   "id": "spare-financing",
   "metadata": {},
   "outputs": [],
   "source": [
    "fig, ax = plt.subplots(figsize = (12, 12))\n",
    "sns.stripplot(y = 'perm', x = 'family', hue = 'instance', dodge = True, data = df_rocks, \n",
    "              palette = 'viridis', ax = ax)\n",
    "plt.yscale('log')\n",
    "ax = set_spe_style(ax, title = 'Permeability before & after', xlabel = '', ylabel = 'Permeability (mD)')"
   ]
  },
  {
   "cell_type": "markdown",
   "id": "religious-perfume",
   "metadata": {},
   "source": [
    "#### boxplot"
   ]
  },
  {
   "cell_type": "code",
   "execution_count": null,
   "id": "hydraulic-virus",
   "metadata": {},
   "outputs": [],
   "source": [
    "fig, ax = plt.subplots(figsize = (12, 12))\n",
    "sns.boxplot(x = 'family', y = 'perm', hue = 'instance', data = df_temp, dodge = True, width = 0.5, palette = 'pastel')\n",
    "plt.yscale('log')\n",
    "ax = set_spe_style(ax, title = 'Permeability before & after', xlabel = '', ylabel = 'Permeability (mD)')"
   ]
  },
  {
   "cell_type": "markdown",
   "id": "genuine-glance",
   "metadata": {},
   "source": [
    "#### violin"
   ]
  },
  {
   "cell_type": "code",
   "execution_count": null,
   "id": "allied-queensland",
   "metadata": {},
   "outputs": [],
   "source": [
    "fig, ax = plt.subplots(figsize = (12, 12))\n",
    "sns.violinplot(x = 'family', y = 'log_perm', hue = 'instance', split = True, data = df_temp, scale = 'width', palette = 'pastel', bw = 'scott',\n",
    "               inner = 'quartile')\n",
    "ax = set_spe_style(ax, title = 'Permeability distibution before & after', xlabel = '', ylabel = 'Log$_{10}$ of Permeability (mD)')\n",
    "# plt.yscale('log')"
   ]
  },
  {
   "cell_type": "markdown",
   "id": "listed-bahamas",
   "metadata": {},
   "source": [
    "### vels"
   ]
  },
  {
   "cell_type": "code",
   "execution_count": null,
   "id": "returning-salad",
   "metadata": {},
   "outputs": [],
   "source": [
    "# df_temp = df_rocks.loc[:, ['family', 'instance'] +  ]\n",
    "# df_temp.loc[:, 'log_perm'] = df_temp.perm.apply(np.log10)\n",
    "markers = {\"shale\": \"o\", \"sandstone\": \"v\", \"carbonate\":\"s\"}"
   ]
  },
  {
   "cell_type": "markdown",
   "id": "offensive-crack",
   "metadata": {},
   "source": [
    "#### pairplot: vels "
   ]
  },
  {
   "cell_type": "code",
   "execution_count": null,
   "id": "directed-control",
   "metadata": {},
   "outputs": [],
   "source": [
    "g = sns.pairplot(df_rocks.query(\"instance == 'before'\").loc[:, ['family', 'code'] + pp.vel_cols], hue=\"family\", \n",
    "                 diag_kind = 'kde', corner = True, markers = markers, palette = 'viridis', dropna = True, height = 3)\n",
    "g.map_lower(sns.kdeplot, levels=4, color=\".2\")"
   ]
  },
  {
   "cell_type": "code",
   "execution_count": null,
   "id": "other-queen",
   "metadata": {},
   "outputs": [],
   "source": [
    "# https://catherineh.github.io/programming/2016/05/24/seaborn-pairgrid-tips\n",
    "\n",
    "replacements = {'sepal_length': r'$\\alpha$', 'sepal_width': 'sepal',\n",
    "                'petal_length': r'$\\beta$', 'petal_width': 'petal',\n",
    "                'versicolor': 'bloop'}\n",
    "\n",
    "for i in range(4):\n",
    "    for j in range(4):\n",
    "        xlabel = g.axes[i][j].get_xlabel()\n",
    "        ylabel = g.axes[i][j].get_ylabel()\n",
    "        if xlabel in replacements.keys():\n",
    "            g.axes[i][j].set_xlabel(replacements[xlabel])\n",
    "        if ylabel in replacements.keys():\n",
    "            g.axes[i][j].set_ylabel(replacements[ylabel])"
   ]
  },
  {
   "cell_type": "code",
   "execution_count": null,
   "id": "adjacent-handle",
   "metadata": {},
   "outputs": [],
   "source": [
    "g = sns.pairplot(df_rocks.query(\"instance == 'after'\").loc[:, ['family', 'code'] + pp.vel_cols], hue=\"family\", \n",
    "                 diag_kind = 'kde', corner = True, markers = markers, palette = 'viridis', dropna = True, height = 3)\n",
    "g.map_lower(sns.kdeplot, levels=4, color=\".2\")"
   ]
  },
  {
   "cell_type": "markdown",
   "id": "square-trust",
   "metadata": {},
   "source": [
    "#### scatter: velocities"
   ]
  },
  {
   "cell_type": "code",
   "execution_count": null,
   "id": "fiscal-leonard",
   "metadata": {},
   "outputs": [],
   "source": [
    "# fig, ax = plt.subplots(figsize = (12, 12))\n",
    "# sns.scatterplot(x = 'vp0', y = 'vs0', hue = 'code', style = 'family', data = df_rocks.query(\"instance == 'before'\"), \n",
    "#                 ax = ax, palette = 'deep', markers = markers, legend = 'full')\n",
    "# plt.xscale('log')\n",
    "# plt.yscale('log')"
   ]
  },
  {
   "cell_type": "code",
   "execution_count": null,
   "id": "round-lying",
   "metadata": {},
   "outputs": [],
   "source": [
    "# fig, ax = plt.subplots(figsize = (12, 12))\n",
    "g = sns.jointplot(x = 'vp0', y = 'vs0', hue = 'family', data = df_rocks.query(\"instance == 'before'\"), palette = 'deep', height = 15, space = 0.1)\n",
    "g.plot_joint(sns.kdeplot, color = 'code', zorder=0, levels=6)\n",
    "g.set_axis_labels('vp$_0$ (m/s)', 'vs$_0$ (m/s)', fontsize = 12, fontweight = 'bold')\n",
    "g.plot_marginals(sns.rugplot, height = .05, clip_on = False)"
   ]
  },
  {
   "cell_type": "code",
   "execution_count": null,
   "id": "domestic-wesley",
   "metadata": {},
   "outputs": [],
   "source": [
    "# fig, ax = plt.subplots(figsize = (12, 12))\n",
    "g = sns.jointplot(x = 'vp0', y = 'vs0', hue = 'family', data = df_rocks.query(\"instance == 'after'\"), palette = 'deep', height = 15, space = 0.1)\n",
    "# g.plot_joint(sns.kdeplot, color = 'code', zorder=0, levels=6)\n",
    "g.set_axis_labels('vp$_0$ (m/s)', 'vs$_0$ (m/s)', fontsize = 12, fontweight = 'bold')\n",
    "g.plot_marginals(sns.rugplot, height = .05, clip_on = False)"
   ]
  },
  {
   "cell_type": "markdown",
   "id": "superb-sucking",
   "metadata": {},
   "source": [
    "#### violin: velocities"
   ]
  },
  {
   "cell_type": "code",
   "execution_count": null,
   "id": "respective-mission",
   "metadata": {},
   "outputs": [],
   "source": [
    "fig, ax = plt.subplots(figsize = (12, 12))\n",
    "sns.violinplot(x = 'family', y = 'vp0', hue = 'instance', split = True, data = df_rocks, scale = 'width', palette = 'pastel', bw = 'scott',\n",
    "               inner = 'quartile')\n",
    "ax = set_spe_style(ax, title = 'P-wave velocity, $\\\\theta = 0$, before & after', xlabel = '', ylabel = 'v$_p$(0) (m/s)')"
   ]
  },
  {
   "cell_type": "code",
   "execution_count": null,
   "id": "smaller-twenty",
   "metadata": {},
   "outputs": [],
   "source": [
    "fig, ax = plt.subplots(figsize = (12, 12))\n",
    "sns.violinplot(x = 'family', y = 'vs0', hue = 'instance', split = True, data = df_rocks, scale = 'width', palette = 'pastel', bw = 'scott',\n",
    "               inner = 'quartile')\n",
    "ax = set_spe_style(ax, title = 'S-wave velocity, $\\\\theta = 0$, before & after', xlabel = '', ylabel = 'v$_s$(0) (m/s)')"
   ]
  },
  {
   "cell_type": "markdown",
   "id": "ceramic-great",
   "metadata": {},
   "source": [
    "### mech"
   ]
  },
  {
   "cell_type": "code",
   "execution_count": null,
   "id": "direct-microphone",
   "metadata": {},
   "outputs": [],
   "source": [
    "mech_cols = pp.mech_cols[::2]"
   ]
  },
  {
   "cell_type": "markdown",
   "id": "welcome-homework",
   "metadata": {},
   "source": [
    "#### pairplot"
   ]
  },
  {
   "cell_type": "code",
   "execution_count": null,
   "id": "fitted-president",
   "metadata": {},
   "outputs": [],
   "source": [
    "g = sns.pairplot(df_rocks.query(\"instance == 'before'\").loc[:, ['family', 'code'] + mech_cols], hue=\"family\", \n",
    "                 diag_kind = 'kde', corner = True, markers = markers, palette = 'viridis', dropna = True, height = 3)\n",
    "# g.map_lower(sns.kdeplot, levels=4, color=\".2\")"
   ]
  },
  {
   "cell_type": "code",
   "execution_count": null,
   "id": "decent-portfolio",
   "metadata": {},
   "outputs": [],
   "source": [
    "g = sns.pairplot(df_rocks.query(\"instance == 'after'\").loc[:, ['family', 'code'] + mech_cols], hue=\"family\", \n",
    "                 diag_kind = 'kde', corner = True, markers = markers, palette = 'viridis', dropna = True, height = 3)\n",
    "# g.map_lower(sns.kdeplot, levels=4, color=\".2\")"
   ]
  },
  {
   "cell_type": "markdown",
   "id": "alien-kruger",
   "metadata": {},
   "source": [
    "#### scatter"
   ]
  },
  {
   "cell_type": "code",
   "execution_count": null,
   "id": "upper-statistics",
   "metadata": {},
   "outputs": [],
   "source": [
    "g = sns.jointplot(x = 'mech_e0', y = 'mech_k0', hue = 'family', data = df_rocks.query(\"instance == 'before'\"), palette = 'deep', height = 15, space = 0.1)\n",
    "# g.plot_joint(sns.kdeplot, color = 'code', zorder=0, levels=6)\n",
    "g.set_axis_labels('E (GPa)', 'K (GPa)', fontsize = 12, fontweight = 'bold')\n",
    "g.plot_marginals(sns.rugplot, height = .05, clip_on = False)"
   ]
  },
  {
   "cell_type": "code",
   "execution_count": null,
   "id": "british-breathing",
   "metadata": {},
   "outputs": [],
   "source": [
    "g = sns.jointplot(x = 'mech_e0', y = 'mech_k0', hue = 'family', data = df_rocks.query(\"instance == 'after'\"), palette = 'deep', height = 15, space = 0.1)\n",
    "# g.plot_joint(sns.kdeplot, color = 'code', zorder=0, levels=6)\n",
    "g.set_axis_labels('E (GPa)', 'K (GPa)', fontsize = 12, fontweight = 'bold')\n",
    "g.plot_marginals(sns.rugplot, height = .05, clip_on = False)"
   ]
  },
  {
   "cell_type": "markdown",
   "id": "illegal-arcade",
   "metadata": {},
   "source": [
    "#### violin"
   ]
  },
  {
   "cell_type": "code",
   "execution_count": null,
   "id": "absolute-memory",
   "metadata": {},
   "outputs": [],
   "source": [
    "fig, ax = plt.subplots(figsize = (12, 12))\n",
    "sns.violinplot(x = 'family', y = 'mech_e0', hue = 'instance', split = True, data = df_rocks, scale = 'width', palette = 'pastel', bw = 'scott',\n",
    "               inner = 'quartile')\n",
    "ax = set_spe_style(ax, title = 'Young\\'s modulus, $\\\\theta = 0$, before & after', xlabel = '', ylabel = 'E(0) (GPa)')"
   ]
  },
  {
   "cell_type": "code",
   "execution_count": null,
   "id": "satisfied-soldier",
   "metadata": {},
   "outputs": [],
   "source": [
    "fig, ax = plt.subplots(figsize = (12, 12))\n",
    "sns.violinplot(x = 'family', y = 'mech_k0', hue = 'instance', split = True, data = df_rocks, scale = 'width', palette = 'pastel', bw = 'scott',\n",
    "               inner = 'quartile')\n",
    "ax = set_spe_style(ax, title = 'Bulk modulus, $\\\\theta = 0$, before & after', xlabel = '', ylabel = '$\\\\kappa$(0) (GPa)')"
   ]
  },
  {
   "cell_type": "code",
   "execution_count": null,
   "id": "broke-source",
   "metadata": {},
   "outputs": [],
   "source": [
    "fig, ax = plt.subplots(figsize = (12, 12))\n",
    "sns.violinplot(x = 'family', y = 'mech_n0', hue = 'instance', split = True, data = df_rocks, scale = 'width', palette = 'pastel', bw = 'scott',\n",
    "               inner = 'quartile')\n",
    "ax = set_spe_style(ax, title = 'Poisson ratio, $\\\\theta = 0$, before & after', xlabel = '', ylabel = '$\\\\nu$(0)')"
   ]
  },
  {
   "cell_type": "code",
   "execution_count": null,
   "id": "legislative-seventh",
   "metadata": {},
   "outputs": [],
   "source": [
    "# fig, ax = plt.subplots(figsize = (12, 12))\n",
    "# sns.stripplot(y = 'perm', x = 'family', hue = 'instance', dodge = True, data = df_perm_bna, palette = 'viridis', ax = ax)\n",
    "# plt.yscale('log')\n",
    "# sns.set_style('darkgrid')\n",
    "# plt.title('permeability before & after');\n",
    "# plt.xlabel('')\n",
    "# plt.ylabel('Permeability (mD)')"
   ]
  },
  {
   "cell_type": "code",
   "execution_count": null,
   "id": "similar-parish",
   "metadata": {},
   "outputs": [],
   "source": [
    "# fig, ax = plt.subplots(figsize = (12, 12))\n",
    "# sns.boxplot(x = 'family', y = 'perm', hue = 'instance', data = df_perm_bna, dodge = True, width = 0.5)\n",
    "# plt.yscale('log')"
   ]
  },
  {
   "cell_type": "code",
   "execution_count": null,
   "id": "grateful-austria",
   "metadata": {},
   "outputs": [],
   "source": [
    "df_perm_before_clipped = df_perm_before.copy()\n",
    "df_perm_before_clipped.loc[:, 'perm'] = df_perm_before_clipped.perm.clip(lower = 0, upper = 500)"
   ]
  },
  {
   "cell_type": "code",
   "execution_count": null,
   "id": "another-myanmar",
   "metadata": {},
   "outputs": [],
   "source": [
    "fig, ax = plt.subplots(figsize = (12, 12))\n",
    "sns.violinplot(y = 'perm', x = 'code', hue = 'family', data = df_perm_before_clipped, palette = 'viridis', ax = ax)\n",
    "sns.set_style('darkgrid')\n",
    "plt.title('permeability before');"
   ]
  },
  {
   "cell_type": "code",
   "execution_count": null,
   "id": "charitable-lyric",
   "metadata": {},
   "outputs": [],
   "source": [
    "fig, ax = plt.subplots(figsize = (12, 12))\n",
    "sns.boxplot(y = 'perm', x = 'code', hue = 'family', data = df_perm_before_clipped, palette = 'viridis', ax = ax)\n",
    "sns.set_style('darkgrid')\n",
    "plt.title('permeability before');"
   ]
  },
  {
   "cell_type": "code",
   "execution_count": null,
   "id": "detected-sellers",
   "metadata": {},
   "outputs": [],
   "source": [
    "fig, ax = plt.subplots(figsize = (12, 12))\n",
    "sns.kdeplot(x = 'perm',  hue = 'code', data = df_perm_before_clipped, \n",
    "            palette = 'viridis', shade = 'fill', ax = ax)\n",
    "sns.set_style('darkgrid')\n",
    "plt.title('permeability before');"
   ]
  },
  {
   "cell_type": "code",
   "execution_count": null,
   "id": "modern-caution",
   "metadata": {},
   "outputs": [],
   "source": [
    "tags = ds.tag.str.split('_', expand = True)#.apply(lambda x: pp.get_material_density(x))\n",
    "tags[1] = 0.0\n",
    "unique_tags = tags[0].unique()\n",
    "# tags.set_index([0, tags.index], inplace = True)"
   ]
  },
  {
   "cell_type": "code",
   "execution_count": null,
   "id": "colored-discretion",
   "metadata": {},
   "outputs": [],
   "source": []
  }
 ],
 "metadata": {
  "kernelspec": {
   "display_name": "Python [conda env:numerics] *",
   "language": "python",
   "name": "conda-env-numerics-py"
  },
  "language_info": {
   "codemirror_mode": {
    "name": "ipython",
    "version": 3
   },
   "file_extension": ".py",
   "mimetype": "text/x-python",
   "name": "python",
   "nbconvert_exporter": "python",
   "pygments_lexer": "ipython3",
   "version": "3.9.1"
  }
 },
 "nbformat": 4,
 "nbformat_minor": 5
}
