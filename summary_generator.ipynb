{
 "cells": [
  {
   "cell_type": "code",
   "execution_count": 1,
   "metadata": {},
   "outputs": [],
   "source": [
    "import os, sys, re\n",
    "from pathlib import Path\n",
    "from itertools import compress\n",
    "from numpy import unique"
   ]
  },
  {
   "cell_type": "code",
   "execution_count": 2,
   "metadata": {},
   "outputs": [],
   "source": [
    "# define the current path (notebooks in lab_utils)\n",
    "currpath = os.getcwd()\n",
    "labutilspath = str(Path(currpath).parents[1])\n",
    "sys.path.append(labutilspath)\n",
    "\n",
    "# import the autoscan routines\n",
    "from autoscan import autoscan"
   ]
  },
  {
   "cell_type": "code",
   "execution_count": 3,
   "metadata": {},
   "outputs": [],
   "source": [
    "# define the base path that stores all characterization data\n",
    "basepath = '/sandbox/data/'\n",
    "\n",
    "# set the asdatapath accordingly (where is the atuoscan data inside basedatapath?)\n",
    "asdatapath   = 'autoscan'\n",
    "\n",
    "# set datapath\n",
    "datapath = os.path.join(basepath, asdatapath)"
   ]
  },
  {
   "cell_type": "markdown",
   "metadata": {},
   "source": [
    "## List and correct filenames (enforce patterns)\n",
    "\n",
    "1. Read the _csv_ files in the `datapath`\n",
    "1. Find whether each file has the word `before` or `after`; if not, then add `before` as default\n",
    "1. Fix all file names such that they follow `probe_before|after_side.csv` \n",
    "1. Create a dataframe that describes the data\n",
    "1. Add a columns with links and save (`io.wrange_datafiles(link=True)`)"
   ]
  },
  {
   "cell_type": "code",
   "execution_count": 4,
   "metadata": {},
   "outputs": [],
   "source": [
    "# load the io module, \n",
    "io = autoscan.file_sorter(datapath = datapath, labutilspath = labutilspath)\n",
    "pp = autoscan.postprocess(labutilspath = labutilspath)"
   ]
  },
  {
   "cell_type": "markdown",
   "metadata": {},
   "source": [
    "### check basic rock info\n",
    "\n",
    "1. load the tags available\n",
    "2. check that the tags exist in rock_info, if any is missing then add it"
   ]
  },
  {
   "cell_type": "code",
   "execution_count": 5,
   "metadata": {},
   "outputs": [],
   "source": [
    "missing_tag = False\n",
    "tags = unique([d.split('_')[0] for d in os.listdir(datapath) if not d.startswith('_') and '.' not in d])\n",
    "pp._get_rock_basics()\n",
    "missing_tags = list(compress(tags, [c not in pp.rock_info.rock_dict.keys() for c in tags]))\n",
    "\n",
    "if len(missing_tags)>0:\n",
    "    missing_tag = True\n",
    "    print('add the following to rock_info.rock_dict')\n",
    "    print(missing_tags)"
   ]
  },
  {
   "cell_type": "markdown",
   "metadata": {},
   "source": [
    "#### update rock_dict\n",
    "1. update the rock_dict\n",
    "1. save rock_dict for future"
   ]
  },
  {
   "cell_type": "code",
   "execution_count": 6,
   "metadata": {},
   "outputs": [],
   "source": [
    "if missing_tag:\n",
    "    # add the relevant information\n",
    "    pp.rock_info.add_sample_to_dict(tag = 'zgf', \n",
    "                                    family = 'gemstones',\n",
    "                                    genus = 'fossils',\n",
    "                                    long_name = 'fossils',\n",
    "                                    origin = 'usa',\n",
    "                                    provenance = 'field')\n",
    "    pp.rock_info.add_sample_to_dict(tag = 'zgs', \n",
    "                                    family = 'gemstones',\n",
    "                                    genus = 'sedimentary',\n",
    "                                    long_name = 'sedimentary',\n",
    "                                    origin = 'usa',\n",
    "                                    provenance = 'field')\n",
    "    pp.rock_info.add_sample_to_dict(tag = 'zgm', \n",
    "                                    family = 'gemstones',\n",
    "                                    genus = 'minerals',\n",
    "                                    long_name = 'minerals',\n",
    "                                    origin = 'usa',\n",
    "                                    provenance = 'field')\n",
    "    pp.rock_info.add_sample_to_dict(tag = 'zgt', \n",
    "                                    family = 'gemstones',\n",
    "                                    genus = 'metamorphic',\n",
    "                                    long_name = 'metamorphic',\n",
    "                                    origin = 'usa',\n",
    "                                    provenance = 'field')\n",
    "    \n",
    "    pp.rock_info.add_sample_to_dict(tag = 'zgi', \n",
    "                                    family = 'gemstones',\n",
    "                                    genus = 'igneous',\n",
    "                                    long_name = 'igneous',\n",
    "                                    origin = 'usa',\n",
    "                                    provenance = 'field')\n",
    "\n",
    "    pp.rock_info.add_sample_to_dict(tag = 'zgx', \n",
    "                                    family = 'gemstones',\n",
    "                                    genus = 'generic',\n",
    "                                    long_name = 'generic',\n",
    "                                    origin = 'usa',\n",
    "                                    provenance = 'field')\n",
    "    \n",
    "    pp.rock_info.add_sample_to_dict(tag = 'zgg', \n",
    "                                    family = 'gemstones',\n",
    "                                    genus = 'gemstones',\n",
    "                                    long_name = 'gemstones',\n",
    "                                    origin = 'usa',\n",
    "                                    provenance = 'field')\n",
    "    \n",
    "\n",
    "    # update the sample file, the sample previously added will update\n",
    "    pp.rock_info.update_sample_file()"
   ]
  },
  {
   "cell_type": "markdown",
   "metadata": {},
   "source": [
    "### summarize available data"
   ]
  },
  {
   "cell_type": "code",
   "execution_count": 7,
   "metadata": {},
   "outputs": [
    {
     "name": "stdout",
     "output_type": "stream",
     "text": [
      "\n",
      "number of files: 959\n"
     ]
    },
    {
     "data": {
      "text/html": [
       "<div>\n",
       "<style scoped>\n",
       "    .dataframe tbody tr th:only-of-type {\n",
       "        vertical-align: middle;\n",
       "    }\n",
       "\n",
       "    .dataframe tbody tr th {\n",
       "        vertical-align: top;\n",
       "    }\n",
       "\n",
       "    .dataframe thead th {\n",
       "        text-align: right;\n",
       "    }\n",
       "</style>\n",
       "<table border=\"1\" class=\"dataframe\">\n",
       "  <thead>\n",
       "    <tr style=\"text-align: right;\">\n",
       "      <th></th>\n",
       "      <th>sample_tag</th>\n",
       "      <th>subsample_tag</th>\n",
       "      <th>sample_code</th>\n",
       "      <th>sample_family</th>\n",
       "      <th>probe</th>\n",
       "      <th>side</th>\n",
       "      <th>instance</th>\n",
       "      <th>experiment</th>\n",
       "      <th>fname</th>\n",
       "      <th>relroot</th>\n",
       "    </tr>\n",
       "  </thead>\n",
       "  <tbody>\n",
       "    <tr>\n",
       "      <th>0</th>\n",
       "      <td>sccaco_002</td>\n",
       "      <td>None</td>\n",
       "      <td>sc</td>\n",
       "      <td>carbonate</td>\n",
       "      <td>vels</td>\n",
       "      <td>e</td>\n",
       "      <td>before</td>\n",
       "      <td>NaN</td>\n",
       "      <td>vels_before.csv</td>\n",
       "      <td>sccaco_002/base/processed/vels_before.csv</td>\n",
       "    </tr>\n",
       "    <tr>\n",
       "      <th>1</th>\n",
       "      <td>sccaco_002</td>\n",
       "      <td>None</td>\n",
       "      <td>sc</td>\n",
       "      <td>carbonate</td>\n",
       "      <td>ftir</td>\n",
       "      <td>e</td>\n",
       "      <td>before</td>\n",
       "      <td>NaN</td>\n",
       "      <td>ftir_before.csv</td>\n",
       "      <td>sccaco_002/base/processed/ftir_before.csv</td>\n",
       "    </tr>\n",
       "    <tr>\n",
       "      <th>2</th>\n",
       "      <td>bg_134</td>\n",
       "      <td>None</td>\n",
       "      <td>bg</td>\n",
       "      <td>sandstone</td>\n",
       "      <td>ftir</td>\n",
       "      <td>e</td>\n",
       "      <td>before</td>\n",
       "      <td>NaN</td>\n",
       "      <td>ftir_before_e.csv</td>\n",
       "      <td>bg_134/base/processed/ftir_before_e.csv</td>\n",
       "    </tr>\n",
       "    <tr>\n",
       "      <th>3</th>\n",
       "      <td>bg_134</td>\n",
       "      <td>None</td>\n",
       "      <td>bg</td>\n",
       "      <td>sandstone</td>\n",
       "      <td>vels</td>\n",
       "      <td>c</td>\n",
       "      <td>before</td>\n",
       "      <td>NaN</td>\n",
       "      <td>vels_before_c.csv</td>\n",
       "      <td>bg_134/base/processed/vels_before_c.csv</td>\n",
       "    </tr>\n",
       "    <tr>\n",
       "      <th>4</th>\n",
       "      <td>bg_134</td>\n",
       "      <td>None</td>\n",
       "      <td>bg</td>\n",
       "      <td>sandstone</td>\n",
       "      <td>ftir</td>\n",
       "      <td>f</td>\n",
       "      <td>before</td>\n",
       "      <td>NaN</td>\n",
       "      <td>ftir_before_f.csv</td>\n",
       "      <td>bg_134/base/processed/ftir_before_f.csv</td>\n",
       "    </tr>\n",
       "  </tbody>\n",
       "</table>\n",
       "</div>"
      ],
      "text/plain": [
       "   sample_tag subsample_tag sample_code sample_family probe side instance  \\\n",
       "0  sccaco_002          None          sc     carbonate  vels    e   before   \n",
       "1  sccaco_002          None          sc     carbonate  ftir    e   before   \n",
       "2      bg_134          None          bg     sandstone  ftir    e   before   \n",
       "3      bg_134          None          bg     sandstone  vels    c   before   \n",
       "4      bg_134          None          bg     sandstone  ftir    f   before   \n",
       "\n",
       "  experiment              fname                                    relroot  \n",
       "0        NaN    vels_before.csv  sccaco_002/base/processed/vels_before.csv  \n",
       "1        NaN    ftir_before.csv  sccaco_002/base/processed/ftir_before.csv  \n",
       "2        NaN  ftir_before_e.csv    bg_134/base/processed/ftir_before_e.csv  \n",
       "3        NaN  vels_before_c.csv    bg_134/base/processed/vels_before_c.csv  \n",
       "4        NaN  ftir_before_f.csv    bg_134/base/processed/ftir_before_f.csv  "
      ]
     },
     "execution_count": 7,
     "metadata": {},
     "output_type": "execute_result"
    }
   ],
   "source": [
    "io.dryrun = False\n",
    "io.debug  = False\n",
    "\n",
    "summary = io.wrangle(save = True, link = True)\n",
    "print('\\nnumber of files: %d' %(len(summary)))\n",
    "\n",
    "# add experiment type \n",
    "\n",
    "summary.head()"
   ]
  },
  {
   "cell_type": "code",
   "execution_count": null,
   "metadata": {},
   "outputs": [],
   "source": []
  }
 ],
 "metadata": {
  "kernelspec": {
   "display_name": "Python [conda env:numerics] *",
   "language": "python",
   "name": "conda-env-numerics-py"
  },
  "language_info": {
   "codemirror_mode": {
    "name": "ipython",
    "version": 3
   },
   "file_extension": ".py",
   "mimetype": "text/x-python",
   "name": "python",
   "nbconvert_exporter": "python",
   "pygments_lexer": "ipython3",
   "version": "3.9.1"
  }
 },
 "nbformat": 4,
 "nbformat_minor": 4
}
