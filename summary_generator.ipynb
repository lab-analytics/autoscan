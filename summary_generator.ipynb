{
 "cells": [
  {
   "source": [
    "import os, sys, re\n",
    "import numpy as np\n",
    "import pandas as pd\n",
    "from pathlib import Path\n",
    "import time"
   ],
   "cell_type": "code",
   "outputs": [],
   "metadata": {},
   "execution_count": 6
  },
  {
   "source": [
    "# define the current path (notebooks in lab_utils)\n",
    "currpath = os.getcwd()\n",
    "labutilspath = str(Path(currpath).parents[1])\n",
    "sys.path.append(labutilspath)\n",
    "\n",
    "# import the autoscan routines\n",
    "from autoscan import autoscan"
   ],
   "cell_type": "code",
   "outputs": [],
   "metadata": {},
   "execution_count": 7
  },
  {
   "source": [
    "# define the base path that stores all characterization data\n",
    "basepath = '/media/damiansa/data/lab/data/characterization/'\n",
    "\n",
    "# set the asdatapath accordingly (where is the atuoscan data inside basedatapath?)\n",
    "asdatapath   = 'autoscan'\n",
    "\n",
    "# set datapath\n",
    "datapath = os.path.join(basepath, asdatapath)"
   ],
   "cell_type": "code",
   "outputs": [],
   "metadata": {},
   "execution_count": 8
  },
  {
   "cell_type": "markdown",
   "execution_count": null,
   "metadata": {},
   "outputs": [],
   "source": [
    "# List and correct filenames (enforce patterns)\n",
    "\n",
    "1. Read the _csv_ files in the `datapath`\n",
    "1. Find whether each file has the word `before` or `after`; if not, then add `before` as default\n",
    "1. Fix all file names such that they follow `probe_before|after_side.csv` \n",
    "1. Create a dataframe that describes the data\n",
    "1. Add a columns with links and save (`io.wrange_datafiles(link=True)`)"
   ]
  },
  {
   "source": [
    "# load the io module, \n",
    "io = autoscan.file_sorter(datapath = datapath, labutilspath=labutilspath)\n",
    "pp = autoscan.postprocess(labutilspath=labutilspath)"
   ],
   "cell_type": "code",
   "outputs": [],
   "metadata": {},
   "execution_count": 9
  },
  {
   "source": [
    "io.dryrun = False\n",
    "io.debug  = False\n",
    "\n",
    "summary = io.wrangle(save = True, link = True)\n",
    "summary.head()"
   ],
   "cell_type": "code",
   "outputs": [
    {
     "output_type": "execute_result",
     "data": {
      "text/plain": "  sample_tag subsample_tag sample_code sample_family probe  side instance  \\\n0   lssy_013          None          ls     carbonate  ftir  None    after   \n1     ah_001            s1          ah     carbonate  ftir  None    after   \n2     ah_001            s1          ah     carbonate  ftir  None   before   \n3     ah_001            s1          ah     carbonate  perm  None    after   \n4     ah_001            s1          ah     carbonate  perm  None   before   \n\n             fname                                         relroot  \n0   ftir_after.csv               lssy_013/processed/ftir_after.csv  \n1   ftir_after.csv   ah_001/subsamples/s1/processed/ftir_after.csv  \n2  ftir_before.csv  ah_001/subsamples/s1/processed/ftir_before.csv  \n3   perm_after.csv   ah_001/subsamples/s1/processed/perm_after.csv  \n4  perm_before.csv  ah_001/subsamples/s1/processed/perm_before.csv  ",
      "text/html": "<div>\n<style scoped>\n    .dataframe tbody tr th:only-of-type {\n        vertical-align: middle;\n    }\n\n    .dataframe tbody tr th {\n        vertical-align: top;\n    }\n\n    .dataframe thead th {\n        text-align: right;\n    }\n</style>\n<table border=\"1\" class=\"dataframe\">\n  <thead>\n    <tr style=\"text-align: right;\">\n      <th></th>\n      <th>sample_tag</th>\n      <th>subsample_tag</th>\n      <th>sample_code</th>\n      <th>sample_family</th>\n      <th>probe</th>\n      <th>side</th>\n      <th>instance</th>\n      <th>fname</th>\n      <th>relroot</th>\n    </tr>\n  </thead>\n  <tbody>\n    <tr>\n      <th>0</th>\n      <td>lssy_013</td>\n      <td>None</td>\n      <td>ls</td>\n      <td>carbonate</td>\n      <td>ftir</td>\n      <td>None</td>\n      <td>after</td>\n      <td>ftir_after.csv</td>\n      <td>lssy_013/processed/ftir_after.csv</td>\n    </tr>\n    <tr>\n      <th>1</th>\n      <td>ah_001</td>\n      <td>s1</td>\n      <td>ah</td>\n      <td>carbonate</td>\n      <td>ftir</td>\n      <td>None</td>\n      <td>after</td>\n      <td>ftir_after.csv</td>\n      <td>ah_001/subsamples/s1/processed/ftir_after.csv</td>\n    </tr>\n    <tr>\n      <th>2</th>\n      <td>ah_001</td>\n      <td>s1</td>\n      <td>ah</td>\n      <td>carbonate</td>\n      <td>ftir</td>\n      <td>None</td>\n      <td>before</td>\n      <td>ftir_before.csv</td>\n      <td>ah_001/subsamples/s1/processed/ftir_before.csv</td>\n    </tr>\n    <tr>\n      <th>3</th>\n      <td>ah_001</td>\n      <td>s1</td>\n      <td>ah</td>\n      <td>carbonate</td>\n      <td>perm</td>\n      <td>None</td>\n      <td>after</td>\n      <td>perm_after.csv</td>\n      <td>ah_001/subsamples/s1/processed/perm_after.csv</td>\n    </tr>\n    <tr>\n      <th>4</th>\n      <td>ah_001</td>\n      <td>s1</td>\n      <td>ah</td>\n      <td>carbonate</td>\n      <td>perm</td>\n      <td>None</td>\n      <td>before</td>\n      <td>perm_before.csv</td>\n      <td>ah_001/subsamples/s1/processed/perm_before.csv</td>\n    </tr>\n  </tbody>\n</table>\n</div>"
     },
     "metadata": {},
     "execution_count": 10
    }
   ],
   "metadata": {},
   "execution_count": 10
  },
  {
   "cell_type": "code",
   "execution_count": null,
   "metadata": {},
   "outputs": [],
   "source": []
  }
 ],
 "metadata": {
  "kernelspec": {
   "display_name": "Python 3",
   "language": "python",
   "name": "python3"
  },
  "language_info": {
   "codemirror_mode": {
    "name": "ipython",
    "version": 3
   },
   "file_extension": ".py",
   "mimetype": "text/x-python",
   "name": "python",
   "nbconvert_exporter": "python",
   "pygments_lexer": "ipython3",
   "version": "3.7.4-final"
  }
 },
 "nbformat": 4,
 "nbformat_minor": 2
}