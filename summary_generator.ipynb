{
 "cells": [
  {
   "cell_type": "code",
   "execution_count": null,
   "metadata": {},
   "outputs": [],
   "source": [
    "import os, sys\n",
    "from pathlib import Path\n",
    "from itertools import compress\n",
    "from numpy import unique"
   ]
  },
  {
   "cell_type": "code",
   "execution_count": null,
   "metadata": {},
   "outputs": [],
   "source": [
    "# define the current path (notebooks in lab_utils)\n",
    "currpath = os.getcwd()\n",
    "labutilspath = str(Path(currpath).parents[1])\n",
    "sys.path.append(labutilspath)\n",
    "\n",
    "# import the autoscan routines\n",
    "from autoscan import autoscan"
   ]
  },
  {
   "cell_type": "code",
   "execution_count": null,
   "metadata": {},
   "outputs": [],
   "source": [
    "# define the base path that stores all characterization data\n",
    "basepath = '/home/urlab/sandbox/data/characterization/'\n",
    "\n",
    "# set the asdatapath accordingly (where is the atuoscan data inside basedatapath?)\n",
    "asdatapath   = 'autoscan'\n",
    "\n",
    "# set datapath\n",
    "datapath = os.path.join(basepath, asdatapath)"
   ]
  },
  {
   "cell_type": "markdown",
   "metadata": {},
   "source": [
    "## List and correct filenames (enforce patterns)\n",
    "\n",
    "1. Read the _csv_ files in the `datapath`\n",
    "1. Find whether each file has the word `before` or `after`; if not, then add `before` as default\n",
    "1. Fix all file names such that they follow `probe_before|after_side.csv` \n",
    "1. Create a dataframe that describes the data\n",
    "1. Add a columns with links and save (`io.wrange_datafiles(link=True)`)"
   ]
  },
  {
   "cell_type": "code",
   "execution_count": null,
   "metadata": {},
   "outputs": [],
   "source": [
    "# load the io module, \n",
    "io = autoscan.file_sorter(datapath = datapath, labutilspath=labutilspath)\n",
    "pp = autoscan.postprocess(labutilspath = labutilspath)"
   ]
  },
  {
   "cell_type": "markdown",
   "metadata": {},
   "source": [
    "### check basic rock info\n",
    "\n",
    "1. load the tags available\n",
    "2. check that the tags exist in rock_info, if any is missing then add it"
   ]
  },
  {
   "cell_type": "code",
   "execution_count": null,
   "metadata": {},
   "outputs": [],
   "source": [
    "missing_tag = False\n",
    "tags = unique([d.split('_')[0] for d in os.listdir(datapath) if not d.startswith('_') and '.' not in d])\n",
    "pp._get_rock_basics()\n",
    "missing_tags = list(compress(tags, [c not in pp.rock_info.rock_dict.keys() for c in tags]))\n",
    "\n",
    "if len(missing_tags)>0:\n",
    "    missing_tag = True\n",
    "    print('add the following to rock_info.rock_dict')\n",
    "    print(missing_tags)"
   ]
  },
  {
   "cell_type": "markdown",
   "metadata": {},
   "source": [
    "#### update rock_dict\n",
    "1. update the rock_dict\n",
    "1. save rock_dict for future"
   ]
  },
  {
   "cell_type": "code",
   "execution_count": null,
   "metadata": {},
   "outputs": [],
   "source": [
    "if missing_tag:\n",
    "    # add the relevant information\n",
    "    pp.rock_info.add_sample_to_dict(tag = 'sdgm', \n",
    "                                    family = 'sandsone',\n",
    "                                    genus = 'layered sandstone',\n",
    "                                    long_name = 'sdgm sandstone',\n",
    "                                    origin = 'ksa',\n",
    "                                    provenance = 'field')\n",
    "\n",
    "    # update the sample file, the sample previously added will update\n",
    "    pp.rock_info.update_sample_file()"
   ]
  },
  {
   "cell_type": "markdown",
   "metadata": {},
   "source": [
    "### summarize available data"
   ]
  },
  {
   "cell_type": "code",
   "execution_count": null,
   "metadata": {},
   "outputs": [],
   "source": [
    "io.dryrun = False\n",
    "io.debug  = False\n",
    "\n",
    "summary = io.wrangle(save = True, link = True)\n",
    "summary.head()"
   ]
  },
  {
   "cell_type": "code",
   "execution_count": null,
   "metadata": {},
   "outputs": [],
   "source": []
  }
 ],
 "metadata": {
  "kernelspec": {
   "display_name": "base",
   "language": "python",
   "name": "base"
  },
  "language_info": {
   "codemirror_mode": {
    "name": "ipython",
    "version": 3
   },
   "file_extension": ".py",
   "mimetype": "text/x-python",
   "name": "python",
   "nbconvert_exporter": "python",
   "pygments_lexer": "ipython3",
   "version": "3.8.3"
  }
 },
 "nbformat": 4,
 "nbformat_minor": 4
}
