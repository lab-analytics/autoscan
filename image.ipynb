{
 "cells": [
  {
   "cell_type": "code",
   "execution_count": null,
   "metadata": {},
   "outputs": [],
   "source": [
    "%matplotlib inline\n",
    "import numpy as np\n",
    "import scipy as sp\n",
    "import pandas as pd\n",
    "import re\n",
    "import matplotlib.pyplot as plt\n",
    "from matplotlib import cm\n",
    "import matplotlib.image as mp_img\n",
    "from mpl_toolkits.mplot3d import Axes3D\n",
    "from scipy.interpolate import interp1d\n",
    "\n",
    "import holoviews as hv\n",
    "hv.extension('bokeh')\n",
    "\n",
    "def get_colors(inp, colormap, vmin=None, vmax=None):\n",
    "    norm = plt.Normalize(vmin, vmax)\n",
    "    return colormap(norm(inp))"
   ]
  },
  {
   "cell_type": "code",
   "execution_count": null,
   "metadata": {},
   "outputs": [],
   "source": [
    "datapath  = '/Volumes/extreme/repos/lab-data/characterization/'\n",
    "sampletag = 'SH-00001'\n",
    "\n",
    "imgfile = '/Volumes/extreme/repos/lab-data/characterization/photo/SH-00001/bw/dry_DSC08702.jpg'\n",
    "tgafile = '/Volumes/extreme/repos/lab-data/characterization/tga/SH-00001/_analysis/peaks-onsets-mass.xlsx'\n",
    "velfile = '/Volumes/extreme/repos/lab-data/characterization/autoscan/SH-00001/_analysis/elastic_before.csv'\n",
    "elsfile = '/Volumes/extreme/repos/lab-data/characterization/autoscan/SH-00001/_analysis/map_Estar_before.csv'\n",
    "perfile = '/Volumes/extreme/repos/lab-data/characterization/autoscan/SH-00001/_analysis/map_Permeability_before.csv'\n",
    "tocfile = '/Volumes/extreme/repos/lab-data/characterization/toc/SH-00001/toc-before.xlsx'"
   ]
  },
  {
   "cell_type": "code",
   "execution_count": null,
   "metadata": {},
   "outputs": [],
   "source": [
    "data = {}\n",
    "\n",
    "# read the image file\n",
    "data['img'] = mp_img.imread(imgfile)\n",
    "\n",
    "# read the estar map\n",
    "data['els'] = pd.read_csv(elsfile, usecols=range(0,4))\n",
    "\n",
    "# read velocity map\n",
    "data['vel'] = pd.read_csv(velfile, usecols=range(0,8))\n",
    "\n",
    "# read the permability file\n",
    "data['per'] = pd.read_csv(perfile, usecols=range(0,4))\n",
    "\n",
    "# read the tga peaks data\n",
    "data['tga'] = pd.read_excel(tgafile, usecols=[1,2,3])\n",
    "\n",
    "# read the toc file\n",
    "data['toc'] = pd.read_excel(tocfile, usecols=range(6,12))\n",
    "\n",
    "measkeys = [key for key in data.keys()][1:]\n",
    "askeys   = measkeys[:3]\n",
    "for key in measkeys:\n",
    "    data[key].columns = [re.sub(r'\\W+', '', c) for c in data[key].columns]\n",
    "    colnames = data[key].columns.values\n",
    "    colnames[0] = 'i'\n",
    "    data[key].columns = colnames\n",
    "\n",
    "data['vel'] = data['vel'].drop(['vp','vs'], axis=1)"
   ]
  },
  {
   "cell_type": "code",
   "execution_count": null,
   "metadata": {},
   "outputs": [],
   "source": [
    "descriptions = pd.DataFrame(columns=['probe', 'var', 'vmin', 'vmax'])\n",
    "kk = []\n",
    "nrows = 0\n",
    "for key in measkeys:\n",
    "    colnames = data[key].columns.values\n",
    "\n",
    "    if key in askeys:\n",
    "        colnames = colnames[3:]\n",
    "        nrowsnew = data[key].shape[0]\n",
    "        if nrowsnew>nrows:\n",
    "            nrows = nrowsnew\n",
    "    else:\n",
    "        colnames = colnames[1:]\n",
    "    for c in colnames:\n",
    "        kk.append([key, c, data[key].loc[:,c].min(), data[key].loc[:,c].max()])\n",
    "\n",
    "for row in kk:\n",
    "    descriptions.loc[len(descriptions)] = row\n",
    "\n",
    "asrowsmax = nrows\n",
    "\n",
    "del colnames, kk, nrowsnew, nrows"
   ]
  },
  {
   "cell_type": "code",
   "execution_count": null,
   "metadata": {},
   "outputs": [],
   "source": [
    "varsdict = {\n",
    "    'Estar':{'units':'E* (GPa)', 'multiplier':1e9},\n",
    "    'vp':{'units':'v (m/s)', 'multiplier':1},\n",
    "    'vs':{'units':'v (m/s)', 'multiplier':1},\n",
    "    'E':{'units':'E (GPa)', 'multiplier':1e9},\n",
    "    'K':{'units':'K (GPa)', 'multiplier':1e9},\n",
    "    'nu':{'units':r'$\\nu$', 'multiplier':1},\n",
    "    'Onset':{'units':'deg C', 'multiplier':1},\n",
    "    'Masschange':{'units':r'$\\mu g/V$', 'multiplier':1},\n",
    "    'Permeability':{'units':r'$\\mu_d$ (mD)'},\n",
    "    'PI':{'units':r'%'}\n",
    "}"
   ]
  },
  {
   "cell_type": "code",
   "execution_count": null,
   "metadata": {},
   "outputs": [],
   "source": [
    "asrowsmax\n",
    "# # vardata = {'els':{'var':['Estar'],'dsc':['E* (GPa)']}, 'vel':{'var':['E','K','nu'],'dsc':['E (GPa)','K (GPa)','$nu $']}, 'per':{'var':['Permeability'], 'dsc':['$\\mu$ (mD)']}}\n",
    "# # vardata['extremes'] = {}\n",
    "# for key in measkeys:\n",
    "#     colnames = data[key].columns.values\n",
    "#     if key in askeys:\n",
    "#         colnames = colnames[3:]\n",
    "#     else:\n",
    "#         colnames = colnames[1:]\n",
    "    \n",
    "#     print(colnames)\n",
    "# #     for skey in :\n",
    "# #     varsdict[key]['extremes'] = [0,0]\n",
    "# # print(varsdict)\n",
    "# #     for j, skey in enumerate(vardata[key]['var']):\n",
    "# #         print(skey, vardata[key]['dsc'][j], sep='\\t')\n",
    "# #         vardata['extremes'][skey] = [data[key][vardata[key]['var'][j]].max(), data[key][vardata[key]['var'][j]].min()]"
   ]
  },
  {
   "cell_type": "code",
   "execution_count": null,
   "metadata": {},
   "outputs": [],
   "source": [
    "for key in askeys:\n",
    "    colnames = data[key].columns.values\n",
    "    df = pd.DataFrame(np.zeros([asrowsmax,colnames.size]), columns=colnames)\n",
    "    df.iloc[:,1:] = np.nan\n",
    "    nindex = df.index.values[data[key].iloc[:,0]]\n",
    "    for i in nindex:\n",
    "        df.iloc[i,0] = 1\n",
    "        df.iloc[i,1:] = data[key].loc[data[key].iloc[:,0]==i,data[key].columns.values[1:]].values\n",
    "    data[key] = df"
   ]
  },
  {
   "cell_type": "code",
   "execution_count": null,
   "metadata": {},
   "outputs": [],
   "source": [
    "for key in data.keys():\n",
    "    print(key, data[key].shape, sep='\\t')"
   ]
  },
  {
   "cell_type": "code",
   "execution_count": null,
   "metadata": {},
   "outputs": [],
   "source": [
    "#data['vel'].loc[data['vel'].iloc[:,0]==0]"
   ]
  },
  {
   "cell_type": "code",
   "execution_count": null,
   "metadata": {},
   "outputs": [],
   "source": [
    "xomin = data['per']['x'].min(axis=0)\n",
    "xmax = data['per']['x'].max(axis=0)\n",
    "yomin = data['per']['y'].min(axis=0)\n",
    "ymax = data['per']['y'].max(axis=0)\n",
    "\n",
    "xmin = ymin = 0\n",
    "xmax = xmax - xomin\n",
    "ymax = ymax - yomin\n",
    "\n",
    "print(xmin, xmax, ymin, ymax)"
   ]
  },
  {
   "cell_type": "code",
   "execution_count": null,
   "metadata": {},
   "outputs": [],
   "source": [
    "# build x and y elements for tga and toc\n",
    "bwidth = {}\n",
    "for key in ['tga', 'toc']:\n",
    "    bwidth[key] = (ymax - ymin)/data[key].shape[0]\n",
    "    data[key]['x']  = (xmax - xmin)/2.\n",
    "    data[key]['y']  = np.linspace(ymin, ymax, data[key].shape[0])  \n",
    "    data[key]['yc'] = np.linspace(ymin+bwidth[key]/2, ymax-bwidth[key]/2, data[key].shape[0])  "
   ]
  },
  {
   "cell_type": "code",
   "execution_count": null,
   "metadata": {},
   "outputs": [],
   "source": [
    "xygrid = {}\n",
    "for key in askeys:\n",
    "    xg = np.unique(data[key]['x'].values - xomin)\n",
    "    yg = np.unique(data[key]['y'].values - yomin)\n",
    "    xg = xg[xg>=0.]\n",
    "    yg = yg[yg>=0.]\n",
    "    xygrid[key] = np.meshgrid(xg, yg)\n",
    "#     print(xygrid[key][0].shape, xg.shape[0]*yg.shape[0], data[key].shape)"
   ]
  },
  {
   "cell_type": "code",
   "execution_count": null,
   "metadata": {},
   "outputs": [],
   "source": [
    "# colors = get_colors(data[key]['TOC'].values, cm.viridis, vmin = data[key]['TOC'].min(), vmax = data[key]['TOC'].max())\n"
   ]
  },
  {
   "cell_type": "code",
   "execution_count": null,
   "metadata": {},
   "outputs": [],
   "source": [
    "# bwidth[key]\n",
    "# fig = plt.figure(figsize=(3,15))\n",
    "# ax = fig.add_subplot(111)\n",
    "# p = ax.barh(data[key]['yc'].values,data[key]['TOC'].values, bwidth[key]*0.8, align='center', color=colors)"
   ]
  },
  {
   "cell_type": "code",
   "execution_count": null,
   "metadata": {},
   "outputs": [],
   "source": [
    "# fig = plt.figure(figsize=(3,15))\n",
    "# ax = fig.add_subplot(111)\n",
    "\n",
    "# xs,ys = xygrid[key][0].shape\n",
    "# gg = np.reshape(data[key].iloc[:,-1].values, (xs,ys))\n",
    "\n",
    "# ax.pcolor(xygrid[key][0], xygrid[key][1], gg, cmap='viridis', vmin=gg.min(), vmax=gg.max())\n",
    "vardata['extremes']"
   ]
  },
  {
   "cell_type": "code",
   "execution_count": null,
   "metadata": {},
   "outputs": [],
   "source": [
    "plt.rcParams.update({'font.size': 12})\n",
    "fig, axs = plt.subplots(nrows=1, ncols=9, sharey=True, sharex=False, figsize=(35,25))\n",
    "fig.subplots_adjust(wspace=0.3)#, left=0, right=1)\n",
    "\n",
    "ax = axs[0]\n",
    "pc = ax.imshow(data['img'], interpolation = 'gaussian', extent=[xmin,xmax,ymin,ymax])\n",
    "ax.set_ylabel('y (mm)')\n",
    "ax.set_xlabel('x (mm)')\n",
    "cb = fig.colorbar(pc, ax=ax, orientation=\"horizontal\", pad=0.05) #orientation=\"horizontal\", pad=0.2\n",
    "cb.set_label('')\n",
    "cb.remove()\n",
    "\n",
    "i = 1\n",
    "for key in askeys:\n",
    "    xs,ys = xygrid[key][0].shape\n",
    "    cvars = descriptions.loc[descriptions['probe']==key,['var','vmin','vmax']].copy()\n",
    "    #print(cvars['var'].values)\n",
    "    for c in range(len(cvars)):\n",
    "        var  = cvars.iloc[c,0]\n",
    "        vmin, vmax = cvars.iloc[c,1:].values\n",
    "        # print(var, vmin, vmax, sep='\\t')\n",
    "        gg = np.reshape(data[key].loc[:,var].values, (xs,ys))\n",
    "        \n",
    "        ax = axs[i]\n",
    "        pc = ax.pcolor(xygrid[key][0], xygrid[key][1], gg, cmap='viridis', vmin=vmin, vmax=vmax)\n",
    "        \n",
    "        ax.title.set_text(var)\n",
    "        ax.set_xlabel('x (mm)')\n",
    "        \n",
    "        cb = fig.colorbar(pc, ax=ax, orientation=\"horizontal\", pad=0.05, ticks=[vmin, vmax]) #orientation=\"horizontal\", pad=0.2\n",
    "        cb.set_label(varsdict[var]['units'])\n",
    "        i += 1\n",
    "\n",
    "for key in ['tga','toc']:\n",
    "    print(bwidth[key])\n",
    "    cvars = descriptions.loc[descriptions['probe']==key,['var','vmin','vmax']].copy()\n",
    "    #print(cvars['var'].values)\n",
    "    for c in range(len(cvars)):\n",
    "        var  = cvars.iloc[c,0]\n",
    "        print(var)\n",
    "        if var in ['Onset', 'Masschange', 'TOC', 'PI']:\n",
    "            vmin, vmax = cvars.iloc[c,1:].values\n",
    "            x = c = data[key][var].values\n",
    "            y = data[key]['yc'].values\n",
    "            colors = get_colors(data[key][var].values, cm.viridis, vmin = vmin, vmax = vmax)\n",
    "            #print(var, vmin, vmax, sep='\\t')\n",
    "            ax = axs[i]\n",
    "            pc = ax.scatter(x, y, c=c, cmap='viridis')#, bwidth[key]*0.8, align='center', color=colors)\n",
    "            ax.title.set_text(var)\n",
    "            ax.set_xlabel(varsdict[var]['units'])\n",
    "            \n",
    "            x_new = np.linspace(y.min(), y.max(),500)\n",
    "\n",
    "            f = interp1d(y, x, kind='quadratic')\n",
    "            y_smooth=f(x_new)\n",
    "\n",
    "            ax.plot (y_smooth,x_new)\n",
    "            \n",
    "            i +=1\n",
    "        \n",
    "            cb = fig.colorbar(pc, ax=ax, orientation=\"horizontal\", pad=0.05, ticks=[vmin, vmax]) #orientation=\"horizontal\", pad=0.2\n",
    "            cb.set_label(varsdict[var]['units'])"
   ]
  },
  {
   "cell_type": "code",
   "execution_count": null,
   "metadata": {},
   "outputs": [],
   "source": [
    "cvars['var']"
   ]
  },
  {
   "cell_type": "code",
   "execution_count": null,
   "metadata": {},
   "outputs": [],
   "source": []
  },
  {
   "cell_type": "code",
   "execution_count": null,
   "metadata": {},
   "outputs": [],
   "source": []
  },
  {
   "cell_type": "code",
   "execution_count": null,
   "metadata": {},
   "outputs": [],
   "source": [
    "\n",
    "from matplotlib import pyplot as plt\n",
    "\n",
    "img = cv2.imread('images/flicker2.jpg',0)\n",
    "f = np.fft.fft2(img)\n",
    "fshift = np.fft.fftshift(f)\n",
    "# calculate amplitude spectrum\n",
    "mag_spec = 20*np.log(np.abs(fshift))\n",
    "\n",
    "r = f.shape[0]/2        # number of rows/2\n",
    "c = f.shape[1]/2        # number of columns/2   \n",
    "p = 3                         \n",
    "n = 1                   # to suppress all except for the DC component       \n",
    "fshift2 = np.copy(fshift)\n",
    "\n",
    "# suppress upper part\n",
    "fshift2[0:r-n , c-p:c+p] = 0.001\n",
    "# suppress lower part\n",
    "fshift2[r+n:r+r, c-p:c+p] = 0.001\n",
    "# calculate new amplitude spectrum\n",
    "mag_spec2 = 20*np.log(np.abs(fshift2))\n",
    "inv_fshift = np.fft.ifftshift(fshift2)\n",
    "# reconstruct image\n",
    "img_recon = np.real(np.fft.ifft2(inv_fshift))\n",
    "\n",
    "plt.subplot(131),plt.imshow(img, cmap = 'gray')\n",
    "plt.title('Input Image'), plt.xticks([]), plt.yticks([])\n",
    "plt.subplot(132),plt.imshow(mag_spec, cmap = 'gray')\n",
    "plt.title('Magnitude Spectrum'), plt.xticks([]), plt.yticks([])\n",
    "plt.subplot(133),plt.imshow(mag_spec2, cmap = 'gray')\n",
    "plt.title('Magnitude Spectrum after suppression'), plt.xticks([]), plt.yticks([])\n",
    "plt.show()\n",
    "\n",
    "plt.figure()\n",
    "plt.subplot(121),plt.imshow(img, cmap = 'gray')\n",
    "plt.title('Input Image'), plt.xticks([]), plt.yticks([])\n",
    "plt.subplot(122),plt.imshow(img_recon, cmap = 'gray')\n",
    "plt.title('Output Image'), plt.xticks([]), plt.yticks([])\n",
    "plt.show()"
   ]
  },
  {
   "cell_type": "code",
   "execution_count": null,
   "metadata": {},
   "outputs": [],
   "source": []
  },
  {
   "cell_type": "code",
   "execution_count": null,
   "metadata": {},
   "outputs": [],
   "source": []
  }
 ],
 "metadata": {
  "kernelspec": {
   "display_name": "Python 3",
   "language": "python",
   "name": "python3"
  },
  "language_info": {
   "codemirror_mode": {
    "name": "ipython",
    "version": 3
   },
   "file_extension": ".py",
   "mimetype": "text/x-python",
   "name": "python",
   "nbconvert_exporter": "python",
   "pygments_lexer": "ipython3",
   "version": "3.8.3"
  }
 },
 "nbformat": 4,
 "nbformat_minor": 4
}
