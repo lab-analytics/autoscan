{
 "cells": [
  {
   "cell_type": "code",
   "execution_count": null,
   "metadata": {},
   "outputs": [],
   "source": [
    "%matplotlib inline\n",
    "import os, sys\n",
    "import numpy as np\n",
    "import pandas as pd\n",
    "from pathlib import Path\n",
    "\n",
    "# define the current path (notebooks in lab_utils)\n",
    "currpath = os.getcwd()\n",
    "labutilspath = str(Path(currpath).parents[1])\n",
    "sys.path.append(labutilspath)\n",
    "\n",
    "# import the autoscan routines\n",
    "from autoscan import autoscan"
   ]
  },
  {
   "cell_type": "code",
   "execution_count": null,
   "metadata": {},
   "outputs": [],
   "source": [
    "# define paths\n",
    "basepath = '/sandbox/data/'\n",
    "\n",
    "# set the asdatapath accordingly (where is the atuoscan data inside basedatapath?)\n",
    "asdatapath   = 'autoscan'\n",
    "\n",
    "# set datapath\n",
    "datapath = os.path.join(basepath, asdatapath)\n",
    "\n",
    "pp = autoscan.postprocess(labutilspath = labutilspath)\n",
    "pp.debug = False"
   ]
  },
  {
   "cell_type": "code",
   "execution_count": null,
   "metadata": {},
   "outputs": [],
   "source": [
    "# load the summary dataframe with all measurement\n",
    "summary = pd.read_csv(os.path.join(datapath,'summary.csv'))\n",
    "\n",
    "# remove ztop and zbottom\n",
    "# t = summary['relroot'].apply(lambda x: len(re.findall(r'ztop|zbottom', x))==0)\n",
    "# summary = summary.loc[t,:].copy()\n",
    "\n",
    "# shortern column's names\n",
    "summary.rename(columns = pp.info_columns_short, inplace = True)\n",
    "\n",
    "# set side to a numeric value (this makes it easy to save data and avoid performance hits due to dtypes mismatchs)\n",
    "summary.side.fillna('a', inplace = True)\n",
    "summary.side = summary.side.apply(pp._val_replace)\n",
    "\n",
    "# set experiment to default values instead of nan\n",
    "summary.experiment.fillna('before', inplace = True)\n",
    "# set s0 as the default subsample when none is defined\n",
    "summary.subtag.replace(np.nan, 's0', inplace = True) \n",
    "\n",
    "# sort the columns in an specific order\n",
    "sortcols = ['tag','subtag', 'instance', 'experiment','side', 'probe']\n",
    "summary.sort_values(by = sortcols, ignore_index = True, inplace = True)\n",
    "\n",
    "fdesc = summary.set_index(['family', 'code'] + sortcols[:-1]).loc[:, ['probe', 'relroot']].copy()\n",
    "fdesc = pp._fix_repeated_probes(fdesc, debug = False)\n",
    "\n",
    "print('\\n####### summary #######\\n', fdesc.describe().iloc[[0, 1, 3], :], '\\n', sep = '\\n')\n",
    "# fdesc.info(verbose = False)\n",
    "N = fdesc.index.nunique(dropna = False)\n",
    "\n",
    "print('number of unique samples: %d' % (N))"
   ]
  },
  {
   "cell_type": "code",
   "execution_count": null,
   "metadata": {},
   "outputs": [],
   "source": [
    "dfl = []\n",
    "# db = pp.empty_dataframe\n",
    "key_names = fdesc.index.names + ['m']\n",
    "fdesc['loaded'] = False\n",
    "pp.sample_data_index_names = list(fdesc.index.names) + ['m']\n",
    "\n",
    "for k, r in enumerate(fdesc.index.unique()):\n",
    "    ftest = fdesc.loc[[r], :]\n",
    "    print(\"loaded: %2.2f\" % (100 * k / N), r, sep = '\\t', end = '\\r')\n",
    "    try:\n",
    "        df = pp.read_sample_data(ftest, datapath = datapath,\n",
    "                                 na_values = ['None', 'mm', 'cm^-1', 'cm', 'mD', 'Pa', 'm/s', 'm', 's', 'degrees'],\n",
    "                                 infer_row_settings = True)\n",
    "        dfl.append(df)\n",
    "        del df\n",
    "        fdesc.loc[[r], 'loaded'] = True\n",
    "    except Exception as e: \n",
    "        print(e)\n",
    "        print('\\n\\ncheck ', fdesc.loc[[r], 'relroot'])\n",
    "df = pd.concat(dfl)\n",
    "df.describe()\n",
    "del dfl"
   ]
  },
  {
   "cell_type": "code",
   "execution_count": null,
   "metadata": {},
   "outputs": [],
   "source": [
    "# save tje data to an h5 file, mode ='w' means it will overwrite the file there. \n",
    "savefile = os.path.join(datapath, 'autoscan.h5')\n",
    "df.to_hdf(savefile, key = 'data', mode = 'w', data_columns = True, complevel = 9)\n",
    "fdesc.to_hdf(savefile, key = 'description',  mode = 'a')"
   ]
  },
  {
   "cell_type": "code",
   "execution_count": null,
   "metadata": {},
   "outputs": [],
   "source": []
  }
 ],
 "metadata": {
  "kernelspec": {
   "display_name": "Python [conda env:numerics]",
   "language": "python",
   "name": "conda-env-numerics-py"
  },
  "language_info": {
   "codemirror_mode": {
    "name": "ipython",
    "version": 3
   },
   "file_extension": ".py",
   "mimetype": "text/x-python",
   "name": "python",
   "nbconvert_exporter": "python",
   "pygments_lexer": "ipython3",
   "version": "3.9.1"
  }
 },
 "nbformat": 4,
 "nbformat_minor": 4
}
