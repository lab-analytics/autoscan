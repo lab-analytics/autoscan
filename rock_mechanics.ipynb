{
 "cells": [
  {
   "cell_type": "code",
   "execution_count": null,
   "metadata": {},
   "outputs": [],
   "source": [
    "import os, sys\n",
    "import pandas as pd\n",
    "import numpy as np\n",
    "\n",
    "from pathlib import Path\n",
    "\n",
    "# define the current path (notebooks in lab_utils)\n",
    "currpath = os.getcwd()\n",
    "labutilspath = str(Path(currpath).parents[1])\n",
    "sys.path.append(labutilspath)\n",
    "\n",
    "# import the autoscan routines\n",
    "from autoscan import autoscan\n",
    "\n",
    "pp = autoscan.postprocess()\n",
    "\n",
    "def shear(vel, rho = 1):\n",
    "    return rho * np.power(vel[1], 2)\n",
    "\n",
    "def youngs(vel, rho = 1):\n",
    "    v2 = np.power(vel, 2)\n",
    "    E = rho *  np.product([v2[:, 1], 3 * v2[:, 0] - 4 * v2[:, 1]], axis = 0)\n",
    "    E = np.divide(E, (v2[:, 0] - v2[:, 1]))\n",
    "    return E\n",
    "\n",
    "def lame(vel, rho = 1):\n",
    "    v2 = np.power(vel, 2)\n",
    "    l  = rho * (v2[:, 0] - 2 * v2[:, 1])\n",
    "    return l\n",
    "\n",
    "def bulk(vel, rho = 1):\n",
    "    v2 = np.power(vel, 2)\n",
    "    k  = rho * (v2[:, 0] - (4.0/3.0) * v2[:, 1])\n",
    "    return k\n",
    "\n",
    "def nu(vel, rho = 1):\n",
    "    v2 = np.power(vel, 2)\n",
    "    nu = np.divide(v2[:, 0] - 2 * v2[:, 1], 2 * (v2[:, 0] - v2[:, 1]))\n",
    "    return nu\n"
   ]
  },
  {
   "cell_type": "code",
   "execution_count": null,
   "metadata": {},
   "outputs": [],
   "source": [
    "datapath = '/home/urlab/sandbox/data/characterization/autoscan/autoscan.h5'\n",
    "savepath = '/home/urlab/Documents/'"
   ]
  },
  {
   "cell_type": "code",
   "execution_count": null,
   "metadata": {},
   "outputs": [],
   "source": [
    "df = pd.read_hdf(datapath, key = 'data')"
   ]
  },
  {
   "cell_type": "code",
   "execution_count": null,
   "metadata": {},
   "outputs": [],
   "source": [
    "rocks = {'ah_001':  {'subtag': 's0', 'rho': 2.97},\n",
    "         'sh_003':  {'subtag': 's0', 'rho': 2.584},\n",
    "         'sh_001':  {'subtag': 's0', 'rho': 2.584},\n",
    "         'wsg_003': {'subtag': 's3', 'rho': 2.323}, \n",
    "         'wsg_004': {'subtag': 's1', 'rho': 2.323}, \n",
    "        }\n",
    "\n",
    "features = ['perm', ['vp_0', 'vs_0'], 'e_star']\n",
    "velfeatures = ['M', 'k', 'E', 'nu']"
   ]
  },
  {
   "cell_type": "code",
   "execution_count": null,
   "metadata": {},
   "outputs": [],
   "source": [
    "# for k, v in rocks.items():\n",
    "#     for feature in features:\n",
    "#         if isinstance(feature, str): feature = [feature]\n",
    "#         dt = df.query(\"tag == '%s' & subtag == '%s' & instance == 'before'\" % (k, v['subtag'])).loc[:, ['x', 'y'] + feature].copy()\n",
    "#         dt.dropna(inplace = True)\n",
    "#         dt.reset_index(inplace = True, drop = True)\n",
    "#         if dt.shape[0] > 0:\n",
    "#             if 'vp_0' in feature:\n",
    "#                 feature = ['vels']\n",
    "#                 vels = dt.loc[:, ['vp_0', 'vs_0']].values \n",
    "#                 rho  = v['rho']\n",
    "#                 dt['M'] = dt.loc[:, ['vs_0']].apply(lambda x: rho * np.power(x, 2))\n",
    "#                 dt['E'] = youngs(vels, rho)\n",
    "#                 dt['l'] = lame(vels, rho)\n",
    "#                 dt['k'] = bulk(vels, rho)\n",
    "#                 dt['nu'] = nu(vels, rho)\n",
    "                \n",
    "#                 for m in dt.columns[-5:]:\n",
    "#                     savefile = os.path.join(savepath, '_'.join(['data', k, v['subtag']] + feature + [m]) + '.csv')\n",
    "#                     dt.loc[:, ['x', 'y', m]].to_csv(savefile, index = False)\n",
    "            \n",
    "#             savefile = os.path.join(savepath, '_'.join(['data', k, v['subtag']] + feature) + '.csv')\n",
    "#             dt.to_csv(savefile, index = False)"
   ]
  },
  {
   "cell_type": "code",
   "execution_count": null,
   "metadata": {},
   "outputs": [],
   "source": [
    "df.index.names"
   ]
  },
  {
   "cell_type": "code",
   "execution_count": null,
   "metadata": {},
   "outputs": [],
   "source": [
    "# df.iloc[:, 2:].groupby(level = 'code').agg(['median', 'mean', 'std', 'min', 'max'])"
   ]
  },
  {
   "cell_type": "code",
   "execution_count": null,
   "metadata": {},
   "outputs": [],
   "source": [
    "ftir_lambdas = pp.probe_settings['ftir']['lambdas'].shape\n",
    "data = df.iloc[:, 2:]\n"
   ]
  },
  {
   "cell_type": "code",
   "execution_count": null,
   "metadata": {},
   "outputs": [],
   "source": [
    "vels = data.loc[:, ['vp_0', 'vs_0']].copy()\n",
    "\n",
    "# drop nan's\n",
    "vels.dropna(inplace = True)\n",
    "\n",
    "# remove vals<0\n",
    "idx = np.logical_and((vels >= 1e3).all(axis = 1), (vels <= 7e3).all(axis = 1))\n",
    "print(\"estimated correct values %.2f pct\" % (100 * np.sum(idx) / vels.shape[0]))\n",
    "print(\"samples to re-process: %s\" % (vels.loc[idx == False, :].index.droplevel('m').unique()) )\n",
    "vels = vels.loc[idx, :]"
   ]
  },
  {
   "cell_type": "code",
   "execution_count": null,
   "metadata": {},
   "outputs": [],
   "source": [
    "vels.index.droplevel('m')"
   ]
  },
  {
   "cell_type": "code",
   "execution_count": null,
   "metadata": {},
   "outputs": [],
   "source": [
    "\n",
    "vels.boxplot(by = 'code', figsize = (20, 10), fontsize = 12)\n",
    "# vels.groupby('code').boxplot()"
   ]
  },
  {
   "cell_type": "code",
   "execution_count": null,
   "metadata": {},
   "outputs": [],
   "source": [
    "# vels.groupby('code').plot(kind = 'scatter', grid = True, x = 'vp_0', y = 'vs_0', figsize = (10, 10))\n",
    "import matplotlib.pyplot as plt\n",
    "\n",
    "groups = vels.groupby('code')\n",
    "fig, ax = plt.subplots(figsize = (10,10))\n",
    "for name, group in groups:\n",
    "    ax.scatter(group.vp_0, group.vs_0, marker='.', label=name, alpha = 0.25, cmap = 'viridis')\n",
    "ax.grid(c = 'grey')\n",
    "ax.set_xlabel('Vp', fontsize = 12, fontweight = 'bold')\n",
    "ax.set_ylabel('Vs', fontsize = 12, fontweight = 'bold')\n",
    "plt.legend()"
   ]
  },
  {
   "cell_type": "code",
   "execution_count": null,
   "metadata": {},
   "outputs": [],
   "source": [
    "vels = data.loc[:, ['vp_0', 'vs_0']].copy()\n",
    "idx = (vels<0).any(axis = 1)\n",
    "vels.loc[idx, :].index.get_level_values('tag').unique()"
   ]
  },
  {
   "cell_type": "code",
   "execution_count": null,
   "metadata": {},
   "outputs": [],
   "source": [
    "sum(idx)"
   ]
  },
  {
   "cell_type": "code",
   "execution_count": null,
   "metadata": {},
   "outputs": [],
   "source": [
    "vels.shape[0] - 99"
   ]
  },
  {
   "cell_type": "code",
   "execution_count": null,
   "metadata": {},
   "outputs": [],
   "source": []
  }
 ],
 "metadata": {
  "kernelspec": {
   "display_name": "base",
   "language": "python",
   "name": "base"
  },
  "language_info": {
   "codemirror_mode": {
    "name": "ipython",
    "version": 3
   },
   "file_extension": ".py",
   "mimetype": "text/x-python",
   "name": "python",
   "nbconvert_exporter": "python",
   "pygments_lexer": "ipython3",
   "version": "3.8.3"
  }
 },
 "nbformat": 4,
 "nbformat_minor": 4
}
