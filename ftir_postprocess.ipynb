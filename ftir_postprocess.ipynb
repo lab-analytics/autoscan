{
 "cells": [
  {
   "cell_type": "code",
   "execution_count": null,
   "id": "related-rebate",
   "metadata": {},
   "outputs": [],
   "source": [
    "%matplotlib inline\n",
    "import os, sys\n",
    "import scipy as sp\n",
    "import numpy as np\n",
    "from scipy import signal as sg\n",
    "import seaborn as sns\n",
    "import matplotlib\n",
    "import matplotlib.pyplot as plt\n",
    "import peakdetect\n",
    "import pandas as pd\n",
    "from pathlib import Path\n",
    "# define the current path (notebooks in lab_utils)\n",
    "currpath = os.getcwd()\n",
    "labutilspath = str(Path(currpath).parents[1])\n",
    "sys.path.append(labutilspath)\n",
    "\n",
    "# import the autoscan routines\n",
    "from autoscan import autoscan\n",
    "\n",
    "# define paths\n",
    "basepath = '/sandbox/data/'\n",
    "\n",
    "# set the asdatapath accordingly (where is the atuoscan data inside basedatapath?)\n",
    "asdatapath   = 'autoscan'\n",
    "\n",
    "# set datapath\n",
    "datapath = os.path.join(basepath, asdatapath)\n",
    "\n",
    "pp = autoscan.basics(labutilspath = labutilspath)\n",
    "pp.debug = False"
   ]
  },
  {
   "cell_type": "code",
   "execution_count": null,
   "id": "royal-elevation",
   "metadata": {},
   "outputs": [],
   "source": [
    "# read the data\n",
    "df = pd.read_hdf(os.path.join(datapath, 'autoscan.h5'), key = 'data')"
   ]
  },
  {
   "cell_type": "code",
   "execution_count": null,
   "id": "external-carnival",
   "metadata": {},
   "outputs": [],
   "source": [
    "# plat with a single ftir\n",
    "ftir_lambdas = pp.probe_settings['ftir']['lambdas']\n",
    "ftir = np.array([ftir_lambdas, df.iloc[0, 2:1754].values])\n",
    "ftir_mean = np.mean(ftir[1])\n",
    "ftir_stdv = np.std(ftir[1])"
   ]
  },
  {
   "cell_type": "code",
   "execution_count": null,
   "id": "behavioral-england",
   "metadata": {},
   "outputs": [],
   "source": [
    "p1 = sg.find_peaks_cwt(ftir[1], widths = [6, 200], min_snr = 1)\n",
    "p2, p2dict = sg.find_peaks(ftir[1], prominence = [0.048, 3], distance = 1, \n",
    "                           width = [2, 200])\n",
    "p3, _ = peakdetect.peakdetect(ftir[1], lookahead = 6, delta = 0.045)\n",
    "p3 = [p[0] for p in p3]\n",
    "\n",
    "fig, ax = plt.subplots(nrows = 3, figsize=(12,12), sharex = True)\n",
    "colors = ['r', 'g', 'm']\n",
    "methods = ['sp cwt', 'spfind_peaks', 'peakdetect']\n",
    "for k, p in enumerate([p1, p2, p3]):\n",
    "    sns.lineplot(x = ftir[0], y = ftir[1], ax = ax[k])\n",
    "    sns.scatterplot(x = ftir[0][p], y = ftir[1][p], color = colors[k], s = 100, ax = ax[k])\n",
    "    ax[k].set_title(methods[k])\n",
    "sns.set_style(\"dark\")\n"
   ]
  },
  {
   "cell_type": "code",
   "execution_count": null,
   "id": "searching-canon",
   "metadata": {},
   "outputs": [],
   "source": [
    "ftirs = df.iloc[:, 2:1754].copy()\n",
    "ftirs.dropna(how = 'all', inplace = True)"
   ]
  },
  {
   "cell_type": "code",
   "execution_count": null,
   "id": "proprietary-feeling",
   "metadata": {},
   "outputs": [],
   "source": [
    "# ftirs.groupby(level = ['tag', 'subtag', 'instance', 'experiment', 'side']).fillna('bfill')"
   ]
  },
  {
   "cell_type": "code",
   "execution_count": null,
   "id": "working-acceptance",
   "metadata": {},
   "outputs": [],
   "source": []
  }
 ],
 "metadata": {
  "kernelspec": {
   "display_name": "Python [conda env:numerics]",
   "language": "python",
   "name": "conda-env-numerics-py"
  },
  "language_info": {
   "codemirror_mode": {
    "name": "ipython",
    "version": 3
   },
   "file_extension": ".py",
   "mimetype": "text/x-python",
   "name": "python",
   "nbconvert_exporter": "python",
   "pygments_lexer": "ipython3",
   "version": "3.9.1"
  }
 },
 "nbformat": 4,
 "nbformat_minor": 5
}
