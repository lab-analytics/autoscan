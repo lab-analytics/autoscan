{
 "cells": [
  {
   "cell_type": "code",
   "execution_count": null,
   "metadata": {},
   "outputs": [],
   "source": [
    "import os, sys, re\n",
    "import pandas as pd\n",
    "import numpy as np\n",
    "\n",
    "def probeix(df, vmin, vmax):\n",
    "    return np.logical_and((df >= vmin).all(axis = 1), (df <= vmax).all(axis = 1))\n",
    "\n",
    "def test(x, th = 0.5, vmin = 0, vmax = 1e6):\n",
    "    s = probeix(x, vmin = vmin, vmax = vmax)\n",
    "    test = s.sum() / len(s) >= th\n",
    "#     ntrue  = s.sum()\n",
    "#     nfalse = (s == False).sum()\n",
    "    return test\n",
    "\n",
    "def get_wrong_measurements(df, probe = None, desc = None, th = 0.5, vmin = 0, vmax = 1e6):\n",
    "#     desc2 = desc.sort_index()\n",
    "    ix = vels.groupby(level = desc.index.names).apply(test, vmin = vmin, vmax = vmax)\n",
    "    if not np.logical_or(probe is None, desc is None):\n",
    "        out = desc.loc[ix == False].query(\"probe == '%s'\" %(probe))\n",
    "        out = (out, ix)\n",
    "    else:\n",
    "        out = ix\n",
    "    return out\n",
    "\n",
    "def pprint(msg, msg_title = '', msg_decorator = '#', len_decorator = 40):\n",
    "    nhead = len_decorator - len(msg_title) - 2\n",
    "    if nhead <= 0:\n",
    "        nhead = 1\n",
    "        nfoot = len(msg_title) + 4\n",
    "    else:\n",
    "        nfoot = len_decorator\n",
    "    \n",
    "    top_decorator = msg_decorator * (nhead // 2) \n",
    "    print(top_decorator + ' ' + msg_title  +  ' ' + top_decorator, \n",
    "          msg, nfoot * '#' + '\\n',\n",
    "          sep = '\\n')\n",
    "    return\n",
    "mix = pd.IndexSlice"
   ]
  },
  {
   "cell_type": "code",
   "execution_count": null,
   "metadata": {},
   "outputs": [],
   "source": [
    "datapath = '/home/urlab/sandbox/data/characterization/autoscan/autoscan.h5'\n",
    "savepath = '/home/urlab/Documents/'\n",
    "\n",
    "# load the data\n",
    "df = pd.read_hdf(datapath, key = 'data')\n",
    "desc = pd.read_hdf(datapath, key = 'description')"
   ]
  },
  {
   "cell_type": "code",
   "execution_count": null,
   "metadata": {},
   "outputs": [],
   "source": [
    "velcols = df.columns[-4:-2]\n",
    "permcol = 'perm'\n",
    "hammcol = 'e_star'\n",
    "\n",
    "describe_cols = ['mean', 'std', 'min', 'max',]"
   ]
  },
  {
   "cell_type": "code",
   "execution_count": null,
   "metadata": {},
   "outputs": [],
   "source": [
    "# set min and max expected for measurement\n",
    "velmin = 0.5e3\n",
    "velmax = 7.0e3\n",
    "\n",
    "# check velocities\n",
    "vels = df.loc[:, velcols]\n",
    "\n",
    "## identify offending values and those to keep\n",
    "velidx = probeix(vels, vmin = velmin, vmax = velmax)\n",
    "\n",
    "## firtst check how they are distributed\n",
    "pprint(vels.describe().apply(np.round, decimals = 2), 'summary of raw')\n",
    "\n",
    "## check the data makes sense\n",
    "pprint(vels.loc[velidx, :].describe().apply(np.round, decimals = 2), 'summary of correct measurements')\n",
    "\n",
    "# get the labels that have problem\n",
    "out, ix = get_wrong_measurements(vels, probe = 'vel', desc = desc, vmin = velmin, vmax = velmax)\n",
    "\n",
    "# the ix returned from get_wrong_measurements considers only those measurements for which more than half the values were correct.\n",
    "# samples that don't meet this criteria are lost. THis is different than probeix, which only considers the values, independent of the samples. \n",
    "## check the data makes sense\n",
    "pprint(vels.loc[mix[ix, :]].describe().apply(np.round, decimals = 2), 'summary with correct samples')"
   ]
  },
  {
   "cell_type": "code",
   "execution_count": null,
   "metadata": {},
   "outputs": [],
   "source": [
    "# vels.loc[mix[ix, :]]\n",
    "ss = ix[ix]\n",
    "s = ss.index.values\n",
    "print(s.shape, ss.shape, velidx.shape, velidx.index.droplevel(6).unique().shape, ix.shape)"
   ]
  },
  {
   "cell_type": "code",
   "execution_count": null,
   "metadata": {},
   "outputs": [],
   "source": [
    "tt = [t for t in s]\n",
    "vv = [v for v in vels.index.droplevel(6).values]\n",
    "\n",
    "d = np.zeros(len(vv))\n",
    "\n",
    "for j in range(len(tt)):\n",
    "    kappa = len(vv)\n",
    "    for k in range(kappa):\n",
    "        if vv[k] == tt[j]:\n",
    "            d[k] = 1\n",
    "d.shape\n",
    "\n",
    "\n",
    "# vels.loc[mix[tt[0], :]]\n",
    "# mix[s[0], :]"
   ]
  },
  {
   "cell_type": "code",
   "execution_count": null,
   "metadata": {},
   "outputs": [],
   "source": [
    "x = [vels.index.values[k] for j in range(len(tt)) for k in range(len(vv)) if vv[k] == tt[j]]\n",
    "len(x)\n",
    "# vels.loc(axis = 0)[mix[ss.index[4]]]"
   ]
  },
  {
   "cell_type": "code",
   "execution_count": null,
   "metadata": {},
   "outputs": [],
   "source": [
    "v = velidx.index.droplevel(6).values\n",
    "s = ss.index.values\n",
    "x = [vels.index[k] for j in range(len(s)) for k in range(len(v)) if v[k] == s[j]]"
   ]
  },
  {
   "cell_type": "code",
   "execution_count": null,
   "metadata": {},
   "outputs": [],
   "source": [
    "indexer = vels.index[d == 1]\n",
    "vels.loc[indexer].describe()"
   ]
  },
  {
   "cell_type": "code",
   "execution_count": null,
   "metadata": {},
   "outputs": [],
   "source": [
    "perm = df.loc[:, [permcol]]\n",
    "print(perm.describe())\n",
    "permidx = probeix(perm, vmin = 0.3, vmax = 5e3)\n",
    "## check the data makes sense\n",
    "print(perm.loc[permidx, :].describe())\n",
    "\n",
    "## print the labels that have problem\n",
    "out, _  = get_wrong_measurements(perm, permidx, 'perm', desc)\n",
    "out.sample(10)"
   ]
  },
  {
   "cell_type": "code",
   "execution_count": null,
   "metadata": {},
   "outputs": [],
   "source": [
    "# remove offending values and keep just good measurements\n",
    "idx = np.logical_and(velidx.values, permidx.values)\n",
    "dc = df.loc[idx, :]"
   ]
  },
  {
   "cell_type": "code",
   "execution_count": null,
   "metadata": {},
   "outputs": [],
   "source": [
    "# alternative, fill the values with means or nans\n",
    "vels.loc[velidx == False, :] = np.nan\n",
    "desc.loc[vels.index[velidx == False].droplevel(6).drop_duplicates()].query(\"probe == 'vel'\")"
   ]
  },
  {
   "cell_type": "code",
   "execution_count": null,
   "metadata": {},
   "outputs": [],
   "source": [
    "# x = velidx[velidx == False].index.droplevel(6).drop_duplicates()\n",
    "# for t in x:\n",
    "#     vels.loc[mix[[*t], :], :]"
   ]
  },
  {
   "cell_type": "code",
   "execution_count": null,
   "metadata": {},
   "outputs": [],
   "source": [
    "# means = vels.groupby(level = velidx.index.names[:-1], sort = False).apply(np.mean)\n",
    "\n",
    "# for dd in means.index:\n",
    "#     pass\n",
    "# dd"
   ]
  },
  {
   "cell_type": "code",
   "execution_count": null,
   "metadata": {},
   "outputs": [],
   "source": [
    "# mix = pd.IndexSlice\n",
    "# mix[[*ix], :]\n",
    "# vels.loc(axis = 0)[mix[[dd], :], :]"
   ]
  },
  {
   "cell_type": "code",
   "execution_count": null,
   "metadata": {},
   "outputs": [],
   "source": [
    "# def myquery(x, vels, velmin = 0.5e3, velmax = v):\n",
    "#     v = vels.copy()\n",
    "#     s = v.loc[x, :].shape[0]\n",
    "#     idx = np.logical_and((v >= velmin).all(axis = 1), (v <= velmax).all(axis = 1))\n",
    "#     skeep = np.sum(idx)\n",
    "#     sdrop = np.sum(idx == False)\n",
    "#     return s, skeep, sdrop\n",
    "\n",
    "# for a, b in idx.loc[revise_idx, :].groupby(level = idx.index.names[2:-1]):\n",
    "#     pass#.describe()\n",
    "\n",
    "# x = revise_idx.droplevel(6).drop_duplicates()\n",
    "# idx.loc[slice(x, :), :]\n",
    "\n",
    "# idx.loc[revise_idx, :]\n",
    "# idx.groupby(level = idx.index.names[2:-1]).describe()\n",
    "# .loc[:, 'r'] = 'review'\n",
    "\n",
    "# mix = pd.IndexSlice\n",
    "# pd.concat((idx.loc[mix[[*t], :]] for t in x)) \n",
    "\n",
    "# mix = pd.IndexSlice\n",
    "# pd.concat((idx.loc[mix[[*t], :]] for t in x)) "
   ]
  }
 ],
 "metadata": {
  "kernelspec": {
   "display_name": "base",
   "language": "python",
   "name": "base"
  },
  "language_info": {
   "codemirror_mode": {
    "name": "ipython",
    "version": 3
   },
   "file_extension": ".py",
   "mimetype": "text/x-python",
   "name": "python",
   "nbconvert_exporter": "python",
   "pygments_lexer": "ipython3",
   "version": "3.8.3"
  }
 },
 "nbformat": 4,
 "nbformat_minor": 4
}
