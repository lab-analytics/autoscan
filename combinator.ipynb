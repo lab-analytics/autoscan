{
 "cells": [
  {
   "cell_type": "code",
   "execution_count": null,
   "metadata": {},
   "outputs": [],
   "source": [
    "from glob import glob\n",
    "import pandas as pd\n",
    "from pathlib import Path\n",
    "import os, sys, re\n",
    "\n",
    "# define the current path (notebooks in lab_utils)\n",
    "currpath = os.getcwd()\n",
    "labutilspath = str(Path(currpath).parents[1])\n",
    "sys.path.append(labutilspath)\n",
    "\n",
    "# import the autoscan routines\n",
    "from autoscan import autoscan\n",
    "\n",
    "def numericalSort(value):\n",
    "    parts = numbers.split(value)\n",
    "    parts[1::2] = map(int, parts[1::2])\n",
    "    return parts\n",
    "\n",
    "numbers = re.compile(r'(\\d+)')\n",
    "\n",
    "pp = autoscan.postprocess(labutilspath = labutilspath)\n",
    "pp.debug = False"
   ]
  },
  {
   "cell_type": "code",
   "execution_count": null,
   "metadata": {},
   "outputs": [],
   "source": [
    "datapath = '/sandbox/data/autoscan/wsg_007/base/subsamples/plugs/processed'"
   ]
  },
  {
   "cell_type": "code",
   "execution_count": null,
   "metadata": {},
   "outputs": [],
   "source": [
    "files = glob(os.path.join(datapath, 'ftir*'))\n",
    "files = sorted(files, key = numericalSort)"
   ]
  },
  {
   "cell_type": "code",
   "execution_count": null,
   "metadata": {},
   "outputs": [],
   "source": [
    "df = pd.concat((pp.read_data(f, probe = 'ftir', zero_offset = False, fix_xy = False) \n",
    "                for f in files))"
   ]
  },
  {
   "cell_type": "code",
   "execution_count": null,
   "metadata": {},
   "outputs": [],
   "source": [
    "# do this to match the x and y between files\n",
    "# df.loc[:, ['x', 'y']] = \n",
    "dp = pp.read_data(os.path.join(datapath, 'perm_before.csv'), probe = 'perm', \n",
    "                  zero_offset = False, fix_xy = False)#.loc[:3,['x','y']].values"
   ]
  },
  {
   "cell_type": "code",
   "execution_count": null,
   "metadata": {},
   "outputs": [],
   "source": [
    "# df.loc[:, 'y'] = 25"
   ]
  },
  {
   "cell_type": "code",
   "execution_count": null,
   "metadata": {},
   "outputs": [],
   "source": [
    "print('the shape of df: ', df.shape, '\\nthe shape of dp: ', dp.shape)"
   ]
  },
  {
   "cell_type": "code",
   "execution_count": null,
   "metadata": {},
   "outputs": [],
   "source": [
    "xf = set(df.x.unique())\n",
    "xp = set(dp.x.unique())\n",
    "\n",
    "yf = set(df.y.unique())\n",
    "yp = set(dp.y.unique())\n",
    "\n",
    "if len(xp - xf)>0:\n",
    "    print('x values do not coincide, missing values\\n', xp - xf)\n",
    "\n",
    "if len(yp -yf)>0:\n",
    "    print('y values do not coincide, missing values\\n', yp - yf)"
   ]
  },
  {
   "cell_type": "code",
   "execution_count": null,
   "metadata": {},
   "outputs": [],
   "source": [
    "# df.to_csv(os.path.join(datapath, 'ftir_before.csv'), index = False)"
   ]
  },
  {
   "cell_type": "code",
   "execution_count": null,
   "metadata": {},
   "outputs": [],
   "source": [
    "dfi = df.set_index(['x', 'y']).copy()\n",
    "dpi = dp.set_index(['x', 'y']).copy()\n",
    "dfi = dfi.join(dpi, how = 'outer').reset_index().iloc[:, :-3]"
   ]
  },
  {
   "cell_type": "code",
   "execution_count": null,
   "metadata": {},
   "outputs": [],
   "source": [
    "dfi.to_csv(os.path.join(datapath, 'ftir_before.csv'), index = False)"
   ]
  }
 ],
 "metadata": {
  "kernelspec": {
   "display_name": "Python [conda env:numerics] *",
   "language": "python",
   "name": "conda-env-numerics-py"
  },
  "language_info": {
   "codemirror_mode": {
    "name": "ipython",
    "version": 3
   },
   "file_extension": ".py",
   "mimetype": "text/x-python",
   "name": "python",
   "nbconvert_exporter": "python",
   "pygments_lexer": "ipython3",
   "version": "3.9.1"
  }
 },
 "nbformat": 4,
 "nbformat_minor": 4
}
