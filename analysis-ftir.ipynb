{
 "cells": [
  {
   "cell_type": "code",
   "execution_count": null,
   "id": "contained-secondary",
   "metadata": {},
   "outputs": [],
   "source": [
    "import os, sys, re, io, pathlib\n",
    "import pandas as pd\n",
    "import seaborn as sns\n",
    "import matplotlib.pyplot as plt\n",
    "import numpy as np\n",
    "import itertools\n",
    "import cudf\n",
    "# import cuml\n",
    "from cuml.manifold import TSNE\n",
    "from cuml.cluster import KMeans\n",
    "from sklearn.preprocessing import normalize\n",
    "\n",
    "# idx = pd.IndexSlice\n",
    "buffer = io.StringIO()\n",
    "# idx = pd.IndexSlice\n",
    "\n",
    "# define the current path (notebooks in lab_utils)\n",
    "labutilspath = str(pathlib.Path(os.getcwd()).parents[1])\n",
    "sys.path.append(labutilspath)\n",
    "\n",
    "# import the autoscan routines\n",
    "from autoscan import autoscan\n",
    "\n",
    "pp = autoscan.basics(material_info = True)\n",
    "\n",
    "def ix_before_and_after(ds, index = ['tag', 'subtag'], columns = 'experiment', values = 'ix', mask = None, subset = None, aggfunc = lambda x: [*x],\n",
    "                        dropna_tresh = 2, chain = True):\n",
    "    ds.loc[:, 'ix'] = ds.index.values\n",
    "    if mask is not None:\n",
    "        ds = ds.loc[mask, :]\n",
    "    dx = ds.pivot_table(index = index, \n",
    "                        columns = columns, \n",
    "                        values = values, \n",
    "                        aggfunc = aggfunc)\n",
    "    if subset is not None:\n",
    "        dx = dx.loc[:, subset]\n",
    "    dx.dropna(thresh = dropna_tresh, inplace = True)\n",
    "\n",
    "    # dp.loc[idx[dx.index[1], :], 'ix']\n",
    "\n",
    "    # get the index of samples with before and after characterization\n",
    "    if chain:\n",
    "        ix = list(itertools.chain(*dx.apply(lambda x: [*itertools.chain(*[s for s in x if type(s) != float])], axis = 1).values))\n",
    "    else:\n",
    "        ix = dx\n",
    "    return ix\n",
    "\n",
    "def set_spe_style(ax, title = '', xlabel = '', ylabel=''):\n",
    "    plt.sca(ax)\n",
    "    plt.title(title, fontweight = 'bold');\n",
    "    plt.xlabel(xlabel, fontweight = 'bold')\n",
    "    plt.ylabel(ylabel, fontweight = 'bold');\n",
    "    plt.xticks(fontweight = 'bold');\n",
    "    plt.yticks(fontweight = 'bold');\n",
    "    return ax\n",
    "\n",
    "rc_dict = {\n",
    "    \"font.size\":12,\n",
    "    'font.weight':'bold',\n",
    "    \"axes.titlesize\":12,\n",
    "    \"axes.titleweight\":'bold',\n",
    "    \"axes.labelsize\":12,\n",
    "    'axes.labelweight':'bold',\n",
    "    'xtick.labelsize':12,\n",
    "    'ytick.labelsize':12,\n",
    "    'legend.frameon':True,\n",
    "    'legend.fontsize':12,\n",
    "    'legend.title_fontsize':12,\n",
    "}\n",
    "\n",
    "sns.set_context(\"paper\", \n",
    "                rc = rc_dict)\n",
    "\n",
    "sns.set(rc = rc_dict)\n",
    "\n",
    "sns.set_style('darkgrid')"
   ]
  },
  {
   "cell_type": "code",
   "execution_count": null,
   "id": "forbidden-monaco",
   "metadata": {},
   "outputs": [],
   "source": [
    "# define paths\n",
    "datapath = '/sandbox/data/autoscan/'\n",
    "vispath = '/sandbox/vis/autoscan/'\n",
    "savepath = datapath\n",
    "datafname = 'autoscan_corrected.h5'\n",
    "\n",
    "datafile = os.path.join(datapath, datafname)\n",
    "figspath = os.path.join(vispath, 'rock_multiphysics_display')"
   ]
  },
  {
   "cell_type": "code",
   "execution_count": null,
   "id": "settled-forwarding",
   "metadata": {},
   "outputs": [],
   "source": [
    "for p in [figspath, savepath]:\n",
    "    if not os.path.exists(p):\n",
    "        os.makedirs(p)"
   ]
  },
  {
   "cell_type": "code",
   "execution_count": null,
   "id": "racial-parish",
   "metadata": {},
   "outputs": [],
   "source": [
    "# read the data\n",
    "dd = pd.read_hdf(datafile, key = 'data')\n",
    "ds = pd.read_hdf(datafile, key = 'desc')\n",
    "df = ds.join(dd)\n",
    "del dd, ds\n",
    "\n",
    "# df.columns = list(df.columns[:10].values) + list(pp.ftir_lambdas) + list(df.columns[-23:].values)\n",
    "# set the value limits for perm\n",
    "for k,v in {'sandstone':1e3, \"shale\":1e2, 'carbonate':1e3}.items():\n",
    "    ix = df.loc[(df.family == k) & (df.instance == 'before'), 'perm'] > v\n",
    "    fill_val = df.loc[ix.index[ix == False], 'perm'].mean()\n",
    "    df.loc[ix.index[ix == True], 'perm'] = fill_val\n",
    "\n",
    "df = df.query(\"family != 'metal' & family != 'gemstones'\").copy()\n",
    "df = df.sort_values(by ='instance', ascending = False, ignore_index = True)"
   ]
  },
  {
   "cell_type": "code",
   "execution_count": null,
   "id": "electronic-owner",
   "metadata": {},
   "outputs": [],
   "source": [
    "# normalize(df.loc[df.l_1.isna() == False, pp.ftir_cols], norm = 'max')\n",
    "df_temp = df.dropna(subset = pp.ftir_cols).copy()\n",
    "df_temp.loc[:, pp.ftir_cols] = normalize(df_temp.loc[:, pp.ftir_cols], norm = 'max')\n",
    "ix = df_temp.index\n",
    "df.loc[ix, pp.ftir_cols] = df_temp.loc[:, pp.ftir_cols].values\n",
    "del df_temp, ix"
   ]
  },
  {
   "cell_type": "code",
   "execution_count": null,
   "id": "printable-effect",
   "metadata": {},
   "outputs": [],
   "source": [
    "\n",
    "# df_ftir_bna = df.loc[ix, pp.meta_cols + pp.grid_cols + pp.ftir_cols]"
   ]
  },
  {
   "cell_type": "code",
   "execution_count": null,
   "id": "material-globe",
   "metadata": {},
   "outputs": [],
   "source": [
    "df_ftir = df.loc[:, ['family', 'tag','instance', 'l_max_peak'] + pp.ftir_cols].dropna()\n",
    "newcolumns = list(df_ftir.columns[:4].values) + list(pp.ftir_lambdas)\n",
    "df_ftir.columns = newcolumns\n",
    "df_ftir.reset_index(drop = False, inplace = True)\n",
    "# df_ftir.iloc[:, 4:] = normalize(df_ftir.iloc[:, 4:])\n",
    "df_ftir.head()\n",
    "# df_ftir.iloc[:, 2:] = normalize(df_ftir.iloc[:, 2:], norm = 'max')"
   ]
  },
  {
   "cell_type": "code",
   "execution_count": null,
   "id": "recorded-string",
   "metadata": {},
   "outputs": [],
   "source": [
    "print(\"number of samples: %d, number of features: %d\" %(df_ftir.shape))\n",
    "# gdf_ftir.head()"
   ]
  },
  {
   "cell_type": "code",
   "execution_count": null,
   "id": "sophisticated-balance",
   "metadata": {},
   "outputs": [],
   "source": [
    "nclusters = 10\n",
    "kmeans = KMeans(n_clusters = nclusters, max_iter = 10000, init = 'scalable-k-means++', n_init = 10)\n",
    "kmeans.fit(df_ftir.iloc[:, 5:])\n",
    "df_ftir.loc[:, 'cluster'] = kmeans.labels_"
   ]
  },
  {
   "cell_type": "code",
   "execution_count": null,
   "id": "protective-third",
   "metadata": {},
   "outputs": [],
   "source": [
    "fig, ax = plt.subplots(figsize = (12, 12))\n",
    "sns.stripplot(x = 'family', y = 'cluster', hue = 'instance', dodge = True, data = df_ftir, ax = ax)\n",
    "plt.title('Distribution of clusters per rock family before and after')\n",
    "plt.savefig(os.path.join(figspath, 'all-rocks_kmeans_stripplot.png'), dpi = 300, bbox_inches = 'tight')"
   ]
  },
  {
   "cell_type": "code",
   "execution_count": null,
   "id": "employed-ferry",
   "metadata": {},
   "outputs": [],
   "source": [
    "# fig, ax = plt.subplots(figsize = (24, 12))\n",
    "# sns.kdeplot(x = 'l_max_peak', y = 'cluster', hue = 'family', shade = True, alpha = 0.5, data = df_ftir.query(\"instance == 'before'\"), ax = ax, \n",
    "#             palette = 'deep')"
   ]
  },
  {
   "cell_type": "code",
   "execution_count": null,
   "id": "manufactured-infrared",
   "metadata": {},
   "outputs": [],
   "source": [
    "# fig, ax = plt.subplots(figsize = (24, 12))\n",
    "# sns.kdeplot(x = 'l_max_peak', y = 'cluster', hue = 'family', shade = True, alpha = 0.5, data = df_ftir.query(\"instance == 'after'\"), ax = ax, \n",
    "#             palette = 'deep')"
   ]
  },
  {
   "cell_type": "code",
   "execution_count": null,
   "id": "sticky-donor",
   "metadata": {},
   "outputs": [],
   "source": [
    "fig, ax = plt.subplots(figsize = (12, 12))\n",
    "sns.violinplot(x = 'family', y = 'cluster', hue = 'instance', data = df_ftir, split = True, orient = 'v', inner = 'quartile', scale = 'area', ax = ax)\n",
    "plt.yticks(range(6), range(6))\n",
    "plt.title('Cluter distribution pero rock family before and after ')\n",
    "plt.savefig(os.path.join(figspath, 'all-rocks_kmeans_violinplot.png'), dpi = 300, bbox_inches = 'tight')"
   ]
  },
  {
   "cell_type": "code",
   "execution_count": null,
   "id": "defined-statement",
   "metadata": {},
   "outputs": [],
   "source": [
    "left_cols = df_ftir.columns[:5].to_list() + ['cluster']"
   ]
  },
  {
   "cell_type": "code",
   "execution_count": null,
   "id": "employed-happiness",
   "metadata": {},
   "outputs": [],
   "source": [
    "# for p in [5, 10, 15, 30, 50]:\n",
    "#     tsne = TSNE(n_components = 2, n_iter = 50000, angle = 0.8, n_neighbors = int(4 * p), perplexity = p, random_state = 1)\n",
    "    \n",
    "#     x_hat = tsne.fit_transform(df_ftir.iloc[:, 4:-1])\n",
    "#     x_hat = df_ftir.loc[:, left_cols].join(pd.DataFrame(x_hat, columns = ['u', 'v']))\n",
    "    \n",
    "#     fig, ax = plt.subplots(ncols = 2, figsize = (24, 13), sharey = True)\n",
    "#     sns.scatterplot(x = 'u', y = 'v', hue = 'cluster', style = 'family', data = x_hat.query(\"instance == 'before'\"), ax = ax[0])\n",
    "#     sns.scatterplot(x = 'u', y = 'v', hue = 'cluster', style = 'family', data = x_hat.query(\"instance == 'after' \"), ax = ax[1])\n",
    "#     ax[0].set_title('before')\n",
    "#     ax[1].set_title('after')\n",
    "#     fig.suptitle('tSNE before & after for shale, perplexity = ' + str(p), fontsize = 12, fontweight = 'bold')\n",
    "perplexity = p = 50\n",
    "neighbors = int(3 * p)\n",
    "print('neighbors = %d' % (neighbors))\n",
    "tsne = TSNE(n_components = 2, n_iter = 10000, angle = 0.8, n_neighbors = neighbors, perplexity = p, random_state = 5, learning_rate = 10)\n",
    "\n",
    "X_hat = tsne.fit_transform(df_ftir.iloc[:, 5:-1].values)"
   ]
  },
  {
   "cell_type": "code",
   "execution_count": null,
   "id": "geographic-creation",
   "metadata": {},
   "outputs": [],
   "source": [
    "x_hat = pd.concat([df_ftir.loc[:, left_cols], pd.DataFrame(X_hat, columns = ['u', 'v'])], axis = 1)\n",
    "\n",
    "fig, ax = plt.subplots(ncols = 2, figsize = (24, 13), sharey = True)\n",
    "plt.subplots_adjust(wspace = 0.05)\n",
    "sns.scatterplot(x = 'u', y = 'v', hue = 'cluster', data = x_hat.query(\"instance == 'before'\"), ax = ax[0], palette = 'viridis', legend = 'full')\n",
    "sns.scatterplot(x = 'u', y = 'v', hue = 'cluster', data = x_hat.query(\"instance == 'after' \"), ax = ax[1], palette = 'viridis', legend = 'full')\n",
    "ax[0].set_title('before')\n",
    "ax[1].set_title('after')\n",
    "fig.suptitle('tSNE before & after for all samples, perplexity = ' + str(p), fontsize = 12, fontweight = 'bold', y = 0.92)\n",
    "plt.savefig(os.path.join(figspath, 'all-rocks_tsne.png'), dpi = 300, bbox_inches = 'tight')"
   ]
  },
  {
   "cell_type": "code",
   "execution_count": null,
   "id": "centered-missouri",
   "metadata": {},
   "outputs": [],
   "source": []
  },
  {
   "cell_type": "code",
   "execution_count": null,
   "id": "stylish-fantasy",
   "metadata": {},
   "outputs": [],
   "source": [
    "mask = df.loc[:, pp.ftir_cols].isna().any(axis = 1) == False\n",
    "ix = ix_before_and_after(df.loc[:, pp.meta_cols], mask = mask, subset = ['before', 'heat_treatment', 'perf'])\n",
    "df_ftir_bna = df_ftir.set_index('index').loc[ix, :].copy()\n",
    "df_ftir_bna.reset_index(drop = False, inplace = True)"
   ]
  },
  {
   "cell_type": "code",
   "execution_count": null,
   "id": "noticed-republican",
   "metadata": {},
   "outputs": [],
   "source": [
    "nclusters = 10\n",
    "kmeans_bna = KMeans(n_clusters = nclusters, max_iter = 10000, init = 'scalable-k-means++', n_init = 10)\n",
    "kmeans_bna.fit(df_ftir_bna.iloc[:, 5:-1])\n",
    "df_ftir_bna.loc[:, 'cluster'] = kmeans_bna.labels_"
   ]
  },
  {
   "cell_type": "code",
   "execution_count": null,
   "id": "scientific-representation",
   "metadata": {},
   "outputs": [],
   "source": [
    "fig, ax = plt.subplots(figsize = (12, 12))\n",
    "sns.stripplot(x = 'family', y = 'cluster', hue = 'instance', dodge = True, data = df_ftir_bna, ax = ax)\n",
    "plt.yticks(range(nclusters), range(nclusters))\n",
    "plt.title('Distribution of clusters per rock family before and after')\n",
    "plt.savefig(os.path.join(figspath, 'all-rocks-bna_kmeans_stripplot.png'), dpi = 300, bbox_inches = 'tight')"
   ]
  },
  {
   "cell_type": "code",
   "execution_count": null,
   "id": "documentary-timber",
   "metadata": {},
   "outputs": [],
   "source": [
    "fig, ax = plt.subplots(figsize = (12, 12))\n",
    "sns.violinplot(x = 'family', y = 'cluster', hue = 'instance', data = df_ftir_bna, split = True, orient = 'v', inner = 'quartile', scale = 'area', ax = ax)\n",
    "plt.yticks(range(nclusters), range(nclusters))\n",
    "plt.title('Cluter distribution pero rock family before and after ')\n",
    "plt.savefig(os.path.join(figspath, 'all-rocks-bna_kmeans_violinplot.png'), dpi = 300, bbox_inches = 'tight')"
   ]
  },
  {
   "cell_type": "code",
   "execution_count": null,
   "id": "noble-pakistan",
   "metadata": {},
   "outputs": [],
   "source": [
    "perplexity = p = 30\n",
    "neighbors = int(5 * p)\n",
    "tsne = TSNE(n_components = 2, n_iter = 10000, angle = 0.8, n_neighbors = neighbors, perplexity = p, random_state = 5, learning_rate = 10, method = 'exact')\n",
    "\n",
    "X_hat = tsne.fit_transform(df_ftir_bna.iloc[:, 5:-1].values)"
   ]
  },
  {
   "cell_type": "code",
   "execution_count": null,
   "id": "second-singles",
   "metadata": {},
   "outputs": [],
   "source": [
    "x_hat = pd.concat([df_ftir_bna.loc[:, left_cols], pd.DataFrame(X_hat, columns = ['u', 'v'])], axis = 1)\n",
    "fig, ax = plt.subplots(ncols = 2, figsize = (24, 12.1), sharey = True)\n",
    "plt.subplots_adjust(wspace = 0.05)\n",
    "\n",
    "sns.scatterplot(x = 'u', y = 'v', hue = 'cluster', data = x_hat.query(\"instance == 'before'\"), ax = ax[0], palette = 'viridis', legend = 'full')\n",
    "sns.scatterplot(x = 'u', y = 'v', hue = 'cluster', data = x_hat.query(\"instance == 'after' \"), ax = ax[1], palette = 'viridis', legend = 'full')\n",
    "ax[0].set_title('before')\n",
    "ax[1].set_title('after')\n",
    "fig.suptitle('tSNE before & after for all samples, perplexity = ' + str(p), fontsize = 12, fontweight = 'bold', y = 0.92)\n",
    "plt.savefig(os.path.join(figspath, 'all-rocks-bna_tsne.png'), dpi = 300, bbox_inches = 'tight')"
   ]
  },
  {
   "cell_type": "code",
   "execution_count": null,
   "id": "devoted-weekly",
   "metadata": {},
   "outputs": [],
   "source": [
    "df_temp = df_ftir.query(\"tag == 'sh_001'\").copy()\n",
    "df_temp.reset_index(drop = True, inplace = True)"
   ]
  },
  {
   "cell_type": "code",
   "execution_count": null,
   "id": "public-friendship",
   "metadata": {},
   "outputs": [],
   "source": [
    "nclusters = 4\n",
    "kmeans_sh = KMeans(n_clusters = nclusters, max_iter = 10000, init = 'scalable-k-means++', n_init = 10)\n",
    "kmeans_sh.fit(df_temp.iloc[:, 5:-1])\n",
    "df_temp.loc[:, 'cluster'] = kmeans_sh.labels_"
   ]
  },
  {
   "cell_type": "code",
   "execution_count": null,
   "id": "crude-lightning",
   "metadata": {},
   "outputs": [],
   "source": [
    "fig, ax = plt.subplots(figsize = (12, 12))\n",
    "sns.stripplot(x = 'instance', y = 'cluster', hue = 'cluster', dodge = False, data = df_temp, ax = ax)\n",
    "plt.yticks(range(nclusters), range(nclusters))\n",
    "plt.title('Cluter distribution before and after for shale sample sh_1')\n",
    "plt.savefig(os.path.join(figspath, 'sh-1_kmeans_stripplot.png'), dpi = 300, bbox_inches = 'tight')"
   ]
  },
  {
   "cell_type": "code",
   "execution_count": null,
   "id": "boolean-break",
   "metadata": {},
   "outputs": [],
   "source": [
    "fig, ax = plt.subplots(figsize = (12, 12))\n",
    "sns.violinplot(x = 'family', y = 'cluster', hue = 'instance', data = df_temp, split = True, orient = 'v', inner = 'quartile', scale = 'count', ax = ax)\n",
    "plt.xlabel('')\n",
    "plt.xticks([0], [''])\n",
    "plt.yticks([0, 1, 2, 3], [0, 1, 2, 3])\n",
    "plt.title('Cluter distribution before and after for shale sample sh_1')\n",
    "plt.savefig(os.path.join(figspath, 'sh-1_kmeans_violinplot.png'), dpi = 300, bbox_inches = 'tight')"
   ]
  },
  {
   "cell_type": "code",
   "execution_count": null,
   "id": "existing-arbor",
   "metadata": {},
   "outputs": [],
   "source": [
    "perplexity = p = 50\n",
    "neighbors = int(3 * p)\n",
    "print('neighbors = %d' % (neighbors))\n",
    "tsne = TSNE(n_components = 2, n_iter = 10000, angle = 0.8, n_neighbors = neighbors, perplexity = p, random_state = 5, learning_rate = 10, method = 'exact')\n",
    "\n",
    "X_hat = tsne.fit_transform(df_temp.iloc[:, 5:-1].values)"
   ]
  },
  {
   "cell_type": "code",
   "execution_count": null,
   "id": "specified-banana",
   "metadata": {},
   "outputs": [],
   "source": [
    "x_hat = pd.concat([df_temp.loc[:, left_cols], pd.DataFrame(X_hat, columns = ['u', 'v'])], axis = 1)\n",
    "\n",
    "fig, ax = plt.subplots(ncols = 2, figsize = (24, 13), sharey = True)\n",
    "plt.subplots_adjust(wspace = 0.05)\n",
    "sns.scatterplot(x = 'u', y = 'v', hue = 'cluster', data = x_hat.query(\"instance == 'before'\"), ax = ax[0], palette = 'viridis', legend = 'full')\n",
    "sns.scatterplot(x = 'u', y = 'v', hue = 'cluster', data = x_hat.query(\"instance == 'after' \"), ax = ax[1], palette = 'viridis', legend = 'full')\n",
    "ax[0].set_title('before')\n",
    "ax[1].set_title('after')\n",
    "fig.suptitle('tSNE before & after for shale sample sh_1, perplexity = ' + str(p), fontsize = 12, fontweight = 'bold', y = 0.92)\n",
    "plt.savefig(os.path.join(figspath, 'sh-1_tsne.png'), dpi = 300, bbox_inches = 'tight')"
   ]
  },
  {
   "cell_type": "code",
   "execution_count": null,
   "id": "compressed-grammar",
   "metadata": {},
   "outputs": [],
   "source": [
    "df_temp = df_ftir.query(\"family == 'shale'\").copy()\n",
    "df_temp.reset_index(drop = True, inplace = True)"
   ]
  },
  {
   "cell_type": "code",
   "execution_count": null,
   "id": "statewide-professional",
   "metadata": {},
   "outputs": [],
   "source": [
    "nclusters = 10\n",
    "kmeans_sh = KMeans(n_clusters = nclusters, max_iter = 10000, init = 'scalable-k-means++', n_init = 10)\n",
    "kmeans_sh.fit(df_temp.iloc[:, 5:-1])\n",
    "df_temp.loc[:, 'cluster'] = kmeans_sh.labels_"
   ]
  },
  {
   "cell_type": "code",
   "execution_count": null,
   "id": "activated-illinois",
   "metadata": {},
   "outputs": [],
   "source": [
    "fig, ax = plt.subplots(figsize = (12, 12))\n",
    "sns.stripplot(x = 'instance', y = 'cluster', hue = 'cluster', dodge = False, data = df_temp, ax = ax)\n",
    "plt.yticks(range(nclusters), range(nclusters))\n",
    "plt.title('Cluster distribution before and after for shale samples')\n",
    "plt.savefig(os.path.join(figspath, 'shale_kmeans_stripplot.png'), dpi = 300, bbox_inches = 'tight')"
   ]
  },
  {
   "cell_type": "code",
   "execution_count": null,
   "id": "sustained-measure",
   "metadata": {},
   "outputs": [],
   "source": [
    "fig, ax = plt.subplots(figsize = (12, 12))\n",
    "sns.violinplot(x = 'family', y = 'cluster', hue = 'instance', data = df_temp, split = True, orient = 'v', inner = 'quartile', scale = 'count', ax = ax)\n",
    "plt.xlabel('')\n",
    "plt.xticks([0], [''])\n",
    "plt.yticks(range(nclusters), range(nclusters))\n",
    "plt.title('Cluster distribution before and after for shale samples')\n",
    "plt.savefig(os.path.join(figspath, 'shale_kmeans_violinplot.png'), dpi = 300, bbox_inches = 'tight')"
   ]
  },
  {
   "cell_type": "code",
   "execution_count": null,
   "id": "large-application",
   "metadata": {},
   "outputs": [],
   "source": [
    "perplexity = p = 50\n",
    "neighbors = int(3 * p)\n",
    "tsne = TSNE(n_components = 2, n_iter = 10000, angle = 0.8, n_neighbors = neighbors, perplexity = p, random_state = 5, learning_rate = 10, method = 'exact')\n",
    "X_hat = tsne.fit_transform(df_temp.iloc[:, 5:-1].values)"
   ]
  },
  {
   "cell_type": "code",
   "execution_count": null,
   "id": "grateful-trunk",
   "metadata": {},
   "outputs": [],
   "source": [
    "x_hat = pd.concat([df_temp.loc[:, left_cols], pd.DataFrame(X_hat, columns = ['u', 'v'])], axis = 1)\n",
    "\n",
    "fig, ax = plt.subplots(ncols = 2, figsize = (24, 13), sharey = True)\n",
    "plt.subplots_adjust(wspace = 0.05)\n",
    "sns.scatterplot(x = 'u', y = 'v', hue = 'cluster', data = x_hat.query(\"instance == 'before'\"), ax = ax[0], palette = 'viridis', legend = 'full')\n",
    "sns.scatterplot(x = 'u', y = 'v', hue = 'cluster', data = x_hat.query(\"instance == 'after' \"), ax = ax[1], palette = 'viridis', legend = 'full')\n",
    "ax[0].set_title('before')\n",
    "ax[1].set_title('after')\n",
    "fig.suptitle('tSNE before & after for shale samples, perplexity = ' + str(p), fontsize = 12, fontweight = 'bold', y = 0.92)\n",
    "plt.savefig(os.path.join(figspath, 'shale_tsne.png'), dpi = 300, bbox_inches = 'tight')"
   ]
  },
  {
   "cell_type": "code",
   "execution_count": null,
   "id": "invisible-cartridge",
   "metadata": {},
   "outputs": [],
   "source": []
  }
 ],
 "metadata": {
  "kernelspec": {
   "display_name": "Python [conda env:rapids-0.18]",
   "language": "python",
   "name": "conda-env-rapids-0.18-py"
  },
  "language_info": {
   "codemirror_mode": {
    "name": "ipython",
    "version": 3
   },
   "file_extension": ".py",
   "mimetype": "text/x-python",
   "name": "python",
   "nbconvert_exporter": "python",
   "pygments_lexer": "ipython3",
   "version": "3.8.8"
  }
 },
 "nbformat": 4,
 "nbformat_minor": 5
}
