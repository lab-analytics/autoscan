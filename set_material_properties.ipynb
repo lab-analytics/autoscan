{
 "cells": [
  {
   "cell_type": "code",
   "execution_count": 1,
   "id": "athletic-shower",
   "metadata": {},
   "outputs": [],
   "source": [
    "import os, sys, pathlib\n",
    "import pandas as pd\n",
    "\n",
    "# define the current path (notebooks in lab_utils)\n",
    "labutilspath = str(pathlib.Path(os.getcwd()).parents[1])\n",
    "sys.path.append(labutilspath)\n",
    "\n",
    "# import the autoscan routines\n",
    "from autoscan import autoscan\n",
    "\n",
    "pp = autoscan.basics()\n",
    "idx = pd.IndexSlice"
   ]
  },
  {
   "cell_type": "code",
   "execution_count": 4,
   "id": "million-demonstration",
   "metadata": {},
   "outputs": [
    {
     "data": {
      "text/html": [
       "<div>\n",
       "<style scoped>\n",
       "    .dataframe tbody tr th:only-of-type {\n",
       "        vertical-align: middle;\n",
       "    }\n",
       "\n",
       "    .dataframe tbody tr th {\n",
       "        vertical-align: top;\n",
       "    }\n",
       "\n",
       "    .dataframe thead th {\n",
       "        text-align: right;\n",
       "    }\n",
       "</style>\n",
       "<table border=\"1\" class=\"dataframe\">\n",
       "  <thead>\n",
       "    <tr style=\"text-align: right;\">\n",
       "      <th></th>\n",
       "      <th></th>\n",
       "      <th></th>\n",
       "      <th>class</th>\n",
       "      <th>family</th>\n",
       "      <th>genus</th>\n",
       "      <th>long_name</th>\n",
       "      <th>origin</th>\n",
       "      <th>provenance</th>\n",
       "      <th>code</th>\n",
       "      <th>rho</th>\n",
       "    </tr>\n",
       "    <tr>\n",
       "      <th>family</th>\n",
       "      <th>genus</th>\n",
       "      <th>tag</th>\n",
       "      <th></th>\n",
       "      <th></th>\n",
       "      <th></th>\n",
       "      <th></th>\n",
       "      <th></th>\n",
       "      <th></th>\n",
       "      <th></th>\n",
       "      <th></th>\n",
       "    </tr>\n",
       "  </thead>\n",
       "  <tbody>\n",
       "    <tr>\n",
       "      <th rowspan=\"3\" valign=\"top\">carbonate</th>\n",
       "      <th>scale</th>\n",
       "      <th>sccaco</th>\n",
       "      <td>na</td>\n",
       "      <td>carbonate</td>\n",
       "      <td>scale</td>\n",
       "      <td>scale calcium carbonate</td>\n",
       "      <td>sau</td>\n",
       "      <td>field</td>\n",
       "      <td>sc</td>\n",
       "      <td>2.600</td>\n",
       "    </tr>\n",
       "    <tr>\n",
       "      <th>unkown</th>\n",
       "      <th>cb</th>\n",
       "      <td>na</td>\n",
       "      <td>carbonate</td>\n",
       "      <td>unkown</td>\n",
       "      <td>carbonate unkown</td>\n",
       "      <td>sau</td>\n",
       "      <td>field</td>\n",
       "      <td>cb</td>\n",
       "      <td>2.580</td>\n",
       "    </tr>\n",
       "    <tr>\n",
       "      <th>limestone</th>\n",
       "      <th>lsy</th>\n",
       "      <td>na</td>\n",
       "      <td>carbonate</td>\n",
       "      <td>limestone</td>\n",
       "      <td>limestone yellow</td>\n",
       "      <td>usa</td>\n",
       "      <td>outcrop</td>\n",
       "      <td>ls</td>\n",
       "      <td>2.002</td>\n",
       "    </tr>\n",
       "    <tr>\n",
       "      <th>sandstone</th>\n",
       "      <th>sg sandstone</th>\n",
       "      <th>wsg</th>\n",
       "      <td>na</td>\n",
       "      <td>sandstone</td>\n",
       "      <td>sg sandstone</td>\n",
       "      <td>saudi sandstone</td>\n",
       "      <td>sau</td>\n",
       "      <td>field</td>\n",
       "      <td>sg</td>\n",
       "      <td>2.320</td>\n",
       "    </tr>\n",
       "    <tr>\n",
       "      <th>shale</th>\n",
       "      <th>shale</th>\n",
       "      <th>sh</th>\n",
       "      <td>na</td>\n",
       "      <td>shale</td>\n",
       "      <td>shale</td>\n",
       "      <td>shale</td>\n",
       "      <td>sau</td>\n",
       "      <td>field</td>\n",
       "      <td>sh</td>\n",
       "      <td>2.590</td>\n",
       "    </tr>\n",
       "  </tbody>\n",
       "</table>\n",
       "</div>"
      ],
      "text/plain": [
       "                              class     family         genus  \\\n",
       "family    genus        tag                                     \n",
       "carbonate scale        sccaco    na  carbonate         scale   \n",
       "          unkown       cb        na  carbonate        unkown   \n",
       "          limestone    lsy       na  carbonate     limestone   \n",
       "sandstone sg sandstone wsg       na  sandstone  sg sandstone   \n",
       "shale     shale        sh        na      shale         shale   \n",
       "\n",
       "                                             long_name origin provenance code  \\\n",
       "family    genus        tag                                                      \n",
       "carbonate scale        sccaco  scale calcium carbonate    sau      field   sc   \n",
       "          unkown       cb             carbonate unkown    sau      field   cb   \n",
       "          limestone    lsy            limestone yellow    usa    outcrop   ls   \n",
       "sandstone sg sandstone wsg             saudi sandstone    sau      field   sg   \n",
       "shale     shale        sh                        shale    sau      field   sh   \n",
       "\n",
       "                                 rho  \n",
       "family    genus        tag            \n",
       "carbonate scale        sccaco  2.600  \n",
       "          unkown       cb      2.580  \n",
       "          limestone    lsy     2.002  \n",
       "sandstone sg sandstone wsg     2.320  \n",
       "shale     shale        sh      2.590  "
      ]
     },
     "execution_count": 4,
     "metadata": {},
     "output_type": "execute_result"
    }
   ],
   "source": [
    "df_rock_info = pp.read_materials_dataframe()\n",
    "df_rock_info.sample(5)"
   ]
  },
  {
   "cell_type": "code",
   "execution_count": 5,
   "id": "working-salad",
   "metadata": {},
   "outputs": [],
   "source": [
    "df_rock_info.loc[idx['sandstone', :, :], 'rho'] = 2.6\n",
    "df_rock_info.loc[idx['carbonate', 'limestone', :], 'rho'] = 2.56\n",
    "df_rock_info.loc[idx['carbonate', 'dolomite', :], 'rho']  = 2.85\n",
    "df_rock_info.loc[idx[:, :, ['sh', 'eur', 'un']], 'rho']   = 2.590\n",
    "df_rock_info.loc[idx[:, :, 'ah'], 'rho']   = 2.930\n",
    "df_rock_info.loc[idx[:, :, 'wsg'], 'rho']  = 2.320\n",
    "df_rock_info.loc[idx[:, :, 'lsi'], 'rho']  = 2.710\n",
    "df_rock_info.loc[idx[:, :, 'lsp'], 'rho']  = 2.640\n",
    "df_rock_info.loc[idx[:, :, 'lsy'], 'rho']  = 2.002\n",
    "df_rock_info.loc[idx[:, :, 'lsu'], 'rho']  = 2.260\n",
    "df_rock_info.loc[idx[:, :, 'lssy'], 'rho'] = 2.420\n",
    "df_rock_info.loc[idx[:, :, 'lssw'], 'rho'] = 2.420\n",
    "df_rock_info.loc[idx[:, :, 'bg'], 'rho']   = 2.140\n",
    "df_rock_info.loc[idx[:, :, 'cb'], 'rho']   = 2.580\n",
    "df_rock_info.loc[idx[:, :, 'mb'], 'rho']   = 2.520\n",
    "df_rock_info.loc[idx[:, :, 'sccaco'], 'rho'] = 2.600\n",
    "df_rock_info.loc[idx[:, 'steel', :], 'rho']  = 7.85"
   ]
  },
  {
   "cell_type": "code",
   "execution_count": null,
   "id": "stuck-huntington",
   "metadata": {},
   "outputs": [],
   "source": [
    "pp.update_rock_dict_from_df()"
   ]
  },
  {
   "cell_type": "code",
   "execution_count": 8,
   "id": "fifty-smart",
   "metadata": {},
   "outputs": [
    {
     "data": {
      "text/plain": [
       "2.71"
      ]
     },
     "execution_count": 8,
     "metadata": {},
     "output_type": "execute_result"
    }
   ],
   "source": [
    "pp.get_material_density('lsi')"
   ]
  },
  {
   "cell_type": "code",
   "execution_count": null,
   "id": "labeled-certification",
   "metadata": {},
   "outputs": [],
   "source": [
    "pp.ge"
   ]
  }
 ],
 "metadata": {
  "kernelspec": {
   "display_name": "Python [conda env:numerics] *",
   "language": "python",
   "name": "conda-env-numerics-py"
  },
  "language_info": {
   "codemirror_mode": {
    "name": "ipython",
    "version": 3
   },
   "file_extension": ".py",
   "mimetype": "text/x-python",
   "name": "python",
   "nbconvert_exporter": "python",
   "pygments_lexer": "ipython3",
   "version": "3.9.1"
  }
 },
 "nbformat": 4,
 "nbformat_minor": 5
}
