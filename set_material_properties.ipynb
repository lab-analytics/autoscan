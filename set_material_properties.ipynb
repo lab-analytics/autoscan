{
 "cells": [
  {
   "cell_type": "code",
   "execution_count": null,
   "id": "urban-journey",
   "metadata": {},
   "outputs": [],
   "source": [
    "import os, sys, pathlib\n",
    "import pandas as pd\n",
    "\n",
    "# define the current path (notebooks in lab_utils)\n",
    "labutilspath = str(pathlib.Path(os.getcwd()).parents[1])\n",
    "sys.path.append(labutilspath)\n",
    "\n",
    "# import the autoscan routines\n",
    "from autoscan import autoscan\n",
    "\n",
    "pp = autoscan.basics()\n",
    "idx = pd.IndexSlice"
   ]
  },
  {
   "cell_type": "code",
   "execution_count": null,
   "id": "blond-firewall",
   "metadata": {},
   "outputs": [],
   "source": [
    "df_rock_info = pp.load_materials_dataframe()\n",
    "df_rock_info.sample(5)"
   ]
  },
  {
   "cell_type": "code",
   "execution_count": null,
   "id": "concrete-exchange",
   "metadata": {},
   "outputs": [],
   "source": [
    "df_rock_info.loc[idx['sandstone', :, :], 'rho'] = 2.6\n",
    "df_rock_info.loc[idx['carbonate', 'limestone', :], 'rho'] = 2.56\n",
    "df_rock_info.loc[idx['carbonate', 'dolomite', :], 'rho']  = 2.85\n",
    "df_rock_info.loc[idx[:, :, ['sh', 'eur', 'un']], 'rho']   = 2.590\n",
    "df_rock_info.loc[idx[:, :, 'ah'], 'rho']   = 2.930\n",
    "df_rock_info.loc[idx[:, :, 'wsg'], 'rho']  = 2.320\n",
    "df_rock_info.loc[idx[:, :, 'lsi'], 'rho']  = 2.710\n",
    "df_rock_info.loc[idx[:, :, 'lsp'], 'rho']  = 2.640\n",
    "df_rock_info.loc[idx[:, :, 'lsy'], 'rho']  = 2.002\n",
    "df_rock_info.loc[idx[:, :, 'lsu'], 'rho']  = 2.260\n",
    "df_rock_info.loc[idx[:, :, 'lssy'], 'rho'] = 2.420\n",
    "df_rock_info.loc[idx[:, :, 'lssw'], 'rho'] = 2.420\n",
    "df_rock_info.loc[idx[:, :, 'bg'], 'rho']   = 2.140\n",
    "df_rock_info.loc[idx[:, :, 'cb'], 'rho']   = 2.580\n",
    "df_rock_info.loc[idx[:, :, 'mb'], 'rho']   = 2.520\n",
    "df_rock_info.loc[idx[:, :, 'sccaco'], 'rho'] = 2.600\n",
    "df_rock_info.loc[idx[:, 'steel', :], 'rho']  = 7.85"
   ]
  },
  {
   "cell_type": "code",
   "execution_count": null,
   "id": "coastal-windsor",
   "metadata": {},
   "outputs": [],
   "source": [
    "pp.update_rock_dict_from_df()"
   ]
  },
  {
   "cell_type": "code",
   "execution_count": null,
   "id": "trying-soldier",
   "metadata": {},
   "outputs": [],
   "source": []
  }
 ],
 "metadata": {
  "kernelspec": {
   "display_name": "Python [conda env:numerics] *",
   "language": "python",
   "name": "conda-env-numerics-py"
  },
  "language_info": {
   "codemirror_mode": {
    "name": "ipython",
    "version": 3
   },
   "file_extension": ".py",
   "mimetype": "text/x-python",
   "name": "python",
   "nbconvert_exporter": "python",
   "pygments_lexer": "ipython3",
   "version": "3.9.1"
  }
 },
 "nbformat": 4,
 "nbformat_minor": 5
}
