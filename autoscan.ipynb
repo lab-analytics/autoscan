{
 "cells": [
  {
   "cell_type": "code",
   "execution_count": null,
   "metadata": {},
   "outputs": [],
   "source": [
    "%matplotlib inline\n",
    "import os, shutil, warnings, string\n",
    "import pandas as pd\n",
    "import deepdish as dp\n",
    "import numpy as np\n",
    "import re\n",
    "import fnmatch\n",
    "\n",
    "# libs for plotting\n",
    "import bokeh\n",
    "from bokeh.plotting import figure, output_file, show\n",
    "from bokeh.io import output_notebook\n",
    "from bokeh.models.tools import HoverTool\n",
    "from bokeh.models import LinearColorMapper, ColorBar, BasicTicker, Select, PrintfTickFormatter\n",
    "from bokeh.transform import jitter\n",
    "from bokeh.sampledata.commits import data\n",
    "from bokeh.palettes import brewer\n",
    "import holoviews\n",
    "\n",
    "# libs for stats\n",
    "import time\n",
    "from sklearn.manifold import TSNE\n",
    "\n",
    "# print in notebok\n",
    "output_notebook()"
   ]
  },
  {
   "cell_type": "code",
   "execution_count": null,
   "metadata": {},
   "outputs": [],
   "source": [
    "datapath = '/Volumes/extreme/repos/lab-data/characterization/autoscan/'\n",
    "datapath_processed = 'processed'\n",
    "datapath_raw       = 'raw'\n",
    "datapath_generic   = '_generic*'\n",
    "datapath_fluids    = '_fluids'\n",
    "datapath_analysis  = '_analysis'\n",
    "datapath_exclude   = ['special-studies',datapath_raw,datapath_generic,datapath_analysis,'*layout*']\n",
    "files_exclude      = ['.*','_*','*.asd','*.tcl']\n",
    "files_include      = ['*.csv']"
   ]
  },
  {
   "cell_type": "markdown",
   "metadata": {},
   "source": [
    "## List and correct filenames (enforce patterns)\n",
    "\n",
    "1. Read the _csv_ files in the `datapath`\n",
    "1. Find whether each file has the word `before` or `after`\n",
    "1. If not, then add `before` as default\n",
    "1. Fix all file names such that they follow `probe-before|after-side.csv` "
   ]
  },
  {
   "cell_type": "code",
   "execution_count": null,
   "metadata": {},
   "outputs": [],
   "source": [
    "def _rename_file(root,fname_old, fname_new):\n",
    "    oldname = os.path.join(root,fname_old)\n",
    "    newname = os.path.join(root,fname_new)\n",
    "    shutil.move(oldname,newname)\n",
    "    return\n",
    "\n",
    "def add_before_fname(fname,root,dryrun=False, debug=False):\n",
    "    name2 = re.sub(r'(perm|vel|impulse|ftir).*([a-z]+)[.]([a-z]+)',r'\\1-before-\\2.\\3',fname)\n",
    "    if debug: print(fname, name2, sep='\\t')\n",
    "    if not dryrun:\n",
    "        _rename_file(root, fname, name2)\n",
    "    return name2\n",
    "\n",
    "def swap_instance_fname(fname,root,dryrun=False, debug=False):\n",
    "    name2 = re.sub(r'(perm|vel|impulse|ftir)-([a-z]+|[0-9]+)-.*(before|after).*[.]([a-z]+)',r'\\1-\\3-\\2.\\4',\n",
    "                   fname)\n",
    "    if debug: print(fname,name2,sep='\\t')\n",
    "    if not dryrun:\n",
    "        _rename_file(root, fname, name2)\n",
    "    return name2\n",
    "def check_autoscan_fname(fname, root, dryrun=False, debug=False):\n",
    "    instance = None\n",
    "    if (not 'before' in fname) and (not 'after' in fname):\n",
    "        warnings.warn('before or after not found in ' + fname)\n",
    "        fname = add_before_fname(fname, root, dryrun=dryrun, debug=debug)\n",
    "\n",
    "    instance = re.findall('before|after',fname)\n",
    "    if len(instance)==1:\n",
    "        instance = instance[0]\n",
    "        # if debug: print(instance, fname, sep='\\t')\n",
    "        if len(fname.split('-'))>2:\n",
    "            tst = re.match(r'(perm|vel|impulse|ftir)-(before|after).*([a-z]+)[.]([a-z]+)', fname)\n",
    "            if tst is None:\n",
    "                fname = swap_instance_fname(fname, root, dryrun=dryrun, debug=debug)\n",
    "    else:\n",
    "        if len(instance)>1:\n",
    "            warning = fname + ' has more than one instance: ' + ', '.join(instance)\n",
    "            warning = warning + ' and cannot choose! \\n check ' + os.path.join(root,fname) \n",
    "        if len(instance)==0:\n",
    "            warning = fname + ' not in either category (!) \\n please review!'\n",
    "        warnings.warn(warning)\n",
    "    return instance, fname"
   ]
  },
  {
   "cell_type": "code",
   "execution_count": null,
   "metadata": {},
   "outputs": [],
   "source": [
    "dryrun = True\n",
    "debug  = True\n",
    "\n",
    "excludes = r'|'.join([fnmatch.translate(x) for x in files_exclude]) or r'$.'\n",
    "includes = r'|'.join([fnmatch.translate(x) for x in files_include]) or r'$.'\n",
    "\n",
    "df = pd.DataFrame(columns=['probe','sample-tag','subsample-tag','side','instance','fname','relroot'])\n",
    "\n",
    "for root, dirs, files in os.walk(datapath):\n",
    "    [dirs.remove(d) for d in list(dirs) if d in datapath_exclude]\n",
    "    files = [f for f in files if not re.match(excludes, f)]\n",
    "    files = [f for f in files if re.match(includes, f)]\n",
    "    for fname in files:\n",
    "        # if debug: print(root, fname)\n",
    "        instance,fname = check_autoscan_fname(fname, root, dryrun=dryrun, debug=debug)\n",
    "        # determine sample name\n",
    "        sample_tag = root.split('/')[len(datapath.split('/'))-1]\n",
    "        # determine if the file is subsample or sample\n",
    "        subornot = re.findall('subsample',root)\n",
    "        if len(subornot)==1:\n",
    "            subornot = subornot[0]\n",
    "            subsample_tag = root.split('/')[-2]\n",
    "        else:\n",
    "            subsample_tag = ''\n",
    "        side = ''\n",
    "        if len(fname.split('-'))>2:\n",
    "            side = fname.split('-')[-1].lower().replace('.csv','')\n",
    "\n",
    "        df = df.append({\n",
    "            'probe':re.findall(r'perm|vel|impulse|ftir',fname)[0],\n",
    "            'sample-tag':sample_tag,\n",
    "            'subsample-tag':subsample_tag,\n",
    "            'side':side,\n",
    "            'instance':instance,\n",
    "            'fname':fname,\n",
    "            'relroot':os.path.relpath(os.path.join(root,fname),start=datapath)\n",
    "        }, ignore_index=True)\n",
    "df.sort_values(by=['sample-tag','subsample-tag','probe','side'], inplace=True)\n",
    "df.reset_index(inplace=True, drop=True)"
   ]
  },
  {
   "cell_type": "code",
   "execution_count": null,
   "metadata": {},
   "outputs": [],
   "source": [
    "for tag in df['sample-tag'].unique():\n",
    "    df_tag = df.loc[df['sample-tag']==tag,:].copy()\n",
    "    for subtag in df_tag['subsample-tag'].unique():\n",
    "        print(tag,subtag, sep='\\t')"
   ]
  },
  {
   "cell_type": "code",
   "execution_count": null,
   "metadata": {},
   "outputs": [],
   "source": [
    "dt = df.loc[(df['sample-tag']=='BG-00003') & (df['probe']=='perm'),:].copy()"
   ]
  },
  {
   "cell_type": "code",
   "execution_count": null,
   "metadata": {},
   "outputs": [],
   "source": [
    "dfs = []\n",
    "for relroot in dt['relroot']:\n",
    "    fpath = os.path.join(datapath,relroot)\n",
    "    dperm = pd.read_csv(fpath, skiprows=7, usecols=[0,1,2,12], names = ['x','y','permeability','tile'])\n",
    "    dperm = dperm.apply(pd.to_numeric,errors='coerce').dropna()\n",
    "    for key in ['subsample-tag','side','instance']:\n",
    "        dperm[key] = dt.loc[dt['relroot']==relroot,key].values[0]\n",
    "    dfs.append(dperm)\n",
    "dperm = pd.concat(dfs)"
   ]
  },
  {
   "cell_type": "code",
   "execution_count": null,
   "metadata": {},
   "outputs": [],
   "source": [
    "np.average(dperm.loc[dperm['instance']=='before','permeability'].values)#.apply(np.average)"
   ]
  },
  {
   "cell_type": "code",
   "execution_count": null,
   "metadata": {},
   "outputs": [],
   "source": [
    "np.average(dperm.loc[dperm['instance']=='after','permeability'].values)"
   ]
  },
  {
   "cell_type": "code",
   "execution_count": null,
   "metadata": {},
   "outputs": [],
   "source": [
    "dfb = dperm.loc[dperm['instance']=='before', :].copy()\n",
    "for side in dfb['side'].unique():\n",
    "    dfb.loc[dfb['side']==side,['x','y','permeability']].to_csv(\n",
    "        os.path.join(datapath, 'BG-00003','_analysis','before-' + side + '.csv'), index=False)"
   ]
  },
  {
   "cell_type": "code",
   "execution_count": null,
   "metadata": {},
   "outputs": [],
   "source": [
    "dfb = dperm.loc[dperm['instance']=='after', :].copy()\n",
    "for side in dfb['side'].unique():\n",
    "    dfb.loc[dfb['side']==side,['x','y','permeability']].to_csv(\n",
    "        os.path.join(datapath, 'BG-00003','_analysis','after' + side + '.csv'), index=False)"
   ]
  },
  {
   "cell_type": "code",
   "execution_count": null,
   "metadata": {},
   "outputs": [],
   "source": [
    "dfb = dperm.loc[dperm['instance']=='before', :].copy()\n",
    "cmax = dfb.loc[dfb['side']=='b', 'x'].max(axis=0)"
   ]
  },
  {
   "cell_type": "code",
   "execution_count": null,
   "metadata": {},
   "outputs": [],
   "source": [
    "dfb = dperm.loc[dperm['instance']=='before', :].copy()\n",
    "dfb.loc[dfb['side']=='a', 'z'] = dfb.loc[dfb['side']=='d', 'x'].max(axis=0)\n",
    "dfb.loc[dfb['side']=='c', 'z'] = 0.\n",
    "dfb.loc[dfb['side']=='b', 'z'] = dfb.loc[dfb['side']=='b', 'x'].values\n",
    "dfb.loc[dfb['side']=='b', 'x'] = dfb.loc[dfb['side']=='d', 'x'].max(axis=0)\n",
    "dfb.loc[dfb['side']=='d', 'z'] = dfb.loc[dfb['side']=='d', 'x'].values\n",
    "dfb.loc[dfb['side']=='d', 'x'] = 0.\n",
    "dfb = dfb.loc[:,['x','y','z','permeability']].copy()\n",
    "dfb.to_csv(os.path.join(datapath, 'BG-00003','_analysis','before.csv'))"
   ]
  },
  {
   "cell_type": "code",
   "execution_count": null,
   "metadata": {},
   "outputs": [],
   "source": [
    "from mpl_toolkits.mplot3d import Axes3D\n",
    "import matplotlib.pyplot as plt"
   ]
  },
  {
   "cell_type": "code",
   "execution_count": null,
   "metadata": {},
   "outputs": [],
   "source": [
    "fig = plt.figure(figsize=(15,10))\n",
    "ax = fig.add_subplot(111, projection='3d')\n",
    "ax.scatter(dfb.x.values, dfb.y.values, dfb.z.values, c=dfb.permeability.values)"
   ]
  },
  {
   "cell_type": "code",
   "execution_count": null,
   "metadata": {},
   "outputs": [],
   "source": [
    "dfa = dperm.loc[dperm['instance']=='after', :].copy()\n",
    "dfa['z'] = dfb.loc[:, 'z'].max(axis=0)/2.\n",
    "dfa = dfa.loc[:,['x','y','z','permeability']].copy()\n",
    "dfa.to_csv(os.path.join(datapath, 'BG-00003','_analysis','after.csv'))"
   ]
  },
  {
   "cell_type": "code",
   "execution_count": null,
   "metadata": {},
   "outputs": [],
   "source": [
    "fig = plt.figure(figsize=(15,10))\n",
    "ax = fig.add_subplot(111, projection='3d')\n",
    "ax.scatter(dfa.x.values, dfa.y.values, dfa.z.values, c=dfa.permeability.values)"
   ]
  },
  {
   "cell_type": "code",
   "execution_count": null,
   "metadata": {},
   "outputs": [],
   "source": [
    "dfc = pd.concat([dfa,dfb], ignore_index=True)\n",
    "dfa.to_csv(os.path.join(datapath, 'BG-00003','_analysis','before-and-after.csv'))"
   ]
  },
  {
   "cell_type": "code",
   "execution_count": null,
   "metadata": {},
   "outputs": [],
   "source": [
    "fig = plt.figure(figsize=(15,10))\n",
    "ax = fig.add_subplot(111, projection='3d')\n",
    "ax.scatter(dfc.x.values, dfc.y.values, dfc.z.values, c=dfc.permeability.values)"
   ]
  },
  {
   "cell_type": "code",
   "execution_count": null,
   "metadata": {},
   "outputs": [],
   "source": [
    "dfa.permeability.max(axis=0)"
   ]
  },
  {
   "cell_type": "code",
   "execution_count": null,
   "metadata": {},
   "outputs": [],
   "source": [
    "dfb.permeability.max(axis=0)"
   ]
  },
  {
   "cell_type": "code",
   "execution_count": null,
   "metadata": {},
   "outputs": [],
   "source": [
    "dfb.to_csv?"
   ]
  },
  {
   "cell_type": "code",
   "execution_count": null,
   "metadata": {},
   "outputs": [],
   "source": []
  }
 ],
 "metadata": {
  "kernelspec": {
   "display_name": "Python 3",
   "language": "python",
   "name": "python3"
  },
  "language_info": {
   "codemirror_mode": {
    "name": "ipython",
    "version": 3
   },
   "file_extension": ".py",
   "mimetype": "text/x-python",
   "name": "python",
   "nbconvert_exporter": "python",
   "pygments_lexer": "ipython3",
   "version": "3.7.3"
  }
 },
 "nbformat": 4,
 "nbformat_minor": 2
}
